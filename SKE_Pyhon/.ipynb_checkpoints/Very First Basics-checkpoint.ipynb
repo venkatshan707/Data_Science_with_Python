{
 "cells": [
  {
   "cell_type": "markdown",
   "metadata": {},
   "source": [
    "# Basics"
   ]
  },
  {
   "cell_type": "code",
   "execution_count": 6,
   "metadata": {},
   "outputs": [
    {
     "data": {
      "text/plain": [
       "7"
      ]
     },
     "execution_count": 6,
     "metadata": {},
     "output_type": "execute_result"
    }
   ],
   "source": [
    "15-8"
   ]
  },
  {
   "cell_type": "code",
   "execution_count": 9,
   "metadata": {},
   "outputs": [
    {
     "data": {
      "text/plain": [
       "517"
      ]
     },
     "execution_count": 9,
     "metadata": {},
     "output_type": "execute_result"
    }
   ],
   "source": [
    "47*11"
   ]
  },
  {
   "cell_type": "code",
   "execution_count": 11,
   "metadata": {},
   "outputs": [
    {
     "name": "stdout",
     "output_type": "stream",
     "text": [
      "Hi How are you ?\n",
      "I am Fine\n"
     ]
    }
   ],
   "source": [
    "print (\"Hi How are you ?\")\n",
    "print (\"I am Fine\")"
   ]
  },
  {
   "cell_type": "markdown",
   "metadata": {},
   "source": [
    "# Printing Variable values"
   ]
  },
  {
   "cell_type": "code",
   "execution_count": 14,
   "metadata": {},
   "outputs": [
    {
     "name": "stdout",
     "output_type": "stream",
     "text": [
      "The output of a is:  11 we got\n"
     ]
    }
   ],
   "source": [
    "a = 5+6 \n",
    "print (\"The output of a is: \",a , \"we got\")"
   ]
  },
  {
   "cell_type": "code",
   "execution_count": 16,
   "metadata": {},
   "outputs": [
    {
     "name": "stdout",
     "output_type": "stream",
     "text": [
      "Please enter integer input for a:45\n",
      "Please enter integer value for b:42\n",
      "When we are adding a value:  45 & b value: 42 \n",
      " we got result as:  87\n"
     ]
    }
   ],
   "source": [
    "a = int (input (\"Please enter integer input for a:\"))\n",
    "b= int (input (\"Please enter integer value for b:\"))\n",
    "result = a+b\n",
    "print (\"When we are adding a value: \", a, \"& b value:\", b, \"\\n we got result as: \", result)"
   ]
  },
  {
   "cell_type": "code",
   "execution_count": 66,
   "metadata": {},
   "outputs": [
    {
     "name": "stdout",
     "output_type": "stream",
     "text": [
      "My Number is 27 and my name is venkat\n",
      "My Number is 27 and my name is venkat and one more time ny Num is 27\n"
     ]
    }
   ],
   "source": [
    "mynum = 27\n",
    "myname = \"venkat\"\n",
    "print (\"My Number is {} and my name is {}\".format(mynum, myname))# Smart way of printing\n",
    "print (\"My Number is {one} and my name is {two} and one more time ny Num is {one}\".format(one =mynum, two =myname))"
   ]
  },
  {
   "cell_type": "markdown",
   "metadata": {},
   "source": [
    "## Type Function"
   ]
  },
  {
   "cell_type": "code",
   "execution_count": 1,
   "metadata": {},
   "outputs": [
    {
     "data": {
      "text/plain": [
       "int"
      ]
     },
     "execution_count": 1,
     "metadata": {},
     "output_type": "execute_result"
    }
   ],
   "source": [
    "type (10)"
   ]
  },
  {
   "cell_type": "code",
   "execution_count": 2,
   "metadata": {},
   "outputs": [
    {
     "data": {
      "text/plain": [
       "float"
      ]
     },
     "execution_count": 2,
     "metadata": {},
     "output_type": "execute_result"
    }
   ],
   "source": [
    "type (10.0)"
   ]
  },
  {
   "cell_type": "code",
   "execution_count": 4,
   "metadata": {},
   "outputs": [
    {
     "data": {
      "text/plain": [
       "str"
      ]
     },
     "execution_count": 4,
     "metadata": {},
     "output_type": "execute_result"
    }
   ],
   "source": [
    "type (\"Hii\")"
   ]
  },
  {
   "cell_type": "code",
   "execution_count": 6,
   "metadata": {},
   "outputs": [
    {
     "data": {
      "text/plain": [
       "complex"
      ]
     },
     "execution_count": 6,
     "metadata": {},
     "output_type": "execute_result"
    }
   ],
   "source": [
    "type (6+78j)"
   ]
  },
  {
   "cell_type": "code",
   "execution_count": 13,
   "metadata": {},
   "outputs": [
    {
     "name": "stdout",
     "output_type": "stream",
     "text": [
      "56\n",
      "<class 'str'>\n",
      "56\n",
      "<class 'int'>\n"
     ]
    },
    {
     "ename": "NameError",
     "evalue": "name 'ptint' is not defined",
     "output_type": "error",
     "traceback": [
      "\u001b[1;31m---------------------------------------------------------------------------\u001b[0m",
      "\u001b[1;31mNameError\u001b[0m                                 Traceback (most recent call last)",
      "\u001b[1;32m<ipython-input-13-fe67b7bfa227>\u001b[0m in \u001b[0;36m<module>\u001b[1;34m\u001b[0m\n\u001b[0;32m      3\u001b[0m \u001b[0my\u001b[0m \u001b[1;33m=\u001b[0m \u001b[0mint\u001b[0m \u001b[1;33m(\u001b[0m\u001b[0minput\u001b[0m \u001b[1;33m(\u001b[0m\u001b[1;33m)\u001b[0m\u001b[1;33m)\u001b[0m\u001b[1;31m# Type casting input () here as integer value\u001b[0m\u001b[1;33m\u001b[0m\u001b[1;33m\u001b[0m\u001b[0m\n\u001b[0;32m      4\u001b[0m \u001b[0mprint\u001b[0m \u001b[1;33m(\u001b[0m\u001b[0mtype\u001b[0m \u001b[1;33m(\u001b[0m\u001b[0my\u001b[0m\u001b[1;33m)\u001b[0m\u001b[1;33m)\u001b[0m\u001b[1;33m\u001b[0m\u001b[1;33m\u001b[0m\u001b[0m\n\u001b[1;32m----> 5\u001b[1;33m \u001b[0mptint\u001b[0m \u001b[1;33m(\u001b[0m\u001b[0mx\u001b[0m\u001b[1;33m+\u001b[0m\u001b[0my\u001b[0m\u001b[1;33m)\u001b[0m\u001b[1;31m# you will get error here as you are adding string and integer value\u001b[0m\u001b[1;33m\u001b[0m\u001b[1;33m\u001b[0m\u001b[0m\n\u001b[0m",
      "\u001b[1;31mNameError\u001b[0m: name 'ptint' is not defined"
     ]
    }
   ],
   "source": [
    "x= input ()# Even if you enter number input () function by default it considers as string\n",
    "print (type (x))\n",
    "y = int (input ())# Type casting input () here as integer value\n",
    "print (type (y))\n",
    "ptint (x+y)# you will get error here as you are adding string and integer value "
   ]
  },
  {
   "cell_type": "markdown",
   "metadata": {},
   "source": [
    "# Strings"
   ]
  },
  {
   "cell_type": "code",
   "execution_count": 76,
   "metadata": {},
   "outputs": [
    {
     "name": "stdout",
     "output_type": "stream",
     "text": [
      "h\n",
      "hello, \n",
      "hello, \n",
      "\n",
      "hello, how are you ?I am fine\n"
     ]
    }
   ],
   "source": [
    "s= \"hello, how are you ?\"\n",
    "t= \"I am fine\"\n",
    "print (s[0])\n",
    "print (s[0:7]) #Slicing Start index = 1 and End Inddex = 7-1\n",
    "print (s[0:7]) \n",
    "print (\"\\n\"+s+t)\n"
   ]
  },
  {
   "cell_type": "markdown",
   "metadata": {},
   "source": [
    "# Conditional Statement"
   ]
  },
  {
   "cell_type": "markdown",
   "metadata": {},
   "source": [
    " ## if-elif-else SYNTAX:\n",
    "if condition1\n",
    "\n",
    "    do this\n",
    "    do this\n",
    "   \n",
    "elif condition2:\n",
    "\n",
    "    do this\n",
    "    do this\n",
    "elif condition3:\n",
    "\n",
    "    do this\n",
    "    do this\n",
    "else:\n",
    "\n",
    "    do this\n",
    "    do this"
   ]
  },
  {
   "cell_type": "code",
   "execution_count": 15,
   "metadata": {},
   "outputs": [
    {
     "name": "stdout",
     "output_type": "stream",
     "text": [
      "Please Enter temperature: 34\n",
      "Hot\n"
     ]
    }
   ],
   "source": [
    "temperature= int (input (\"Please Enter temperature: \"))\n",
    "if temperature<10:\n",
    "    print (\"Cold\")\n",
    "elif temperature < 20:\n",
    "    print (\"Chill\")\n",
    "elif 20<=temperature< 45 :\n",
    "    print (\"Hot\")\n",
    "else:\n",
    "    print (\"invalid output\")"
   ]
  },
  {
   "cell_type": "markdown",
   "metadata": {},
   "source": [
    "# List "
   ]
  },
  {
   "cell_type": "code",
   "execution_count": 90,
   "metadata": {},
   "outputs": [
    {
     "data": {
      "text/plain": [
       "[23, 45, 56, ['I am here', 45]]"
      ]
     },
     "execution_count": 90,
     "metadata": {},
     "output_type": "execute_result"
    }
   ],
   "source": [
    "List = [\"Hii\", 11, 4,567, \"Balu\", 8+4j, [23,45,56, [\"I am here\", 45]]] # List Can store all types of data with it. \n",
    "List [0]# Index starts with zero\n",
    "List [6][2]# Nested Liset - list inside list\n",
    "List [6][3][0]\n",
    "List [:]\n",
    "List [6]"
   ]
  },
  {
   "cell_type": "code",
   "execution_count": 59,
   "metadata": {},
   "outputs": [],
   "source": [
    "import pandas as pd "
   ]
  },
  {
   "cell_type": "code",
   "execution_count": 78,
   "metadata": {},
   "outputs": [
    {
     "name": "stdout",
     "output_type": "stream",
     "text": [
      "[11, 4, 567, 'Balu', (8+4j)]\n",
      "['Hii', 11, 4]\n",
      "['Hii', 11, 4, 567, 'Balu', (8+4j)]\n",
      "Balu\n",
      "[11, 4]\n",
      "[]\n",
      "      0    1      2\n",
      "0     5    2      4\n",
      "1  Giri  Raj  Prvin\n",
      "['Raj', 'Prvin']\n",
      "Prvin\n"
     ]
    }
   ],
   "source": [
    "print (List [1:])# Starts from index and will go until list gets finished \n",
    "\n",
    "print(List [:3])# From last it selects third index and take the values to the left of that until List'sstart\n",
    "print (List [:])# It Prints Entire List \n",
    "\n",
    "print (List [-2])# Last Value of index is -1. \n",
    "\n",
    "#Slicing \n",
    "print (List [1: 3]) #Start Index = 1 and End Index = 3-1\n",
    "print (List [1: 1])# It will print empty array\n",
    "\n",
    "TDList = [[5,2,4], \n",
    "          [\"Giri\", \"Raj\", \"Prvin\"]] # Nested List \n",
    "# First Row index is 0 and [1,2,4] comes under first row. TDList  [0][1:3] gives output as [5,2,4]\n",
    "print (pd.DataFrame (TDList))\n",
    "print (TDList [1][1:3])\n",
    "print (TDList [1][2])"
   ]
  },
  {
   "cell_type": "code",
   "execution_count": null,
   "metadata": {},
   "outputs": [],
   "source": []
  }
 ],
 "metadata": {
  "kernelspec": {
   "display_name": "Python 3",
   "language": "python",
   "name": "python3"
  },
  "language_info": {
   "codemirror_mode": {
    "name": "ipython",
    "version": 3
   },
   "file_extension": ".py",
   "mimetype": "text/x-python",
   "name": "python",
   "nbconvert_exporter": "python",
   "pygments_lexer": "ipython3",
   "version": "3.7.6"
  }
 },
 "nbformat": 4,
 "nbformat_minor": 4
}
