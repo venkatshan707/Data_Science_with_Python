{
 "cells": [
  {
   "cell_type": "code",
   "execution_count": 1,
   "metadata": {},
   "outputs": [
    {
     "data": {
      "text/plain": [
       "4"
      ]
     },
     "execution_count": 1,
     "metadata": {},
     "output_type": "execute_result"
    }
   ],
   "source": [
    "10-6"
   ]
  },
  {
   "cell_type": "code",
   "execution_count": 2,
   "metadata": {},
   "outputs": [
    {
     "data": {
      "text/plain": [
       "270"
      ]
     },
     "execution_count": 2,
     "metadata": {},
     "output_type": "execute_result"
    }
   ],
   "source": [
    "45*6"
   ]
  },
  {
   "cell_type": "raw",
   "metadata": {},
   "source": []
  },
  {
   "cell_type": "markdown",
   "metadata": {},
   "source": []
  },
  {
   "cell_type": "code",
   "execution_count": 1,
   "metadata": {},
   "outputs": [
    {
     "name": "stdout",
     "output_type": "stream",
     "text": [
      "My name is Dr. Darshan Ingle.\n"
     ]
    }
   ],
   "source": [
    "print(\"My name is Dr. Darshan Ingle.\")"
   ]
  },
  {
   "cell_type": "code",
   "execution_count": 2,
   "metadata": {},
   "outputs": [
    {
     "name": "stdout",
     "output_type": "stream",
     "text": [
      "My name is Dr. Darshan Ingle.\n"
     ]
    }
   ],
   "source": [
    "print('My name is Dr. Darshan Ingle.')"
   ]
  },
  {
   "cell_type": "code",
   "execution_count": 3,
   "metadata": {},
   "outputs": [
    {
     "name": "stdout",
     "output_type": "stream",
     "text": [
      "987\n"
     ]
    }
   ],
   "source": [
    "print(\"987\")"
   ]
  },
  {
   "cell_type": "code",
   "execution_count": 5,
   "metadata": {},
   "outputs": [
    {
     "name": "stdout",
     "output_type": "stream",
     "text": [
      "gkjqebckuhweiuyrieyo8 on34o8ehyeiurnivye4ic8y4e8i4yirue cnoiucjkdfghkug\n"
     ]
    }
   ],
   "source": [
    "print(\"gkjqebckuhweiuyrieyo8 on34o8ehyeiurnivye4ic8y4e8i4yirue cnoiucjkdfghkug\")"
   ]
  },
  {
   "cell_type": "code",
   "execution_count": 20,
   "metadata": {},
   "outputs": [
    {
     "name": "stdout",
     "output_type": "stream",
     "text": [
      "c\n",
      "10\n",
      "12\n",
      "\n",
      "Addition= 22\n",
      "\n",
      "Addition of a= 10 & b= 12 is c= 22\n"
     ]
    }
   ],
   "source": [
    "a = 10\n",
    "b = 12\n",
    "c = a+b\n",
    "print(\"c\")\n",
    "print(a)\n",
    "print(b)\n",
    "print()\n",
    "\n",
    "print(\"Addition=\",c)\n",
    "\n",
    "print()\n",
    "\n",
    "print(\"Addition of a=\",a,\"& b=\",b,\"is c=\",c)"
   ]
  },
  {
   "cell_type": "code",
   "execution_count": 21,
   "metadata": {},
   "outputs": [
    {
     "name": "stdout",
     "output_type": "stream",
     "text": [
      "c\n",
      "987\n",
      "1562\n",
      "\n",
      "Addition= 2549\n",
      "\n",
      "Addition of a= 987 & b= 1562 is c= 2549\n"
     ]
    }
   ],
   "source": [
    "a = 987\n",
    "b = 1562\n",
    "c = a+b\n",
    "print(\"c\")\n",
    "print(a)\n",
    "print(b)\n",
    "print()\n",
    "\n",
    "print(\"Addition=\",c)\n",
    "\n",
    "print()\n",
    "\n",
    "print(\"Addition of a=\",a,\"& b=\",b,\"is c=\",c)"
   ]
  },
  {
   "cell_type": "code",
   "execution_count": 22,
   "metadata": {},
   "outputs": [
    {
     "name": "stdout",
     "output_type": "stream",
     "text": [
      "100\n",
      "400\n",
      "c\n",
      "100\n",
      "400\n",
      "\n",
      "Addition= 100400\n",
      "\n",
      "Addition of a= 100 & b= 400 is c= 100400\n"
     ]
    }
   ],
   "source": [
    "a = input()\n",
    "b = input()\n",
    "c = a+b\n",
    "print(\"c\")\n",
    "print(a)\n",
    "print(b)\n",
    "print()\n",
    "\n",
    "print(\"Addition=\",c)\n",
    "\n",
    "print()\n",
    "\n",
    "print(\"Addition of a=\",a,\"& b=\",b,\"is c=\",c)"
   ]
  },
  {
   "cell_type": "code",
   "execution_count": 23,
   "metadata": {},
   "outputs": [
    {
     "data": {
      "text/plain": [
       "int"
      ]
     },
     "execution_count": 23,
     "metadata": {},
     "output_type": "execute_result"
    }
   ],
   "source": [
    "type(100)"
   ]
  },
  {
   "cell_type": "code",
   "execution_count": 24,
   "metadata": {},
   "outputs": [
    {
     "data": {
      "text/plain": [
       "float"
      ]
     },
     "execution_count": 24,
     "metadata": {},
     "output_type": "execute_result"
    }
   ],
   "source": [
    "type(100.758)"
   ]
  },
  {
   "cell_type": "code",
   "execution_count": 25,
   "metadata": {},
   "outputs": [
    {
     "data": {
      "text/plain": [
       "str"
      ]
     },
     "execution_count": 25,
     "metadata": {},
     "output_type": "execute_result"
    }
   ],
   "source": [
    "type(\"100\")"
   ]
  },
  {
   "cell_type": "code",
   "execution_count": 26,
   "metadata": {},
   "outputs": [
    {
     "data": {
      "text/plain": [
       "str"
      ]
     },
     "execution_count": 26,
     "metadata": {},
     "output_type": "execute_result"
    }
   ],
   "source": [
    "type(\"SkillEnable\")"
   ]
  },
  {
   "cell_type": "code",
   "execution_count": 27,
   "metadata": {},
   "outputs": [
    {
     "data": {
      "text/plain": [
       "complex"
      ]
     },
     "execution_count": 27,
     "metadata": {},
     "output_type": "execute_result"
    }
   ],
   "source": [
    "type(7-8j)"
   ]
  },
  {
   "cell_type": "code",
   "execution_count": 32,
   "metadata": {},
   "outputs": [
    {
     "name": "stdout",
     "output_type": "stream",
     "text": [
      "Darshan\n",
      "You entered Darshan\n"
     ]
    }
   ],
   "source": [
    "x = input()\n",
    "print(\"You entered\",x)"
   ]
  },
  {
   "cell_type": "code",
   "execution_count": 33,
   "metadata": {},
   "outputs": [
    {
     "name": "stdout",
     "output_type": "stream",
     "text": [
      "8997\n",
      "You entered 8997\n"
     ]
    }
   ],
   "source": [
    "x = input()\n",
    "print(\"You entered\",x)"
   ]
  },
  {
   "cell_type": "code",
   "execution_count": 34,
   "metadata": {},
   "outputs": [
    {
     "name": "stdout",
     "output_type": "stream",
     "text": [
      "Darshan\n",
      "<class 'str'>\n"
     ]
    }
   ],
   "source": [
    "x = input()\n",
    "print(type(x))"
   ]
  },
  {
   "cell_type": "code",
   "execution_count": 35,
   "metadata": {},
   "outputs": [
    {
     "name": "stdout",
     "output_type": "stream",
     "text": [
      "98\n",
      "<class 'str'>\n"
     ]
    }
   ],
   "source": [
    "x = input()\n",
    "print(type(x))"
   ]
  },
  {
   "cell_type": "code",
   "execution_count": 36,
   "metadata": {},
   "outputs": [
    {
     "name": "stdout",
     "output_type": "stream",
     "text": [
      "-766.554634\n",
      "<class 'str'>\n"
     ]
    }
   ],
   "source": [
    "x = input()\n",
    "print(type(x))"
   ]
  },
  {
   "cell_type": "code",
   "execution_count": 37,
   "metadata": {},
   "outputs": [
    {
     "name": "stdout",
     "output_type": "stream",
     "text": [
      "98-9j\n",
      "<class 'str'>\n"
     ]
    }
   ],
   "source": [
    "x = input()\n",
    "print(type(x))"
   ]
  },
  {
   "cell_type": "code",
   "execution_count": 41,
   "metadata": {},
   "outputs": [
    {
     "name": "stdout",
     "output_type": "stream",
     "text": [
      "98\n",
      "<class 'int'>\n",
      "98.0\n",
      "<class 'float'>\n"
     ]
    }
   ],
   "source": [
    "# Typecasting: It is the process of forcefully changing the datatype.\n",
    "i = 98\n",
    "print(i)\n",
    "print(type(i))\n",
    "f = float(i)\n",
    "print(f)\n",
    "print(type(f))"
   ]
  },
  {
   "cell_type": "code",
   "execution_count": 40,
   "metadata": {},
   "outputs": [
    {
     "name": "stdout",
     "output_type": "stream",
     "text": [
      "98.87687\n",
      "<class 'float'>\n",
      "98\n",
      "<class 'int'>\n"
     ]
    }
   ],
   "source": [
    "i = 98.87687\n",
    "print(i)\n",
    "print(type(i))\n",
    "f = int(i)\n",
    "print(f)\n",
    "print(type(f))"
   ]
  },
  {
   "cell_type": "code",
   "execution_count": 43,
   "metadata": {},
   "outputs": [
    {
     "name": "stdout",
     "output_type": "stream",
     "text": [
      "100\n",
      "400\n",
      "c\n",
      "100\n",
      "400\n",
      "\n",
      "Addition= 500\n",
      "\n",
      "Addition of a= 100 & b= 400 is c= 500\n"
     ]
    }
   ],
   "source": [
    "a = input() # a is in str format\n",
    "b = input() # b is in str format\n",
    "a = int(a)\n",
    "b = int(b)\n",
    "c = a+b\n",
    "print(\"c\")\n",
    "print(a)\n",
    "print(b)\n",
    "print()\n",
    "\n",
    "print(\"Addition=\",c)\n",
    "\n",
    "print()\n",
    "\n",
    "print(\"Addition of a=\",a,\"& b=\",b,\"is c=\",c)"
   ]
  },
  {
   "cell_type": "code",
   "execution_count": 44,
   "metadata": {},
   "outputs": [
    {
     "name": "stdout",
     "output_type": "stream",
     "text": [
      "100\n",
      "400\n",
      "c\n",
      "100\n",
      "400\n",
      "\n",
      "Addition= 500\n",
      "\n",
      "Addition of a= 100 & b= 400 is c= 500\n"
     ]
    }
   ],
   "source": [
    "a = int(input()) \n",
    "b = int(input()) \n",
    "\n",
    "c = a+b\n",
    "print(\"c\")\n",
    "print(a)\n",
    "print(b)\n",
    "print()\n",
    "\n",
    "print(\"Addition=\",c)\n",
    "\n",
    "print()\n",
    "\n",
    "print(\"Addition of a=\",a,\"& b=\",b,\"is c=\",c)"
   ]
  },
  {
   "cell_type": "code",
   "execution_count": 46,
   "metadata": {},
   "outputs": [
    {
     "name": "stdout",
     "output_type": "stream",
     "text": [
      "Enter 1st number100\n",
      "Enter 2nd number400\n",
      "c\n",
      "100\n",
      "400\n",
      "\n",
      "Addition= 500\n",
      "\n",
      "Addition of a= 100 & b= 400 is c= 500\n"
     ]
    }
   ],
   "source": [
    "a = int(input(\"Enter 1st number\")) \n",
    "b = int(input(\"Enter 2nd number\")) \n",
    "\n",
    "c = a+b\n",
    "print(\"c\")\n",
    "print(a)\n",
    "print(b)\n",
    "print()\n",
    "\n",
    "print(\"Addition=\",c)\n",
    "\n",
    "print()\n",
    "\n",
    "print(\"Addition of a=\",a,\"& b=\",b,\"is c=\",c)"
   ]
  },
  {
   "cell_type": "markdown",
   "metadata": {},
   "source": [
    "# Conditional Statements"
   ]
  },
  {
   "cell_type": "raw",
   "metadata": {},
   "source": [
    "# if SYNTAX:\n",
    "\n",
    "if condition:\n",
    "    do this\n",
    "    do this\n",
    "    do this\n",
    "    \n",
    "# if else SYNTAX:\n",
    "\n",
    "if condition:\n",
    "    do this\n",
    "    do this\n",
    "else:\n",
    "    do this\n",
    "    do this\n",
    "    \n",
    "# if-elif-else SYNTAX:\n",
    "\n",
    "if condition1:\n",
    "    do this\n",
    "    do this\n",
    "elif condition2:\n",
    "    do this\n",
    "    do this\n",
    "elif condition3:\n",
    "    do this\n",
    "    do this\n",
    "else:\n",
    "    do this\n",
    "    do this"
   ]
  },
  {
   "cell_type": "code",
   "execution_count": 47,
   "metadata": {},
   "outputs": [
    {
     "name": "stdout",
     "output_type": "stream",
     "text": [
      "if condition successful\n",
      "Out of if\n"
     ]
    }
   ],
   "source": [
    "x = 5\n",
    "if x>3:\n",
    "    print(\"if condition successful\")\n",
    "print(\"Out of if\")"
   ]
  },
  {
   "cell_type": "code",
   "execution_count": 48,
   "metadata": {},
   "outputs": [
    {
     "name": "stdout",
     "output_type": "stream",
     "text": [
      "Out of if\n"
     ]
    }
   ],
   "source": [
    "x = -15\n",
    "if x>3:\n",
    "    print(\"if condition successful\")\n",
    "print(\"Out of if\")"
   ]
  },
  {
   "cell_type": "code",
   "execution_count": 51,
   "metadata": {},
   "outputs": [
    {
     "name": "stdout",
     "output_type": "stream",
     "text": [
      "5 is a Positive Number\n",
      "Out of if else\n"
     ]
    }
   ],
   "source": [
    "x = 5\n",
    "if x>0:\n",
    "    print(x,\"is a Positive Number\")\n",
    "else:\n",
    "    print(x,\"is a Negative Number\")\n",
    "print(\"Out of if else\")"
   ]
  },
  {
   "cell_type": "code",
   "execution_count": 52,
   "metadata": {},
   "outputs": [
    {
     "name": "stdout",
     "output_type": "stream",
     "text": [
      "-5 is a Negative Number\n",
      "Out of if else\n"
     ]
    }
   ],
   "source": [
    "x = -5\n",
    "if x>0:\n",
    "    print(x,\"is a Positive Number\")\n",
    "else:\n",
    "    print(x,\"is a Negative Number\")\n",
    "print(\"Out of if else\")"
   ]
  },
  {
   "cell_type": "code",
   "execution_count": 53,
   "metadata": {},
   "outputs": [
    {
     "name": "stdout",
     "output_type": "stream",
     "text": [
      "0 is a Negative Number\n",
      "Out of if else\n"
     ]
    }
   ],
   "source": [
    "x = 0\n",
    "if x>0:\n",
    "    print(x,\"is a Positive Number\")\n",
    "else:\n",
    "    print(x,\"is a Negative Number\")\n",
    "print(\"Out of if else\")"
   ]
  },
  {
   "cell_type": "code",
   "execution_count": 56,
   "metadata": {},
   "outputs": [
    {
     "name": "stdout",
     "output_type": "stream",
     "text": [
      "Number is 0 i.e. neither negative nor positive\n",
      "Out of if else\n"
     ]
    }
   ],
   "source": [
    "x = 0\n",
    "if x>0:\n",
    "    print(x,\"is a Positive Number\")\n",
    "elif x<0:\n",
    "    print(x,\"is a Negative Number\")\n",
    "else:\n",
    "    print(\"Number is 0 i.e. neither negative nor positive\")\n",
    "    \n",
    "print(\"Out of if else\")"
   ]
  },
  {
   "cell_type": "markdown",
   "metadata": {},
   "source": [
    "# List\n",
    "\n",
    "It is a collection of items of dissimilar datatypes.\n",
    "\n",
    "It is stored using [   ] brackets."
   ]
  },
  {
   "cell_type": "code",
   "execution_count": 57,
   "metadata": {},
   "outputs": [
    {
     "name": "stdout",
     "output_type": "stream",
     "text": [
      "[10, -10, 1.21, -98.78, 'Darshan', 'SkillEnable', (3+98j)]\n",
      "<class 'list'>\n"
     ]
    }
   ],
   "source": [
    "l = [10,-10,1.21,-98.78,\"Darshan\",\"SkillEnable\",3+98j]\n",
    "print(l)\n",
    "print(type(l))"
   ]
  },
  {
   "cell_type": "code",
   "execution_count": 65,
   "metadata": {},
   "outputs": [
    {
     "name": "stdout",
     "output_type": "stream",
     "text": [
      "[10, 20, 30, 40, 50]\n",
      "10\n",
      "40\n",
      "50\n",
      "20\n",
      "[20, 30]\n",
      "[20, 30, 40]\n"
     ]
    }
   ],
   "source": [
    "l = [10,20,30,40,50]\n",
    "print(l)\n",
    "\n",
    "# Indexing\n",
    "print(l[0])\n",
    "print(l[3])\n",
    "# print(l[10]) # IndexError: list index out of range\n",
    "print(l[-1])\n",
    "print(l[-4])\n",
    "\n",
    "# Slicing\n",
    "print(l[1:3]) # SI = 1, EI = (3-1)\n",
    "print(l[1:4])"
   ]
  },
  {
   "cell_type": "markdown",
   "metadata": {},
   "source": [
    "# Tuples\n",
    "\n",
    "It is a collection of items of dissimilar datatypes.\n",
    "\n",
    "It is stored using (   ) brackets.\n",
    "\n",
    "eg: Aadhar card, Passport Number, etc"
   ]
  },
  {
   "cell_type": "code",
   "execution_count": 66,
   "metadata": {},
   "outputs": [
    {
     "name": "stdout",
     "output_type": "stream",
     "text": [
      "(10, 20, 30, 40, 50)\n",
      "<class 'tuple'>\n",
      "10\n",
      "40\n",
      "50\n",
      "20\n",
      "(20, 30)\n",
      "(20, 30, 40)\n"
     ]
    }
   ],
   "source": [
    "l = (10,20,30,40,50)\n",
    "print(l)\n",
    "print(type(l))\n",
    "\n",
    "# Indexing\n",
    "print(l[0])\n",
    "print(l[3])\n",
    "# print(l[10]) # IndexError: list index out of range\n",
    "print(l[-1])\n",
    "print(l[-4])\n",
    "\n",
    "# Slicing\n",
    "print(l[1:3]) # SI = 1, EI = (3-1)\n",
    "print(l[1:4])"
   ]
  },
  {
   "cell_type": "code",
   "execution_count": 70,
   "metadata": {},
   "outputs": [
    {
     "name": "stdout",
     "output_type": "stream",
     "text": [
      "[10, 20, 30, 40, 50]\n",
      "10\n",
      "['Darshan', 20, 30, 40, 50]\n"
     ]
    }
   ],
   "source": [
    "# Lists are Mutable i.e. Flexible\n",
    "\n",
    "l = [10,20,30,40,50]\n",
    "print(l)\n",
    "print(l[0])\n",
    "l[0] = \"Darshan\"\n",
    "print(l)"
   ]
  },
  {
   "cell_type": "code",
   "execution_count": 71,
   "metadata": {},
   "outputs": [
    {
     "name": "stdout",
     "output_type": "stream",
     "text": [
      "(10, 20, 30, 40, 50)\n",
      "10\n"
     ]
    },
    {
     "ename": "TypeError",
     "evalue": "'tuple' object does not support item assignment",
     "output_type": "error",
     "traceback": [
      "\u001b[0;31m---------------------------------------------------------------------------\u001b[0m",
      "\u001b[0;31mTypeError\u001b[0m                                 Traceback (most recent call last)",
      "\u001b[0;32m<ipython-input-71-89f14e0068b5>\u001b[0m in \u001b[0;36m<module>\u001b[0;34m\u001b[0m\n\u001b[1;32m      4\u001b[0m \u001b[0mprint\u001b[0m\u001b[0;34m(\u001b[0m\u001b[0ml\u001b[0m\u001b[0;34m)\u001b[0m\u001b[0;34m\u001b[0m\u001b[0;34m\u001b[0m\u001b[0m\n\u001b[1;32m      5\u001b[0m \u001b[0mprint\u001b[0m\u001b[0;34m(\u001b[0m\u001b[0ml\u001b[0m\u001b[0;34m[\u001b[0m\u001b[0;36m0\u001b[0m\u001b[0;34m]\u001b[0m\u001b[0;34m)\u001b[0m\u001b[0;34m\u001b[0m\u001b[0;34m\u001b[0m\u001b[0m\n\u001b[0;32m----> 6\u001b[0;31m \u001b[0ml\u001b[0m\u001b[0;34m[\u001b[0m\u001b[0;36m0\u001b[0m\u001b[0;34m]\u001b[0m \u001b[0;34m=\u001b[0m \u001b[0;34m\"Darshan\"\u001b[0m\u001b[0;34m\u001b[0m\u001b[0;34m\u001b[0m\u001b[0m\n\u001b[0m\u001b[1;32m      7\u001b[0m \u001b[0mprint\u001b[0m\u001b[0;34m(\u001b[0m\u001b[0ml\u001b[0m\u001b[0;34m)\u001b[0m\u001b[0;34m\u001b[0m\u001b[0;34m\u001b[0m\u001b[0m\n",
      "\u001b[0;31mTypeError\u001b[0m: 'tuple' object does not support item assignment"
     ]
    }
   ],
   "source": [
    "# Tuples are Immutable i.e. Fixed\n",
    "\n",
    "l = (10,20,30,40,50)\n",
    "print(l)\n",
    "print(l[0])\n",
    "l[0] = \"Darshan\"\n",
    "print(l)"
   ]
  },
  {
   "cell_type": "markdown",
   "metadata": {},
   "source": [
    "# Happy Learning"
   ]
  }
 ],
 "metadata": {
  "kernelspec": {
   "display_name": "Python 3",
   "language": "python",
   "name": "python3"
  },
  "language_info": {
   "codemirror_mode": {
    "name": "ipython",
    "version": 3
   },
   "file_extension": ".py",
   "mimetype": "text/x-python",
   "name": "python",
   "nbconvert_exporter": "python",
   "pygments_lexer": "ipython3",
   "version": "3.7.6"
  }
 },
 "nbformat": 4,
 "nbformat_minor": 5
}
