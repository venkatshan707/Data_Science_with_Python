{
 "cells": [
  {
   "cell_type": "code",
   "execution_count": 1,
   "id": "dcd0142f",
   "metadata": {},
   "outputs": [],
   "source": [
    "import numpy as np\n",
    "import pandas as pd\n",
    "import matplotlib.pyplot as plt\n",
    "import seaborn as sns\n",
    "\n",
    "import warnings\n",
    "warnings.filterwarnings(\"ignore\")"
   ]
  },
  {
   "cell_type": "code",
   "execution_count": 2,
   "id": "9a5a95b9",
   "metadata": {},
   "outputs": [
    {
     "data": {
      "text/html": [
       "<div>\n",
       "<style scoped>\n",
       "    .dataframe tbody tr th:only-of-type {\n",
       "        vertical-align: middle;\n",
       "    }\n",
       "\n",
       "    .dataframe tbody tr th {\n",
       "        vertical-align: top;\n",
       "    }\n",
       "\n",
       "    .dataframe thead th {\n",
       "        text-align: right;\n",
       "    }\n",
       "</style>\n",
       "<table border=\"1\" class=\"dataframe\">\n",
       "  <thead>\n",
       "    <tr style=\"text-align: right;\">\n",
       "      <th></th>\n",
       "      <th>TV</th>\n",
       "      <th>radio</th>\n",
       "      <th>newspaper</th>\n",
       "      <th>sales</th>\n",
       "    </tr>\n",
       "  </thead>\n",
       "  <tbody>\n",
       "    <tr>\n",
       "      <th>0</th>\n",
       "      <td>230.1</td>\n",
       "      <td>37.8</td>\n",
       "      <td>69.2</td>\n",
       "      <td>22.1</td>\n",
       "    </tr>\n",
       "    <tr>\n",
       "      <th>1</th>\n",
       "      <td>44.5</td>\n",
       "      <td>39.3</td>\n",
       "      <td>45.1</td>\n",
       "      <td>10.4</td>\n",
       "    </tr>\n",
       "    <tr>\n",
       "      <th>2</th>\n",
       "      <td>17.2</td>\n",
       "      <td>45.9</td>\n",
       "      <td>69.3</td>\n",
       "      <td>12.0</td>\n",
       "    </tr>\n",
       "    <tr>\n",
       "      <th>3</th>\n",
       "      <td>151.5</td>\n",
       "      <td>41.3</td>\n",
       "      <td>58.5</td>\n",
       "      <td>16.5</td>\n",
       "    </tr>\n",
       "    <tr>\n",
       "      <th>4</th>\n",
       "      <td>180.8</td>\n",
       "      <td>10.8</td>\n",
       "      <td>58.4</td>\n",
       "      <td>17.9</td>\n",
       "    </tr>\n",
       "  </tbody>\n",
       "</table>\n",
       "</div>"
      ],
      "text/plain": [
       "      TV  radio  newspaper  sales\n",
       "0  230.1   37.8       69.2   22.1\n",
       "1   44.5   39.3       45.1   10.4\n",
       "2   17.2   45.9       69.3   12.0\n",
       "3  151.5   41.3       58.5   16.5\n",
       "4  180.8   10.8       58.4   17.9"
      ]
     },
     "execution_count": 2,
     "metadata": {},
     "output_type": "execute_result"
    }
   ],
   "source": [
    "data = pd.read_csv(\"https://raw.githubusercontent.com/ingledarshan/upGrad_Darshan/main/Advertising.csv\")\n",
    "data.head()"
   ]
  },
  {
   "cell_type": "markdown",
   "id": "0222af23",
   "metadata": {},
   "source": [
    "## Exploratory Data Analysis"
   ]
  },
  {
   "cell_type": "code",
   "execution_count": 3,
   "id": "70f8fc3e",
   "metadata": {},
   "outputs": [
    {
     "data": {
      "text/plain": [
       "(200, 4)"
      ]
     },
     "execution_count": 3,
     "metadata": {},
     "output_type": "execute_result"
    }
   ],
   "source": [
    "data.shape"
   ]
  },
  {
   "cell_type": "code",
   "execution_count": 4,
   "id": "ec987a5b",
   "metadata": {},
   "outputs": [
    {
     "name": "stdout",
     "output_type": "stream",
     "text": [
      "<class 'pandas.core.frame.DataFrame'>\n",
      "RangeIndex: 200 entries, 0 to 199\n",
      "Data columns (total 4 columns):\n",
      " #   Column     Non-Null Count  Dtype  \n",
      "---  ------     --------------  -----  \n",
      " 0   TV         200 non-null    float64\n",
      " 1   radio      200 non-null    float64\n",
      " 2   newspaper  200 non-null    float64\n",
      " 3   sales      200 non-null    float64\n",
      "dtypes: float64(4)\n",
      "memory usage: 6.4 KB\n"
     ]
    }
   ],
   "source": [
    "data.info()"
   ]
  },
  {
   "cell_type": "code",
   "execution_count": 5,
   "id": "ad6211d8",
   "metadata": {},
   "outputs": [
    {
     "data": {
      "text/html": [
       "<div>\n",
       "<style scoped>\n",
       "    .dataframe tbody tr th:only-of-type {\n",
       "        vertical-align: middle;\n",
       "    }\n",
       "\n",
       "    .dataframe tbody tr th {\n",
       "        vertical-align: top;\n",
       "    }\n",
       "\n",
       "    .dataframe thead th {\n",
       "        text-align: right;\n",
       "    }\n",
       "</style>\n",
       "<table border=\"1\" class=\"dataframe\">\n",
       "  <thead>\n",
       "    <tr style=\"text-align: right;\">\n",
       "      <th></th>\n",
       "      <th>TV</th>\n",
       "      <th>radio</th>\n",
       "      <th>newspaper</th>\n",
       "      <th>sales</th>\n",
       "    </tr>\n",
       "  </thead>\n",
       "  <tbody>\n",
       "    <tr>\n",
       "      <th>count</th>\n",
       "      <td>200.000000</td>\n",
       "      <td>200.000000</td>\n",
       "      <td>200.000000</td>\n",
       "      <td>200.000000</td>\n",
       "    </tr>\n",
       "    <tr>\n",
       "      <th>mean</th>\n",
       "      <td>147.042500</td>\n",
       "      <td>23.264000</td>\n",
       "      <td>30.554000</td>\n",
       "      <td>15.130500</td>\n",
       "    </tr>\n",
       "    <tr>\n",
       "      <th>std</th>\n",
       "      <td>85.854236</td>\n",
       "      <td>14.846809</td>\n",
       "      <td>21.778621</td>\n",
       "      <td>5.283892</td>\n",
       "    </tr>\n",
       "    <tr>\n",
       "      <th>min</th>\n",
       "      <td>0.700000</td>\n",
       "      <td>0.000000</td>\n",
       "      <td>0.300000</td>\n",
       "      <td>1.600000</td>\n",
       "    </tr>\n",
       "    <tr>\n",
       "      <th>25%</th>\n",
       "      <td>74.375000</td>\n",
       "      <td>9.975000</td>\n",
       "      <td>12.750000</td>\n",
       "      <td>11.000000</td>\n",
       "    </tr>\n",
       "    <tr>\n",
       "      <th>50%</th>\n",
       "      <td>149.750000</td>\n",
       "      <td>22.900000</td>\n",
       "      <td>25.750000</td>\n",
       "      <td>16.000000</td>\n",
       "    </tr>\n",
       "    <tr>\n",
       "      <th>75%</th>\n",
       "      <td>218.825000</td>\n",
       "      <td>36.525000</td>\n",
       "      <td>45.100000</td>\n",
       "      <td>19.050000</td>\n",
       "    </tr>\n",
       "    <tr>\n",
       "      <th>max</th>\n",
       "      <td>296.400000</td>\n",
       "      <td>49.600000</td>\n",
       "      <td>114.000000</td>\n",
       "      <td>27.000000</td>\n",
       "    </tr>\n",
       "  </tbody>\n",
       "</table>\n",
       "</div>"
      ],
      "text/plain": [
       "               TV       radio   newspaper       sales\n",
       "count  200.000000  200.000000  200.000000  200.000000\n",
       "mean   147.042500   23.264000   30.554000   15.130500\n",
       "std     85.854236   14.846809   21.778621    5.283892\n",
       "min      0.700000    0.000000    0.300000    1.600000\n",
       "25%     74.375000    9.975000   12.750000   11.000000\n",
       "50%    149.750000   22.900000   25.750000   16.000000\n",
       "75%    218.825000   36.525000   45.100000   19.050000\n",
       "max    296.400000   49.600000  114.000000   27.000000"
      ]
     },
     "execution_count": 5,
     "metadata": {},
     "output_type": "execute_result"
    }
   ],
   "source": [
    "data.describe()"
   ]
  },
  {
   "cell_type": "code",
   "execution_count": 6,
   "id": "52d745ed",
   "metadata": {},
   "outputs": [
    {
     "data": {
      "image/png": "[encoded data removed]",
      "text/plain": [
       "<Figure size 432x288 with 1 Axes>"
      ]
     },
     "metadata": {
      "needs_background": "light"
     },
     "output_type": "display_data"
    }
   ],
   "source": [
    "sns.distplot(data.sales);"
   ]
  },
  {
   "cell_type": "code",
   "execution_count": 7,
   "id": "81717f85",
   "metadata": {},
   "outputs": [
    {
     "data": {
      "image/png": "[encoded data removed]",
      "text/plain": [
       "<Figure size 432x288 with 1 Axes>"
      ]
     },
     "metadata": {
      "needs_background": "light"
     },
     "output_type": "display_data"
    }
   ],
   "source": [
    "sns.distplot(data.TV);"
   ]
  },
  {
   "cell_type": "code",
   "execution_count": 8,
   "id": "f9907f04",
   "metadata": {},
   "outputs": [
    {
     "data": {
      "image/png": "[encoded data removed]",
      "text/plain": [
       "<Figure size 432x288 with 1 Axes>"
      ]
     },
     "metadata": {
      "needs_background": "light"
     },
     "output_type": "display_data"
    }
   ],
   "source": [
    "sns.distplot(data.radio);"
   ]
  },
  {
   "cell_type": "code",
   "execution_count": 9,
   "id": "7bd9fb9f",
   "metadata": {},
   "outputs": [
    {
     "data": {
      "image/png": "[encoded data removed]",
      "text/plain": [
       "<Figure size 432x288 with 1 Axes>"
      ]
     },
     "metadata": {
      "needs_background": "light"
     },
     "output_type": "display_data"
    }
   ],
   "source": [
    "sns.distplot(data.newspaper);"
   ]
  },
  {
   "cell_type": "markdown",
   "id": "738bf44c",
   "metadata": {},
   "source": [
    ">Sales seems to be normally distributed.\n",
    "\n",
    ">Spend of Newspaper is right skewed. Most of the people spend less on newspaper.\n",
    "\n",
    ">TV and Radio are normally distributed."
   ]
  },
  {
   "cell_type": "code",
   "execution_count": 10,
   "id": "cffc998a",
   "metadata": {},
   "outputs": [
    {
     "data": {
      "text/html": [
       "<div>\n",
       "<style scoped>\n",
       "    .dataframe tbody tr th:only-of-type {\n",
       "        vertical-align: middle;\n",
       "    }\n",
       "\n",
       "    .dataframe tbody tr th {\n",
       "        vertical-align: top;\n",
       "    }\n",
       "\n",
       "    .dataframe thead th {\n",
       "        text-align: right;\n",
       "    }\n",
       "</style>\n",
       "<table border=\"1\" class=\"dataframe\">\n",
       "  <thead>\n",
       "    <tr style=\"text-align: right;\">\n",
       "      <th></th>\n",
       "      <th>TV</th>\n",
       "      <th>radio</th>\n",
       "      <th>newspaper</th>\n",
       "      <th>sales</th>\n",
       "    </tr>\n",
       "  </thead>\n",
       "  <tbody>\n",
       "    <tr>\n",
       "      <th>0</th>\n",
       "      <td>230.1</td>\n",
       "      <td>37.8</td>\n",
       "      <td>69.2</td>\n",
       "      <td>22.1</td>\n",
       "    </tr>\n",
       "    <tr>\n",
       "      <th>1</th>\n",
       "      <td>44.5</td>\n",
       "      <td>39.3</td>\n",
       "      <td>45.1</td>\n",
       "      <td>10.4</td>\n",
       "    </tr>\n",
       "    <tr>\n",
       "      <th>2</th>\n",
       "      <td>17.2</td>\n",
       "      <td>45.9</td>\n",
       "      <td>69.3</td>\n",
       "      <td>12.0</td>\n",
       "    </tr>\n",
       "    <tr>\n",
       "      <th>3</th>\n",
       "      <td>151.5</td>\n",
       "      <td>41.3</td>\n",
       "      <td>58.5</td>\n",
       "      <td>16.5</td>\n",
       "    </tr>\n",
       "    <tr>\n",
       "      <th>4</th>\n",
       "      <td>180.8</td>\n",
       "      <td>10.8</td>\n",
       "      <td>58.4</td>\n",
       "      <td>17.9</td>\n",
       "    </tr>\n",
       "  </tbody>\n",
       "</table>\n",
       "</div>"
      ],
      "text/plain": [
       "      TV  radio  newspaper  sales\n",
       "0  230.1   37.8       69.2   22.1\n",
       "1   44.5   39.3       45.1   10.4\n",
       "2   17.2   45.9       69.3   12.0\n",
       "3  151.5   41.3       58.5   16.5\n",
       "4  180.8   10.8       58.4   17.9"
      ]
     },
     "execution_count": 10,
     "metadata": {},
     "output_type": "execute_result"
    }
   ],
   "source": [
    "data.head()"
   ]
  },
  {
   "cell_type": "code",
   "execution_count": 11,
   "id": "406b7aa6",
   "metadata": {},
   "outputs": [
    {
     "data": {
      "image/png": "[encoded data removed]",
      "text/plain": [
       "<Figure size 432x432 with 3 Axes>"
      ]
     },
     "metadata": {
      "needs_background": "light"
     },
     "output_type": "display_data"
    }
   ],
   "source": [
    "sns.jointplot(\"newspaper\",\"sales\",data=data, kind='reg');"
   ]
  },
  {
   "cell_type": "code",
   "execution_count": 12,
   "id": "ba78bb05",
   "metadata": {},
   "outputs": [
    {
     "data": {
      "image/png": "[encoded data removed]",
      "text/plain": [
       "<Figure size 432x432 with 3 Axes>"
      ]
     },
     "metadata": {
      "needs_background": "light"
     },
     "output_type": "display_data"
    }
   ],
   "source": [
    "sns.jointplot(\"newspaper\",\"sales\",data=data);"
   ]
  },
  {
   "cell_type": "code",
   "execution_count": 13,
   "id": "6d22714c",
   "metadata": {},
   "outputs": [
    {
     "data": {
      "image/png": "[encoded data removed]",
      "text/plain": [
       "<Figure size 432x432 with 3 Axes>"
      ]
     },
     "metadata": {
      "needs_background": "light"
     },
     "output_type": "display_data"
    }
   ],
   "source": [
    "sns.jointplot(\"radio\",\"sales\",data=data, kind='reg');"
   ]
  },
  {
   "cell_type": "code",
   "execution_count": 14,
   "id": "f7dae3f3",
   "metadata": {},
   "outputs": [
    {
     "data": {
      "image/png": "[encoded data removed]",
      "text/plain": [
       "<Figure size 432x432 with 3 Axes>"
      ]
     },
     "metadata": {
      "needs_background": "light"
     },
     "output_type": "display_data"
    }
   ],
   "source": [
    "sns.jointplot(\"TV\",\"sales\",data=data, kind='reg');"
   ]
  },
  {
   "cell_type": "markdown",
   "id": "7bcc73bb",
   "metadata": {},
   "source": [
    ">TV is most important for predicting Sales.\n",
    "\n",
    ">Radio is less important for predicting Sales.\n",
    "\n",
    ">Newspaper is least important/not important for predicting Sales."
   ]
  },
  {
   "cell_type": "code",
   "execution_count": 15,
   "id": "456f1301",
   "metadata": {},
   "outputs": [
    {
     "data": {
      "image/png": "[encoded data removed]",
      "text/plain": [
       "<Figure size 864x576 with 20 Axes>"
      ]
     },
     "metadata": {
      "needs_background": "light"
     },
     "output_type": "display_data"
    }
   ],
   "source": [
    "sns.pairplot(data, size=2, aspect=1.5);"
   ]
  },
  {
   "cell_type": "markdown",
   "id": "746b6616",
   "metadata": {},
   "source": [
    "__We always want a high correlation between Independent Variable and Dependent Variable. The more high it is, the better is the feature for predicting the Target Variable.__\n",
    "\n",
    "\n",
    "__However, there must be least correlation between any two Independent variables. If any independent variables have high positive or high negative correlation, then it leads to a major issue in ML which is called MULTICOLLINEARITY.__\n",
    "\n",
    "__If we find two Independent variables with high positive or high negative correlation, then we remove any one of the Independent variable.__"
   ]
  },
  {
   "cell_type": "code",
   "execution_count": 16,
   "id": "2252d04d",
   "metadata": {},
   "outputs": [
    {
     "data": {
      "image/png": "[encoded data removed]",
      "text/plain": [
       "<Figure size 1080x360 with 3 Axes>"
      ]
     },
     "metadata": {
      "needs_background": "light"
     },
     "output_type": "display_data"
    }
   ],
   "source": [
    "sns.pairplot(data, x_vars=['TV','radio','newspaper'], y_vars='sales', size=5, aspect=1, kind='reg');"
   ]
  },
  {
   "cell_type": "code",
   "execution_count": 17,
   "id": "de9ab22f",
   "metadata": {},
   "outputs": [
    {
     "data": {
      "text/html": [
       "<div>\n",
       "<style scoped>\n",
       "    .dataframe tbody tr th:only-of-type {\n",
       "        vertical-align: middle;\n",
       "    }\n",
       "\n",
       "    .dataframe tbody tr th {\n",
       "        vertical-align: top;\n",
       "    }\n",
       "\n",
       "    .dataframe thead th {\n",
       "        text-align: right;\n",
       "    }\n",
       "</style>\n",
       "<table border=\"1\" class=\"dataframe\">\n",
       "  <thead>\n",
       "    <tr style=\"text-align: right;\">\n",
       "      <th></th>\n",
       "      <th>TV</th>\n",
       "      <th>radio</th>\n",
       "      <th>newspaper</th>\n",
       "      <th>sales</th>\n",
       "    </tr>\n",
       "  </thead>\n",
       "  <tbody>\n",
       "    <tr>\n",
       "      <th>TV</th>\n",
       "      <td>1.000000</td>\n",
       "      <td>0.054809</td>\n",
       "      <td>0.056648</td>\n",
       "      <td>0.901208</td>\n",
       "    </tr>\n",
       "    <tr>\n",
       "      <th>radio</th>\n",
       "      <td>0.054809</td>\n",
       "      <td>1.000000</td>\n",
       "      <td>0.354104</td>\n",
       "      <td>0.349631</td>\n",
       "    </tr>\n",
       "    <tr>\n",
       "      <th>newspaper</th>\n",
       "      <td>0.056648</td>\n",
       "      <td>0.354104</td>\n",
       "      <td>1.000000</td>\n",
       "      <td>0.157960</td>\n",
       "    </tr>\n",
       "    <tr>\n",
       "      <th>sales</th>\n",
       "      <td>0.901208</td>\n",
       "      <td>0.349631</td>\n",
       "      <td>0.157960</td>\n",
       "      <td>1.000000</td>\n",
       "    </tr>\n",
       "  </tbody>\n",
       "</table>\n",
       "</div>"
      ],
      "text/plain": [
       "                 TV     radio  newspaper     sales\n",
       "TV         1.000000  0.054809   0.056648  0.901208\n",
       "radio      0.054809  1.000000   0.354104  0.349631\n",
       "newspaper  0.056648  0.354104   1.000000  0.157960\n",
       "sales      0.901208  0.349631   0.157960  1.000000"
      ]
     },
     "execution_count": 17,
     "metadata": {},
     "output_type": "execute_result"
    }
   ],
   "source": [
    "cor = data.corr()\n",
    "cor"
   ]
  },
  {
   "cell_type": "code",
   "execution_count": 18,
   "id": "593c2da4",
   "metadata": {},
   "outputs": [
    {
     "data": {
      "image/png": "[encoded data removed]",
      "text/plain": [
       "<Figure size 432x288 with 2 Axes>"
      ]
     },
     "metadata": {
      "needs_background": "light"
     },
     "output_type": "display_data"
    }
   ],
   "source": [
    "sns.heatmap(cor, annot=True);"
   ]
  },
  {
   "cell_type": "markdown",
   "id": "4d001d42",
   "metadata": {},
   "source": [
    "# Data Preparation"
   ]
  },
  {
   "cell_type": "code",
   "execution_count": 19,
   "id": "5f345835",
   "metadata": {},
   "outputs": [
    {
     "data": {
      "text/html": [
       "<div>\n",
       "<style scoped>\n",
       "    .dataframe tbody tr th:only-of-type {\n",
       "        vertical-align: middle;\n",
       "    }\n",
       "\n",
       "    .dataframe tbody tr th {\n",
       "        vertical-align: top;\n",
       "    }\n",
       "\n",
       "    .dataframe thead th {\n",
       "        text-align: right;\n",
       "    }\n",
       "</style>\n",
       "<table border=\"1\" class=\"dataframe\">\n",
       "  <thead>\n",
       "    <tr style=\"text-align: right;\">\n",
       "      <th></th>\n",
       "      <th>TV</th>\n",
       "      <th>radio</th>\n",
       "      <th>newspaper</th>\n",
       "      <th>sales</th>\n",
       "    </tr>\n",
       "  </thead>\n",
       "  <tbody>\n",
       "    <tr>\n",
       "      <th>0</th>\n",
       "      <td>230.1</td>\n",
       "      <td>37.8</td>\n",
       "      <td>69.2</td>\n",
       "      <td>22.1</td>\n",
       "    </tr>\n",
       "    <tr>\n",
       "      <th>1</th>\n",
       "      <td>44.5</td>\n",
       "      <td>39.3</td>\n",
       "      <td>45.1</td>\n",
       "      <td>10.4</td>\n",
       "    </tr>\n",
       "    <tr>\n",
       "      <th>2</th>\n",
       "      <td>17.2</td>\n",
       "      <td>45.9</td>\n",
       "      <td>69.3</td>\n",
       "      <td>12.0</td>\n",
       "    </tr>\n",
       "    <tr>\n",
       "      <th>3</th>\n",
       "      <td>151.5</td>\n",
       "      <td>41.3</td>\n",
       "      <td>58.5</td>\n",
       "      <td>16.5</td>\n",
       "    </tr>\n",
       "    <tr>\n",
       "      <th>4</th>\n",
       "      <td>180.8</td>\n",
       "      <td>10.8</td>\n",
       "      <td>58.4</td>\n",
       "      <td>17.9</td>\n",
       "    </tr>\n",
       "  </tbody>\n",
       "</table>\n",
       "</div>"
      ],
      "text/plain": [
       "      TV  radio  newspaper  sales\n",
       "0  230.1   37.8       69.2   22.1\n",
       "1   44.5   39.3       45.1   10.4\n",
       "2   17.2   45.9       69.3   12.0\n",
       "3  151.5   41.3       58.5   16.5\n",
       "4  180.8   10.8       58.4   17.9"
      ]
     },
     "execution_count": 19,
     "metadata": {},
     "output_type": "execute_result"
    }
   ],
   "source": [
    "data.head()"
   ]
  },
  {
   "cell_type": "code",
   "execution_count": 20,
   "id": "a3da0226",
   "metadata": {},
   "outputs": [
    {
     "data": {
      "text/html": [
       "<div>\n",
       "<style scoped>\n",
       "    .dataframe tbody tr th:only-of-type {\n",
       "        vertical-align: middle;\n",
       "    }\n",
       "\n",
       "    .dataframe tbody tr th {\n",
       "        vertical-align: top;\n",
       "    }\n",
       "\n",
       "    .dataframe thead th {\n",
       "        text-align: right;\n",
       "    }\n",
       "</style>\n",
       "<table border=\"1\" class=\"dataframe\">\n",
       "  <thead>\n",
       "    <tr style=\"text-align: right;\">\n",
       "      <th></th>\n",
       "      <th>TV</th>\n",
       "      <th>radio</th>\n",
       "      <th>newspaper</th>\n",
       "    </tr>\n",
       "  </thead>\n",
       "  <tbody>\n",
       "    <tr>\n",
       "      <th>0</th>\n",
       "      <td>230.1</td>\n",
       "      <td>37.8</td>\n",
       "      <td>69.2</td>\n",
       "    </tr>\n",
       "    <tr>\n",
       "      <th>1</th>\n",
       "      <td>44.5</td>\n",
       "      <td>39.3</td>\n",
       "      <td>45.1</td>\n",
       "    </tr>\n",
       "    <tr>\n",
       "      <th>2</th>\n",
       "      <td>17.2</td>\n",
       "      <td>45.9</td>\n",
       "      <td>69.3</td>\n",
       "    </tr>\n",
       "    <tr>\n",
       "      <th>3</th>\n",
       "      <td>151.5</td>\n",
       "      <td>41.3</td>\n",
       "      <td>58.5</td>\n",
       "    </tr>\n",
       "    <tr>\n",
       "      <th>4</th>\n",
       "      <td>180.8</td>\n",
       "      <td>10.8</td>\n",
       "      <td>58.4</td>\n",
       "    </tr>\n",
       "  </tbody>\n",
       "</table>\n",
       "</div>"
      ],
      "text/plain": [
       "      TV  radio  newspaper\n",
       "0  230.1   37.8       69.2\n",
       "1   44.5   39.3       45.1\n",
       "2   17.2   45.9       69.3\n",
       "3  151.5   41.3       58.5\n",
       "4  180.8   10.8       58.4"
      ]
     },
     "execution_count": 20,
     "metadata": {},
     "output_type": "execute_result"
    }
   ],
   "source": [
    "X = data.iloc[:,:-1]\n",
    "X.head()"
   ]
  },
  {
   "cell_type": "code",
   "execution_count": 21,
   "id": "c940c701",
   "metadata": {},
   "outputs": [
    {
     "data": {
      "text/plain": [
       "0      22.1\n",
       "1      10.4\n",
       "2      12.0\n",
       "3      16.5\n",
       "4      17.9\n",
       "       ... \n",
       "195     7.6\n",
       "196    14.0\n",
       "197    14.8\n",
       "198    25.5\n",
       "199    18.4\n",
       "Name: sales, Length: 200, dtype: float64"
      ]
     },
     "execution_count": 21,
     "metadata": {},
     "output_type": "execute_result"
    }
   ],
   "source": [
    "y = data.iloc[:,-1]\n",
    "y"
   ]
  },
  {
   "cell_type": "code",
   "execution_count": 22,
   "id": "059eba64",
   "metadata": {},
   "outputs": [
    {
     "data": {
      "text/plain": [
       "(200, 3)"
      ]
     },
     "execution_count": 22,
     "metadata": {},
     "output_type": "execute_result"
    }
   ],
   "source": [
    "X.shape"
   ]
  },
  {
   "cell_type": "code",
   "execution_count": 23,
   "id": "89b8f50f",
   "metadata": {},
   "outputs": [
    {
     "data": {
      "text/plain": [
       "(200,)"
      ]
     },
     "execution_count": 23,
     "metadata": {},
     "output_type": "execute_result"
    }
   ],
   "source": [
    "y.shape"
   ]
  },
  {
   "cell_type": "code",
   "execution_count": 24,
   "id": "8b71fde4",
   "metadata": {},
   "outputs": [
    {
     "name": "stdout",
     "output_type": "stream",
     "text": [
      "0.7663093395383884\n"
     ]
    }
   ],
   "source": [
    "# Not a part of Linear Regression\n",
    "\n",
    "import random\n",
    "print(random.random())"
   ]
  },
  {
   "cell_type": "code",
   "execution_count": 25,
   "id": "d6d7a0d8",
   "metadata": {},
   "outputs": [
    {
     "name": "stdout",
     "output_type": "stream",
     "text": [
      "0.7856937552535989 | 0.8604536447157166 | 0.04625188337487962 | 0.1438439254390418 | 0.6570095100261747 | 0.679604697603969 | 0.9949597962349241 | 0.6388649197076561 | 0.0016412239611469648 | 0.09048114359455173 | 0.6410733483914689 | 0.6610741484886613 | 0.3956525641769416 | 0.9738310568243101 | 0.1614221006275468 | 0.1425488277510304 | 0.2647022081203957 | 0.2711146206945586 | 0.9111691899152766 | 0.10360500604661749 | "
     ]
    }
   ],
   "source": [
    "# Not a part of Linear Regression\n",
    "for i in range(20):\n",
    "    print(random.random(), end=\" | \")"
   ]
  },
  {
   "cell_type": "code",
   "execution_count": 26,
   "id": "e0b00a9e",
   "metadata": {},
   "outputs": [
    {
     "name": "stdout",
     "output_type": "stream",
     "text": [
      "0.8444218515250481\n"
     ]
    }
   ],
   "source": [
    "# Not a part of Linear Regression\n",
    "\n",
    "import random\n",
    "random.seed(0)\n",
    "print(random.random())"
   ]
  },
  {
   "cell_type": "code",
   "execution_count": 27,
   "id": "6c7eeee9",
   "metadata": {},
   "outputs": [
    {
     "name": "stdout",
     "output_type": "stream",
     "text": [
      "0.4523795535098186\n"
     ]
    }
   ],
   "source": [
    "# Not a part of Linear Regression\n",
    "\n",
    "import random\n",
    "random.seed(11)\n",
    "print(random.random())"
   ]
  },
  {
   "cell_type": "code",
   "execution_count": 28,
   "id": "991d03dd",
   "metadata": {},
   "outputs": [
    {
     "name": "stdout",
     "output_type": "stream",
     "text": [
      "0.7966509679599704\n"
     ]
    }
   ],
   "source": [
    "# Not a part of Linear Regression\n",
    "\n",
    "import random\n",
    "random.seed(1001)\n",
    "print(random.random())"
   ]
  },
  {
   "cell_type": "code",
   "execution_count": 29,
   "id": "e43ef374",
   "metadata": {},
   "outputs": [
    {
     "name": "stdout",
     "output_type": "stream",
     "text": [
      "0.6229016948897019\n"
     ]
    }
   ],
   "source": [
    "# Not a part of Linear Regression\n",
    "\n",
    "import random\n",
    "random.seed(5)\n",
    "print(random.random())"
   ]
  },
  {
   "cell_type": "code",
   "execution_count": 30,
   "id": "490c64d6",
   "metadata": {},
   "outputs": [
    {
     "data": {
      "text/plain": [
       "(200, 3)"
      ]
     },
     "execution_count": 30,
     "metadata": {},
     "output_type": "execute_result"
    }
   ],
   "source": [
    "X.shape"
   ]
  },
  {
   "cell_type": "code",
   "execution_count": 31,
   "id": "4a70ccd2",
   "metadata": {},
   "outputs": [
    {
     "data": {
      "text/plain": [
       "(200,)"
      ]
     },
     "execution_count": 31,
     "metadata": {},
     "output_type": "execute_result"
    }
   ],
   "source": [
    "y.shape"
   ]
  },
  {
   "cell_type": "markdown",
   "id": "797ae50c",
   "metadata": {},
   "source": [
    "## Splitting X  and y into training and testing data"
   ]
  },
  {
   "cell_type": "code",
   "execution_count": 32,
   "id": "281dc454",
   "metadata": {},
   "outputs": [],
   "source": [
    "# https://scikit-learn.org/stable/modules/generated/sklearn.model_selection.train_test_split.html\n",
    "from sklearn.model_selection import train_test_split\n",
    "X_train, X_test, y_train, y_test = train_test_split(X, y, test_size= 0.2, random_state=0)\n",
    "# It is good to have train size atleast twice that of test size"
   ]
  },
  {
   "cell_type": "code",
   "execution_count": 33,
   "id": "2f22a2e9",
   "metadata": {},
   "outputs": [
    {
     "data": {
      "text/plain": [
       "(160, 3)"
      ]
     },
     "execution_count": 33,
     "metadata": {},
     "output_type": "execute_result"
    }
   ],
   "source": [
    "X_train.shape"
   ]
  },
  {
   "cell_type": "code",
   "execution_count": 34,
   "id": "bbc4f83f",
   "metadata": {},
   "outputs": [
    {
     "data": {
      "text/plain": [
       "(40, 3)"
      ]
     },
     "execution_count": 34,
     "metadata": {},
     "output_type": "execute_result"
    }
   ],
   "source": [
    "X_test.shape"
   ]
  },
  {
   "cell_type": "code",
   "execution_count": 35,
   "id": "eace9b9b",
   "metadata": {},
   "outputs": [
    {
     "data": {
      "text/plain": [
       "(160,)"
      ]
     },
     "execution_count": 35,
     "metadata": {},
     "output_type": "execute_result"
    }
   ],
   "source": [
    "y_train.shape"
   ]
  },
  {
   "cell_type": "code",
   "execution_count": 36,
   "id": "acd38bd7",
   "metadata": {},
   "outputs": [
    {
     "data": {
      "text/plain": [
       "(40,)"
      ]
     },
     "execution_count": 36,
     "metadata": {},
     "output_type": "execute_result"
    }
   ],
   "source": [
    "y_test.shape"
   ]
  },
  {
   "cell_type": "code",
   "execution_count": 37,
   "id": "54649326",
   "metadata": {},
   "outputs": [
    {
     "data": {
      "text/html": [
       "<div>\n",
       "<style scoped>\n",
       "    .dataframe tbody tr th:only-of-type {\n",
       "        vertical-align: middle;\n",
       "    }\n",
       "\n",
       "    .dataframe tbody tr th {\n",
       "        vertical-align: top;\n",
       "    }\n",
       "\n",
       "    .dataframe thead th {\n",
       "        text-align: right;\n",
       "    }\n",
       "</style>\n",
       "<table border=\"1\" class=\"dataframe\">\n",
       "  <thead>\n",
       "    <tr style=\"text-align: right;\">\n",
       "      <th></th>\n",
       "      <th>TV</th>\n",
       "      <th>radio</th>\n",
       "      <th>newspaper</th>\n",
       "    </tr>\n",
       "  </thead>\n",
       "  <tbody>\n",
       "    <tr>\n",
       "      <th>134</th>\n",
       "      <td>36.9</td>\n",
       "      <td>38.6</td>\n",
       "      <td>65.6</td>\n",
       "    </tr>\n",
       "    <tr>\n",
       "      <th>66</th>\n",
       "      <td>31.5</td>\n",
       "      <td>24.6</td>\n",
       "      <td>2.2</td>\n",
       "    </tr>\n",
       "    <tr>\n",
       "      <th>26</th>\n",
       "      <td>142.9</td>\n",
       "      <td>29.3</td>\n",
       "      <td>12.6</td>\n",
       "    </tr>\n",
       "    <tr>\n",
       "      <th>113</th>\n",
       "      <td>209.6</td>\n",
       "      <td>20.6</td>\n",
       "      <td>10.7</td>\n",
       "    </tr>\n",
       "    <tr>\n",
       "      <th>168</th>\n",
       "      <td>215.4</td>\n",
       "      <td>23.6</td>\n",
       "      <td>57.6</td>\n",
       "    </tr>\n",
       "  </tbody>\n",
       "</table>\n",
       "</div>"
      ],
      "text/plain": [
       "        TV  radio  newspaper\n",
       "134   36.9   38.6       65.6\n",
       "66    31.5   24.6        2.2\n",
       "26   142.9   29.3       12.6\n",
       "113  209.6   20.6       10.7\n",
       "168  215.4   23.6       57.6"
      ]
     },
     "execution_count": 37,
     "metadata": {},
     "output_type": "execute_result"
    }
   ],
   "source": [
    "X_train.head()"
   ]
  },
  {
   "cell_type": "code",
   "execution_count": 38,
   "id": "b96e7503",
   "metadata": {},
   "outputs": [
    {
     "data": {
      "text/html": [
       "<div>\n",
       "<style scoped>\n",
       "    .dataframe tbody tr th:only-of-type {\n",
       "        vertical-align: middle;\n",
       "    }\n",
       "\n",
       "    .dataframe tbody tr th {\n",
       "        vertical-align: top;\n",
       "    }\n",
       "\n",
       "    .dataframe thead th {\n",
       "        text-align: right;\n",
       "    }\n",
       "</style>\n",
       "<table border=\"1\" class=\"dataframe\">\n",
       "  <thead>\n",
       "    <tr style=\"text-align: right;\">\n",
       "      <th></th>\n",
       "      <th>TV</th>\n",
       "      <th>radio</th>\n",
       "      <th>newspaper</th>\n",
       "    </tr>\n",
       "  </thead>\n",
       "  <tbody>\n",
       "    <tr>\n",
       "      <th>18</th>\n",
       "      <td>69.2</td>\n",
       "      <td>20.5</td>\n",
       "      <td>18.3</td>\n",
       "    </tr>\n",
       "    <tr>\n",
       "      <th>170</th>\n",
       "      <td>50.0</td>\n",
       "      <td>11.6</td>\n",
       "      <td>18.4</td>\n",
       "    </tr>\n",
       "    <tr>\n",
       "      <th>107</th>\n",
       "      <td>90.4</td>\n",
       "      <td>0.3</td>\n",
       "      <td>23.2</td>\n",
       "    </tr>\n",
       "    <tr>\n",
       "      <th>98</th>\n",
       "      <td>289.7</td>\n",
       "      <td>42.3</td>\n",
       "      <td>51.2</td>\n",
       "    </tr>\n",
       "    <tr>\n",
       "      <th>177</th>\n",
       "      <td>170.2</td>\n",
       "      <td>7.8</td>\n",
       "      <td>35.2</td>\n",
       "    </tr>\n",
       "  </tbody>\n",
       "</table>\n",
       "</div>"
      ],
      "text/plain": [
       "        TV  radio  newspaper\n",
       "18    69.2   20.5       18.3\n",
       "170   50.0   11.6       18.4\n",
       "107   90.4    0.3       23.2\n",
       "98   289.7   42.3       51.2\n",
       "177  170.2    7.8       35.2"
      ]
     },
     "execution_count": 38,
     "metadata": {},
     "output_type": "execute_result"
    }
   ],
   "source": [
    "X_test.head()"
   ]
  },
  {
   "cell_type": "code",
   "execution_count": 39,
   "id": "0c34bbe7",
   "metadata": {
    "scrolled": true
   },
   "outputs": [
    {
     "data": {
      "text/html": [
       "<div>\n",
       "<style scoped>\n",
       "    .dataframe tbody tr th:only-of-type {\n",
       "        vertical-align: middle;\n",
       "    }\n",
       "\n",
       "    .dataframe tbody tr th {\n",
       "        vertical-align: top;\n",
       "    }\n",
       "\n",
       "    .dataframe thead th {\n",
       "        text-align: right;\n",
       "    }\n",
       "</style>\n",
       "<table border=\"1\" class=\"dataframe\">\n",
       "  <thead>\n",
       "    <tr style=\"text-align: right;\">\n",
       "      <th></th>\n",
       "      <th>TV</th>\n",
       "      <th>radio</th>\n",
       "      <th>newspaper</th>\n",
       "    </tr>\n",
       "  </thead>\n",
       "  <tbody>\n",
       "    <tr>\n",
       "      <th>67</th>\n",
       "      <td>139.3</td>\n",
       "      <td>14.5</td>\n",
       "      <td>10.2</td>\n",
       "    </tr>\n",
       "    <tr>\n",
       "      <th>192</th>\n",
       "      <td>17.2</td>\n",
       "      <td>4.1</td>\n",
       "      <td>31.6</td>\n",
       "    </tr>\n",
       "    <tr>\n",
       "      <th>117</th>\n",
       "      <td>76.4</td>\n",
       "      <td>0.8</td>\n",
       "      <td>14.8</td>\n",
       "    </tr>\n",
       "    <tr>\n",
       "      <th>47</th>\n",
       "      <td>239.9</td>\n",
       "      <td>41.5</td>\n",
       "      <td>18.5</td>\n",
       "    </tr>\n",
       "    <tr>\n",
       "      <th>172</th>\n",
       "      <td>19.6</td>\n",
       "      <td>20.1</td>\n",
       "      <td>17.0</td>\n",
       "    </tr>\n",
       "  </tbody>\n",
       "</table>\n",
       "</div>"
      ],
      "text/plain": [
       "        TV  radio  newspaper\n",
       "67   139.3   14.5       10.2\n",
       "192   17.2    4.1       31.6\n",
       "117   76.4    0.8       14.8\n",
       "47   239.9   41.5       18.5\n",
       "172   19.6   20.1       17.0"
      ]
     },
     "execution_count": 39,
     "metadata": {},
     "output_type": "execute_result"
    }
   ],
   "source": [
    "X_train.tail()"
   ]
  },
  {
   "cell_type": "code",
   "execution_count": 40,
   "id": "5e5d2c62",
   "metadata": {},
   "outputs": [
    {
     "data": {
      "text/plain": [
       "134    10.8\n",
       "66     11.0\n",
       "26     15.0\n",
       "113    20.9\n",
       "168    17.1\n",
       "       ... \n",
       "67     13.4\n",
       "192     5.9\n",
       "117     9.4\n",
       "47     23.2\n",
       "172     7.6\n",
       "Name: sales, Length: 160, dtype: float64"
      ]
     },
     "execution_count": 40,
     "metadata": {},
     "output_type": "execute_result"
    }
   ],
   "source": [
    "y_train"
   ]
  },
  {
   "cell_type": "code",
   "execution_count": 41,
   "id": "fee92606",
   "metadata": {},
   "outputs": [
    {
     "data": {
      "text/html": [
       "<div>\n",
       "<style scoped>\n",
       "    .dataframe tbody tr th:only-of-type {\n",
       "        vertical-align: middle;\n",
       "    }\n",
       "\n",
       "    .dataframe tbody tr th {\n",
       "        vertical-align: top;\n",
       "    }\n",
       "\n",
       "    .dataframe thead th {\n",
       "        text-align: right;\n",
       "    }\n",
       "</style>\n",
       "<table border=\"1\" class=\"dataframe\">\n",
       "  <thead>\n",
       "    <tr style=\"text-align: right;\">\n",
       "      <th></th>\n",
       "      <th>TV</th>\n",
       "      <th>radio</th>\n",
       "      <th>newspaper</th>\n",
       "    </tr>\n",
       "  </thead>\n",
       "  <tbody>\n",
       "    <tr>\n",
       "      <th>count</th>\n",
       "      <td>160.000000</td>\n",
       "      <td>160.000000</td>\n",
       "      <td>160.000000</td>\n",
       "    </tr>\n",
       "    <tr>\n",
       "      <th>mean</th>\n",
       "      <td>150.518125</td>\n",
       "      <td>23.388125</td>\n",
       "      <td>30.125625</td>\n",
       "    </tr>\n",
       "    <tr>\n",
       "      <th>std</th>\n",
       "      <td>84.957371</td>\n",
       "      <td>14.736240</td>\n",
       "      <td>21.444814</td>\n",
       "    </tr>\n",
       "    <tr>\n",
       "      <th>min</th>\n",
       "      <td>4.100000</td>\n",
       "      <td>0.000000</td>\n",
       "      <td>0.900000</td>\n",
       "    </tr>\n",
       "    <tr>\n",
       "      <th>25%</th>\n",
       "      <td>76.375000</td>\n",
       "      <td>9.525000</td>\n",
       "      <td>11.675000</td>\n",
       "    </tr>\n",
       "    <tr>\n",
       "      <th>50%</th>\n",
       "      <td>157.400000</td>\n",
       "      <td>24.300000</td>\n",
       "      <td>25.900000</td>\n",
       "    </tr>\n",
       "    <tr>\n",
       "      <th>75%</th>\n",
       "      <td>220.350000</td>\n",
       "      <td>36.350000</td>\n",
       "      <td>45.100000</td>\n",
       "    </tr>\n",
       "    <tr>\n",
       "      <th>max</th>\n",
       "      <td>296.400000</td>\n",
       "      <td>49.600000</td>\n",
       "      <td>100.900000</td>\n",
       "    </tr>\n",
       "  </tbody>\n",
       "</table>\n",
       "</div>"
      ],
      "text/plain": [
       "               TV       radio   newspaper\n",
       "count  160.000000  160.000000  160.000000\n",
       "mean   150.518125   23.388125   30.125625\n",
       "std     84.957371   14.736240   21.444814\n",
       "min      4.100000    0.000000    0.900000\n",
       "25%     76.375000    9.525000   11.675000\n",
       "50%    157.400000   24.300000   25.900000\n",
       "75%    220.350000   36.350000   45.100000\n",
       "max    296.400000   49.600000  100.900000"
      ]
     },
     "execution_count": 41,
     "metadata": {},
     "output_type": "execute_result"
    }
   ],
   "source": [
    "X_train.describe()"
   ]
  },
  {
   "cell_type": "markdown",
   "id": "759297d0",
   "metadata": {},
   "source": [
    "# 5 Oct, 2021 || Tue || Linear Regression\n",
    "\n",
    "# Standardization/Scaling\n",
    "\n",
    "There are many ways of scaling the data, however, the following 3 are very popular in the industry stated below in the order of their importance:\n",
    "\n",
    ">1. Standard Scaling\n",
    "\n",
    ">2. Min-Max Scaling\n",
    "\n",
    ">3. Robust Scaling\n",
    "\n",
    "\n",
    "Below cells are not a part of Linear Regression. They help us understand the concept the Scaling and it is very important for every ML algorithm to be supplied with scaled data."
   ]
  },
  {
   "cell_type": "code",
   "execution_count": 42,
   "id": "d586713a",
   "metadata": {},
   "outputs": [],
   "source": [
    "from sklearn.preprocessing import StandardScaler, MinMaxScaler, RobustScaler"
   ]
  },
  {
   "cell_type": "code",
   "execution_count": 43,
   "id": "d72028b1",
   "metadata": {},
   "outputs": [
    {
     "data": {
      "text/html": [
       "<div>\n",
       "<style scoped>\n",
       "    .dataframe tbody tr th:only-of-type {\n",
       "        vertical-align: middle;\n",
       "    }\n",
       "\n",
       "    .dataframe tbody tr th {\n",
       "        vertical-align: top;\n",
       "    }\n",
       "\n",
       "    .dataframe thead th {\n",
       "        text-align: right;\n",
       "    }\n",
       "</style>\n",
       "<table border=\"1\" class=\"dataframe\">\n",
       "  <thead>\n",
       "    <tr style=\"text-align: right;\">\n",
       "      <th></th>\n",
       "      <th>VIEW</th>\n",
       "    </tr>\n",
       "  </thead>\n",
       "  <tbody>\n",
       "    <tr>\n",
       "      <th>0</th>\n",
       "      <td>1295.0</td>\n",
       "    </tr>\n",
       "    <tr>\n",
       "      <th>1</th>\n",
       "      <td>25.0</td>\n",
       "    </tr>\n",
       "    <tr>\n",
       "      <th>2</th>\n",
       "      <td>19000.0</td>\n",
       "    </tr>\n",
       "    <tr>\n",
       "      <th>3</th>\n",
       "      <td>5.0</td>\n",
       "    </tr>\n",
       "    <tr>\n",
       "      <th>4</th>\n",
       "      <td>1.0</td>\n",
       "    </tr>\n",
       "    <tr>\n",
       "      <th>5</th>\n",
       "      <td>300.0</td>\n",
       "    </tr>\n",
       "  </tbody>\n",
       "</table>\n",
       "</div>"
      ],
      "text/plain": [
       "      VIEW\n",
       "0   1295.0\n",
       "1     25.0\n",
       "2  19000.0\n",
       "3      5.0\n",
       "4      1.0\n",
       "5    300.0"
      ]
     },
     "execution_count": 43,
     "metadata": {},
     "output_type": "execute_result"
    }
   ],
   "source": [
    "views = pd.DataFrame([1295,25,19000.,5,1,300], columns=['VIEW'])\n",
    "views"
   ]
  },
  {
   "cell_type": "markdown",
   "id": "e1df4cb2",
   "metadata": {},
   "source": [
    "# Standard Scaling\n",
    "\n",
    "![Standard Scaling](https://miro.medium.com/max/866/1*qXXqcZXhSTgw9tVhx7zNNw.gif \"Standard Scaling\")"
   ]
  },
  {
   "cell_type": "code",
   "execution_count": 44,
   "id": "1569dcdf",
   "metadata": {},
   "outputs": [
    {
     "data": {
      "text/html": [
       "<div>\n",
       "<style scoped>\n",
       "    .dataframe tbody tr th:only-of-type {\n",
       "        vertical-align: middle;\n",
       "    }\n",
       "\n",
       "    .dataframe tbody tr th {\n",
       "        vertical-align: top;\n",
       "    }\n",
       "\n",
       "    .dataframe thead th {\n",
       "        text-align: right;\n",
       "    }\n",
       "</style>\n",
       "<table border=\"1\" class=\"dataframe\">\n",
       "  <thead>\n",
       "    <tr style=\"text-align: right;\">\n",
       "      <th></th>\n",
       "      <th>VIEW</th>\n",
       "    </tr>\n",
       "  </thead>\n",
       "  <tbody>\n",
       "    <tr>\n",
       "      <th>count</th>\n",
       "      <td>6.000000</td>\n",
       "    </tr>\n",
       "    <tr>\n",
       "      <th>mean</th>\n",
       "      <td>3437.666667</td>\n",
       "    </tr>\n",
       "    <tr>\n",
       "      <th>std</th>\n",
       "      <td>7640.187999</td>\n",
       "    </tr>\n",
       "    <tr>\n",
       "      <th>min</th>\n",
       "      <td>1.000000</td>\n",
       "    </tr>\n",
       "    <tr>\n",
       "      <th>25%</th>\n",
       "      <td>10.000000</td>\n",
       "    </tr>\n",
       "    <tr>\n",
       "      <th>50%</th>\n",
       "      <td>162.500000</td>\n",
       "    </tr>\n",
       "    <tr>\n",
       "      <th>75%</th>\n",
       "      <td>1046.250000</td>\n",
       "    </tr>\n",
       "    <tr>\n",
       "      <th>max</th>\n",
       "      <td>19000.000000</td>\n",
       "    </tr>\n",
       "  </tbody>\n",
       "</table>\n",
       "</div>"
      ],
      "text/plain": [
       "               VIEW\n",
       "count      6.000000\n",
       "mean    3437.666667\n",
       "std     7640.187999\n",
       "min        1.000000\n",
       "25%       10.000000\n",
       "50%      162.500000\n",
       "75%     1046.250000\n",
       "max    19000.000000"
      ]
     },
     "execution_count": 44,
     "metadata": {},
     "output_type": "execute_result"
    }
   ],
   "source": [
    "views.describe()"
   ]
  },
  {
   "cell_type": "code",
   "execution_count": 45,
   "id": "9e31b348",
   "metadata": {},
   "outputs": [
    {
     "data": {
      "text/html": [
       "<div>\n",
       "<style scoped>\n",
       "    .dataframe tbody tr th:only-of-type {\n",
       "        vertical-align: middle;\n",
       "    }\n",
       "\n",
       "    .dataframe tbody tr th {\n",
       "        vertical-align: top;\n",
       "    }\n",
       "\n",
       "    .dataframe thead th {\n",
       "        text-align: right;\n",
       "    }\n",
       "</style>\n",
       "<table border=\"1\" class=\"dataframe\">\n",
       "  <thead>\n",
       "    <tr style=\"text-align: right;\">\n",
       "      <th></th>\n",
       "      <th>VIEW</th>\n",
       "      <th>zscore</th>\n",
       "    </tr>\n",
       "  </thead>\n",
       "  <tbody>\n",
       "    <tr>\n",
       "      <th>0</th>\n",
       "      <td>1295.0</td>\n",
       "      <td>-0.307214</td>\n",
       "    </tr>\n",
       "    <tr>\n",
       "      <th>1</th>\n",
       "      <td>25.0</td>\n",
       "      <td>-0.489306</td>\n",
       "    </tr>\n",
       "    <tr>\n",
       "      <th>2</th>\n",
       "      <td>19000.0</td>\n",
       "      <td>2.231317</td>\n",
       "    </tr>\n",
       "    <tr>\n",
       "      <th>3</th>\n",
       "      <td>5.0</td>\n",
       "      <td>-0.492173</td>\n",
       "    </tr>\n",
       "    <tr>\n",
       "      <th>4</th>\n",
       "      <td>1.0</td>\n",
       "      <td>-0.492747</td>\n",
       "    </tr>\n",
       "    <tr>\n",
       "      <th>5</th>\n",
       "      <td>300.0</td>\n",
       "      <td>-0.449877</td>\n",
       "    </tr>\n",
       "  </tbody>\n",
       "</table>\n",
       "</div>"
      ],
      "text/plain": [
       "      VIEW    zscore\n",
       "0   1295.0 -0.307214\n",
       "1     25.0 -0.489306\n",
       "2  19000.0  2.231317\n",
       "3      5.0 -0.492173\n",
       "4      1.0 -0.492747\n",
       "5    300.0 -0.449877"
      ]
     },
     "execution_count": 45,
     "metadata": {},
     "output_type": "execute_result"
    }
   ],
   "source": [
    "sc = StandardScaler() # create object of Standard Scaler\n",
    "views['zscore'] = sc.fit_transform(views[['VIEW']])\n",
    "views"
   ]
  },
  {
   "cell_type": "markdown",
   "id": "e28db56a",
   "metadata": {},
   "source": [
    "Because, Standard Scaling is the z-score, it gets the column converted to Normal Distribution."
   ]
  },
  {
   "cell_type": "code",
   "execution_count": 46,
   "id": "1a81c78d",
   "metadata": {},
   "outputs": [
    {
     "data": {
      "text/html": [
       "<div>\n",
       "<style scoped>\n",
       "    .dataframe tbody tr th:only-of-type {\n",
       "        vertical-align: middle;\n",
       "    }\n",
       "\n",
       "    .dataframe tbody tr th {\n",
       "        vertical-align: top;\n",
       "    }\n",
       "\n",
       "    .dataframe thead th {\n",
       "        text-align: right;\n",
       "    }\n",
       "</style>\n",
       "<table border=\"1\" class=\"dataframe\">\n",
       "  <thead>\n",
       "    <tr style=\"text-align: right;\">\n",
       "      <th></th>\n",
       "      <th>survived</th>\n",
       "      <th>pclass</th>\n",
       "      <th>sex</th>\n",
       "      <th>age</th>\n",
       "      <th>sibsp</th>\n",
       "      <th>parch</th>\n",
       "      <th>fare</th>\n",
       "      <th>embarked</th>\n",
       "      <th>class</th>\n",
       "      <th>who</th>\n",
       "      <th>adult_male</th>\n",
       "      <th>deck</th>\n",
       "      <th>embark_town</th>\n",
       "      <th>alive</th>\n",
       "      <th>alone</th>\n",
       "    </tr>\n",
       "  </thead>\n",
       "  <tbody>\n",
       "    <tr>\n",
       "      <th>0</th>\n",
       "      <td>0</td>\n",
       "      <td>3</td>\n",
       "      <td>male</td>\n",
       "      <td>22.0</td>\n",
       "      <td>1</td>\n",
       "      <td>0</td>\n",
       "      <td>7.2500</td>\n",
       "      <td>S</td>\n",
       "      <td>Third</td>\n",
       "      <td>man</td>\n",
       "      <td>True</td>\n",
       "      <td>NaN</td>\n",
       "      <td>Southampton</td>\n",
       "      <td>no</td>\n",
       "      <td>False</td>\n",
       "    </tr>\n",
       "    <tr>\n",
       "      <th>1</th>\n",
       "      <td>1</td>\n",
       "      <td>1</td>\n",
       "      <td>female</td>\n",
       "      <td>38.0</td>\n",
       "      <td>1</td>\n",
       "      <td>0</td>\n",
       "      <td>71.2833</td>\n",
       "      <td>C</td>\n",
       "      <td>First</td>\n",
       "      <td>woman</td>\n",
       "      <td>False</td>\n",
       "      <td>C</td>\n",
       "      <td>Cherbourg</td>\n",
       "      <td>yes</td>\n",
       "      <td>False</td>\n",
       "    </tr>\n",
       "    <tr>\n",
       "      <th>2</th>\n",
       "      <td>1</td>\n",
       "      <td>3</td>\n",
       "      <td>female</td>\n",
       "      <td>26.0</td>\n",
       "      <td>0</td>\n",
       "      <td>0</td>\n",
       "      <td>7.9250</td>\n",
       "      <td>S</td>\n",
       "      <td>Third</td>\n",
       "      <td>woman</td>\n",
       "      <td>False</td>\n",
       "      <td>NaN</td>\n",
       "      <td>Southampton</td>\n",
       "      <td>yes</td>\n",
       "      <td>True</td>\n",
       "    </tr>\n",
       "    <tr>\n",
       "      <th>3</th>\n",
       "      <td>1</td>\n",
       "      <td>1</td>\n",
       "      <td>female</td>\n",
       "      <td>35.0</td>\n",
       "      <td>1</td>\n",
       "      <td>0</td>\n",
       "      <td>53.1000</td>\n",
       "      <td>S</td>\n",
       "      <td>First</td>\n",
       "      <td>woman</td>\n",
       "      <td>False</td>\n",
       "      <td>C</td>\n",
       "      <td>Southampton</td>\n",
       "      <td>yes</td>\n",
       "      <td>False</td>\n",
       "    </tr>\n",
       "    <tr>\n",
       "      <th>4</th>\n",
       "      <td>0</td>\n",
       "      <td>3</td>\n",
       "      <td>male</td>\n",
       "      <td>35.0</td>\n",
       "      <td>0</td>\n",
       "      <td>0</td>\n",
       "      <td>8.0500</td>\n",
       "      <td>S</td>\n",
       "      <td>Third</td>\n",
       "      <td>man</td>\n",
       "      <td>True</td>\n",
       "      <td>NaN</td>\n",
       "      <td>Southampton</td>\n",
       "      <td>no</td>\n",
       "      <td>True</td>\n",
       "    </tr>\n",
       "  </tbody>\n",
       "</table>\n",
       "</div>"
      ],
      "text/plain": [
       "   survived  pclass     sex   age  sibsp  parch     fare embarked  class  \\\n",
       "0         0       3    male  22.0      1      0   7.2500        S  Third   \n",
       "1         1       1  female  38.0      1      0  71.2833        C  First   \n",
       "2         1       3  female  26.0      0      0   7.9250        S  Third   \n",
       "3         1       1  female  35.0      1      0  53.1000        S  First   \n",
       "4         0       3    male  35.0      0      0   8.0500        S  Third   \n",
       "\n",
       "     who  adult_male deck  embark_town alive  alone  \n",
       "0    man        True  NaN  Southampton    no  False  \n",
       "1  woman       False    C    Cherbourg   yes  False  \n",
       "2  woman       False  NaN  Southampton   yes   True  \n",
       "3  woman       False    C  Southampton   yes  False  \n",
       "4    man        True  NaN  Southampton    no   True  "
      ]
     },
     "execution_count": 46,
     "metadata": {},
     "output_type": "execute_result"
    }
   ],
   "source": [
    "hh = sns.load_dataset('titanic')\n",
    "hh.head()"
   ]
  },
  {
   "cell_type": "code",
   "execution_count": 47,
   "id": "07404c95",
   "metadata": {},
   "outputs": [
    {
     "data": {
      "image/png": "[encoded data removed]",
      "text/plain": [
       "<Figure size 432x288 with 1 Axes>"
      ]
     },
     "metadata": {
      "needs_background": "light"
     },
     "output_type": "display_data"
    }
   ],
   "source": [
    "sns.distplot(hh.fare);"
   ]
  },
  {
   "cell_type": "code",
   "execution_count": 48,
   "id": "74ed8c05",
   "metadata": {},
   "outputs": [
    {
     "data": {
      "text/html": [
       "<div>\n",
       "<style scoped>\n",
       "    .dataframe tbody tr th:only-of-type {\n",
       "        vertical-align: middle;\n",
       "    }\n",
       "\n",
       "    .dataframe tbody tr th {\n",
       "        vertical-align: top;\n",
       "    }\n",
       "\n",
       "    .dataframe thead th {\n",
       "        text-align: right;\n",
       "    }\n",
       "</style>\n",
       "<table border=\"1\" class=\"dataframe\">\n",
       "  <thead>\n",
       "    <tr style=\"text-align: right;\">\n",
       "      <th></th>\n",
       "      <th>survived</th>\n",
       "      <th>pclass</th>\n",
       "      <th>sex</th>\n",
       "      <th>age</th>\n",
       "      <th>sibsp</th>\n",
       "      <th>parch</th>\n",
       "      <th>fare</th>\n",
       "      <th>embarked</th>\n",
       "      <th>class</th>\n",
       "      <th>who</th>\n",
       "      <th>adult_male</th>\n",
       "      <th>deck</th>\n",
       "      <th>embark_town</th>\n",
       "      <th>alive</th>\n",
       "      <th>alone</th>\n",
       "    </tr>\n",
       "  </thead>\n",
       "  <tbody>\n",
       "    <tr>\n",
       "      <th>0</th>\n",
       "      <td>0</td>\n",
       "      <td>3</td>\n",
       "      <td>male</td>\n",
       "      <td>22.0</td>\n",
       "      <td>1</td>\n",
       "      <td>0</td>\n",
       "      <td>-0.502445</td>\n",
       "      <td>S</td>\n",
       "      <td>Third</td>\n",
       "      <td>man</td>\n",
       "      <td>True</td>\n",
       "      <td>NaN</td>\n",
       "      <td>Southampton</td>\n",
       "      <td>no</td>\n",
       "      <td>False</td>\n",
       "    </tr>\n",
       "    <tr>\n",
       "      <th>1</th>\n",
       "      <td>1</td>\n",
       "      <td>1</td>\n",
       "      <td>female</td>\n",
       "      <td>38.0</td>\n",
       "      <td>1</td>\n",
       "      <td>0</td>\n",
       "      <td>0.786845</td>\n",
       "      <td>C</td>\n",
       "      <td>First</td>\n",
       "      <td>woman</td>\n",
       "      <td>False</td>\n",
       "      <td>C</td>\n",
       "      <td>Cherbourg</td>\n",
       "      <td>yes</td>\n",
       "      <td>False</td>\n",
       "    </tr>\n",
       "    <tr>\n",
       "      <th>2</th>\n",
       "      <td>1</td>\n",
       "      <td>3</td>\n",
       "      <td>female</td>\n",
       "      <td>26.0</td>\n",
       "      <td>0</td>\n",
       "      <td>0</td>\n",
       "      <td>-0.488854</td>\n",
       "      <td>S</td>\n",
       "      <td>Third</td>\n",
       "      <td>woman</td>\n",
       "      <td>False</td>\n",
       "      <td>NaN</td>\n",
       "      <td>Southampton</td>\n",
       "      <td>yes</td>\n",
       "      <td>True</td>\n",
       "    </tr>\n",
       "    <tr>\n",
       "      <th>3</th>\n",
       "      <td>1</td>\n",
       "      <td>1</td>\n",
       "      <td>female</td>\n",
       "      <td>35.0</td>\n",
       "      <td>1</td>\n",
       "      <td>0</td>\n",
       "      <td>0.420730</td>\n",
       "      <td>S</td>\n",
       "      <td>First</td>\n",
       "      <td>woman</td>\n",
       "      <td>False</td>\n",
       "      <td>C</td>\n",
       "      <td>Southampton</td>\n",
       "      <td>yes</td>\n",
       "      <td>False</td>\n",
       "    </tr>\n",
       "    <tr>\n",
       "      <th>4</th>\n",
       "      <td>0</td>\n",
       "      <td>3</td>\n",
       "      <td>male</td>\n",
       "      <td>35.0</td>\n",
       "      <td>0</td>\n",
       "      <td>0</td>\n",
       "      <td>-0.486337</td>\n",
       "      <td>S</td>\n",
       "      <td>Third</td>\n",
       "      <td>man</td>\n",
       "      <td>True</td>\n",
       "      <td>NaN</td>\n",
       "      <td>Southampton</td>\n",
       "      <td>no</td>\n",
       "      <td>True</td>\n",
       "    </tr>\n",
       "  </tbody>\n",
       "</table>\n",
       "</div>"
      ],
      "text/plain": [
       "   survived  pclass     sex   age  sibsp  parch      fare embarked  class  \\\n",
       "0         0       3    male  22.0      1      0 -0.502445        S  Third   \n",
       "1         1       1  female  38.0      1      0  0.786845        C  First   \n",
       "2         1       3  female  26.0      0      0 -0.488854        S  Third   \n",
       "3         1       1  female  35.0      1      0  0.420730        S  First   \n",
       "4         0       3    male  35.0      0      0 -0.486337        S  Third   \n",
       "\n",
       "     who  adult_male deck  embark_town alive  alone  \n",
       "0    man        True  NaN  Southampton    no  False  \n",
       "1  woman       False    C    Cherbourg   yes  False  \n",
       "2  woman       False  NaN  Southampton   yes   True  \n",
       "3  woman       False    C  Southampton   yes  False  \n",
       "4    man        True  NaN  Southampton    no   True  "
      ]
     },
     "execution_count": 48,
     "metadata": {},
     "output_type": "execute_result"
    }
   ],
   "source": [
    "sc_hh = StandardScaler()\n",
    "hh[['fare']] = sc_hh.fit_transform(hh[['fare']])\n",
    "hh.head()"
   ]
  },
  {
   "cell_type": "code",
   "execution_count": 49,
   "id": "b71d1add",
   "metadata": {},
   "outputs": [
    {
     "data": {
      "text/plain": [
       "count    8.910000e+02\n",
       "mean    -4.373606e-17\n",
       "std      1.000562e+00\n",
       "min     -6.484217e-01\n",
       "25%     -4.891482e-01\n",
       "50%     -3.573909e-01\n",
       "75%     -2.424635e-02\n",
       "max      9.667167e+00\n",
       "Name: fare, dtype: float64"
      ]
     },
     "execution_count": 49,
     "metadata": {},
     "output_type": "execute_result"
    }
   ],
   "source": [
    "hh.fare.describe()"
   ]
  },
  {
   "cell_type": "code",
   "execution_count": 50,
   "id": "20710c21",
   "metadata": {},
   "outputs": [
    {
     "data": {
      "image/png": "[encoded data removed]",
      "text/plain": [
       "<Figure size 432x288 with 1 Axes>"
      ]
     },
     "metadata": {
      "needs_background": "light"
     },
     "output_type": "display_data"
    }
   ],
   "source": [
    "sns.distplot(hh.fare);"
   ]
  },
  {
   "cell_type": "code",
   "execution_count": 51,
   "id": "9be1940b",
   "metadata": {},
   "outputs": [
    {
     "data": {
      "image/png": "[encoded data removed]",
      "text/plain": [
       "<Figure size 432x288 with 1 Axes>"
      ]
     },
     "metadata": {
      "needs_background": "light"
     },
     "output_type": "display_data"
    }
   ],
   "source": [
    "sns.distplot(np.log(hh.fare));"
   ]
  },
  {
   "cell_type": "markdown",
   "id": "539c188a",
   "metadata": {},
   "source": [
    "# Min-Max Scaling\n",
    "\n",
    "![Min-Max Scaling](https://media.geeksforgeeks.org/wp-content/uploads/min-max-normalisation.jpg \"Min-Max Scaling\")"
   ]
  },
  {
   "cell_type": "code",
   "execution_count": 52,
   "id": "834b2993",
   "metadata": {},
   "outputs": [
    {
     "data": {
      "text/html": [
       "<div>\n",
       "<style scoped>\n",
       "    .dataframe tbody tr th:only-of-type {\n",
       "        vertical-align: middle;\n",
       "    }\n",
       "\n",
       "    .dataframe tbody tr th {\n",
       "        vertical-align: top;\n",
       "    }\n",
       "\n",
       "    .dataframe thead th {\n",
       "        text-align: right;\n",
       "    }\n",
       "</style>\n",
       "<table border=\"1\" class=\"dataframe\">\n",
       "  <thead>\n",
       "    <tr style=\"text-align: right;\">\n",
       "      <th></th>\n",
       "      <th>VIEW</th>\n",
       "      <th>zscore</th>\n",
       "    </tr>\n",
       "  </thead>\n",
       "  <tbody>\n",
       "    <tr>\n",
       "      <th>0</th>\n",
       "      <td>1295.0</td>\n",
       "      <td>-0.307214</td>\n",
       "    </tr>\n",
       "    <tr>\n",
       "      <th>1</th>\n",
       "      <td>25.0</td>\n",
       "      <td>-0.489306</td>\n",
       "    </tr>\n",
       "    <tr>\n",
       "      <th>2</th>\n",
       "      <td>19000.0</td>\n",
       "      <td>2.231317</td>\n",
       "    </tr>\n",
       "    <tr>\n",
       "      <th>3</th>\n",
       "      <td>5.0</td>\n",
       "      <td>-0.492173</td>\n",
       "    </tr>\n",
       "    <tr>\n",
       "      <th>4</th>\n",
       "      <td>1.0</td>\n",
       "      <td>-0.492747</td>\n",
       "    </tr>\n",
       "  </tbody>\n",
       "</table>\n",
       "</div>"
      ],
      "text/plain": [
       "      VIEW    zscore\n",
       "0   1295.0 -0.307214\n",
       "1     25.0 -0.489306\n",
       "2  19000.0  2.231317\n",
       "3      5.0 -0.492173\n",
       "4      1.0 -0.492747"
      ]
     },
     "execution_count": 52,
     "metadata": {},
     "output_type": "execute_result"
    }
   ],
   "source": [
    "views.head()"
   ]
  },
  {
   "cell_type": "code",
   "execution_count": 53,
   "id": "964e7216",
   "metadata": {
    "scrolled": true
   },
   "outputs": [
    {
     "data": {
      "text/html": [
       "<div>\n",
       "<style scoped>\n",
       "    .dataframe tbody tr th:only-of-type {\n",
       "        vertical-align: middle;\n",
       "    }\n",
       "\n",
       "    .dataframe tbody tr th {\n",
       "        vertical-align: top;\n",
       "    }\n",
       "\n",
       "    .dataframe thead th {\n",
       "        text-align: right;\n",
       "    }\n",
       "</style>\n",
       "<table border=\"1\" class=\"dataframe\">\n",
       "  <thead>\n",
       "    <tr style=\"text-align: right;\">\n",
       "      <th></th>\n",
       "      <th>VIEW</th>\n",
       "      <th>zscore</th>\n",
       "      <th>minmax</th>\n",
       "    </tr>\n",
       "  </thead>\n",
       "  <tbody>\n",
       "    <tr>\n",
       "      <th>0</th>\n",
       "      <td>1295.0</td>\n",
       "      <td>-0.307214</td>\n",
       "      <td>0.068109</td>\n",
       "    </tr>\n",
       "    <tr>\n",
       "      <th>1</th>\n",
       "      <td>25.0</td>\n",
       "      <td>-0.489306</td>\n",
       "      <td>0.001263</td>\n",
       "    </tr>\n",
       "    <tr>\n",
       "      <th>2</th>\n",
       "      <td>19000.0</td>\n",
       "      <td>2.231317</td>\n",
       "      <td>1.000000</td>\n",
       "    </tr>\n",
       "    <tr>\n",
       "      <th>3</th>\n",
       "      <td>5.0</td>\n",
       "      <td>-0.492173</td>\n",
       "      <td>0.000211</td>\n",
       "    </tr>\n",
       "    <tr>\n",
       "      <th>4</th>\n",
       "      <td>1.0</td>\n",
       "      <td>-0.492747</td>\n",
       "      <td>0.000000</td>\n",
       "    </tr>\n",
       "    <tr>\n",
       "      <th>5</th>\n",
       "      <td>300.0</td>\n",
       "      <td>-0.449877</td>\n",
       "      <td>0.015738</td>\n",
       "    </tr>\n",
       "  </tbody>\n",
       "</table>\n",
       "</div>"
      ],
      "text/plain": [
       "      VIEW    zscore    minmax\n",
       "0   1295.0 -0.307214  0.068109\n",
       "1     25.0 -0.489306  0.001263\n",
       "2  19000.0  2.231317  1.000000\n",
       "3      5.0 -0.492173  0.000211\n",
       "4      1.0 -0.492747  0.000000\n",
       "5    300.0 -0.449877  0.015738"
      ]
     },
     "execution_count": 53,
     "metadata": {},
     "output_type": "execute_result"
    }
   ],
   "source": [
    "mms = MinMaxScaler()\n",
    "views['minmax'] = mms.fit_transform(views[['VIEW']])\n",
    "views"
   ]
  },
  {
   "cell_type": "code",
   "execution_count": 54,
   "id": "4a1f2d72",
   "metadata": {
    "scrolled": true
   },
   "outputs": [
    {
     "data": {
      "text/html": [
       "<div>\n",
       "<style scoped>\n",
       "    .dataframe tbody tr th:only-of-type {\n",
       "        vertical-align: middle;\n",
       "    }\n",
       "\n",
       "    .dataframe tbody tr th {\n",
       "        vertical-align: top;\n",
       "    }\n",
       "\n",
       "    .dataframe thead th {\n",
       "        text-align: right;\n",
       "    }\n",
       "</style>\n",
       "<table border=\"1\" class=\"dataframe\">\n",
       "  <thead>\n",
       "    <tr style=\"text-align: right;\">\n",
       "      <th></th>\n",
       "      <th>survived</th>\n",
       "      <th>pclass</th>\n",
       "      <th>sex</th>\n",
       "      <th>age</th>\n",
       "      <th>sibsp</th>\n",
       "      <th>parch</th>\n",
       "      <th>fare</th>\n",
       "      <th>embarked</th>\n",
       "      <th>class</th>\n",
       "      <th>who</th>\n",
       "      <th>adult_male</th>\n",
       "      <th>deck</th>\n",
       "      <th>embark_town</th>\n",
       "      <th>alive</th>\n",
       "      <th>alone</th>\n",
       "    </tr>\n",
       "  </thead>\n",
       "  <tbody>\n",
       "    <tr>\n",
       "      <th>0</th>\n",
       "      <td>0</td>\n",
       "      <td>3</td>\n",
       "      <td>male</td>\n",
       "      <td>22.0</td>\n",
       "      <td>1</td>\n",
       "      <td>0</td>\n",
       "      <td>7.2500</td>\n",
       "      <td>S</td>\n",
       "      <td>Third</td>\n",
       "      <td>man</td>\n",
       "      <td>True</td>\n",
       "      <td>NaN</td>\n",
       "      <td>Southampton</td>\n",
       "      <td>no</td>\n",
       "      <td>False</td>\n",
       "    </tr>\n",
       "    <tr>\n",
       "      <th>1</th>\n",
       "      <td>1</td>\n",
       "      <td>1</td>\n",
       "      <td>female</td>\n",
       "      <td>38.0</td>\n",
       "      <td>1</td>\n",
       "      <td>0</td>\n",
       "      <td>71.2833</td>\n",
       "      <td>C</td>\n",
       "      <td>First</td>\n",
       "      <td>woman</td>\n",
       "      <td>False</td>\n",
       "      <td>C</td>\n",
       "      <td>Cherbourg</td>\n",
       "      <td>yes</td>\n",
       "      <td>False</td>\n",
       "    </tr>\n",
       "    <tr>\n",
       "      <th>2</th>\n",
       "      <td>1</td>\n",
       "      <td>3</td>\n",
       "      <td>female</td>\n",
       "      <td>26.0</td>\n",
       "      <td>0</td>\n",
       "      <td>0</td>\n",
       "      <td>7.9250</td>\n",
       "      <td>S</td>\n",
       "      <td>Third</td>\n",
       "      <td>woman</td>\n",
       "      <td>False</td>\n",
       "      <td>NaN</td>\n",
       "      <td>Southampton</td>\n",
       "      <td>yes</td>\n",
       "      <td>True</td>\n",
       "    </tr>\n",
       "    <tr>\n",
       "      <th>3</th>\n",
       "      <td>1</td>\n",
       "      <td>1</td>\n",
       "      <td>female</td>\n",
       "      <td>35.0</td>\n",
       "      <td>1</td>\n",
       "      <td>0</td>\n",
       "      <td>53.1000</td>\n",
       "      <td>S</td>\n",
       "      <td>First</td>\n",
       "      <td>woman</td>\n",
       "      <td>False</td>\n",
       "      <td>C</td>\n",
       "      <td>Southampton</td>\n",
       "      <td>yes</td>\n",
       "      <td>False</td>\n",
       "    </tr>\n",
       "    <tr>\n",
       "      <th>4</th>\n",
       "      <td>0</td>\n",
       "      <td>3</td>\n",
       "      <td>male</td>\n",
       "      <td>35.0</td>\n",
       "      <td>0</td>\n",
       "      <td>0</td>\n",
       "      <td>8.0500</td>\n",
       "      <td>S</td>\n",
       "      <td>Third</td>\n",
       "      <td>man</td>\n",
       "      <td>True</td>\n",
       "      <td>NaN</td>\n",
       "      <td>Southampton</td>\n",
       "      <td>no</td>\n",
       "      <td>True</td>\n",
       "    </tr>\n",
       "  </tbody>\n",
       "</table>\n",
       "</div>"
      ],
      "text/plain": [
       "   survived  pclass     sex   age  sibsp  parch     fare embarked  class  \\\n",
       "0         0       3    male  22.0      1      0   7.2500        S  Third   \n",
       "1         1       1  female  38.0      1      0  71.2833        C  First   \n",
       "2         1       3  female  26.0      0      0   7.9250        S  Third   \n",
       "3         1       1  female  35.0      1      0  53.1000        S  First   \n",
       "4         0       3    male  35.0      0      0   8.0500        S  Third   \n",
       "\n",
       "     who  adult_male deck  embark_town alive  alone  \n",
       "0    man        True  NaN  Southampton    no  False  \n",
       "1  woman       False    C    Cherbourg   yes  False  \n",
       "2  woman       False  NaN  Southampton   yes   True  \n",
       "3  woman       False    C  Southampton   yes  False  \n",
       "4    man        True  NaN  Southampton    no   True  "
      ]
     },
     "execution_count": 54,
     "metadata": {},
     "output_type": "execute_result"
    }
   ],
   "source": [
    "hh = sns.load_dataset('titanic')\n",
    "hh.head()"
   ]
  },
  {
   "cell_type": "code",
   "execution_count": 55,
   "id": "a0785025",
   "metadata": {},
   "outputs": [
    {
     "data": {
      "text/html": [
       "<div>\n",
       "<style scoped>\n",
       "    .dataframe tbody tr th:only-of-type {\n",
       "        vertical-align: middle;\n",
       "    }\n",
       "\n",
       "    .dataframe tbody tr th {\n",
       "        vertical-align: top;\n",
       "    }\n",
       "\n",
       "    .dataframe thead th {\n",
       "        text-align: right;\n",
       "    }\n",
       "</style>\n",
       "<table border=\"1\" class=\"dataframe\">\n",
       "  <thead>\n",
       "    <tr style=\"text-align: right;\">\n",
       "      <th></th>\n",
       "      <th>survived</th>\n",
       "      <th>pclass</th>\n",
       "      <th>sex</th>\n",
       "      <th>age</th>\n",
       "      <th>sibsp</th>\n",
       "      <th>parch</th>\n",
       "      <th>fare</th>\n",
       "      <th>embarked</th>\n",
       "      <th>class</th>\n",
       "      <th>who</th>\n",
       "      <th>adult_male</th>\n",
       "      <th>deck</th>\n",
       "      <th>embark_town</th>\n",
       "      <th>alive</th>\n",
       "      <th>alone</th>\n",
       "    </tr>\n",
       "  </thead>\n",
       "  <tbody>\n",
       "    <tr>\n",
       "      <th>0</th>\n",
       "      <td>0</td>\n",
       "      <td>3</td>\n",
       "      <td>male</td>\n",
       "      <td>22.0</td>\n",
       "      <td>1</td>\n",
       "      <td>0</td>\n",
       "      <td>0.014151</td>\n",
       "      <td>S</td>\n",
       "      <td>Third</td>\n",
       "      <td>man</td>\n",
       "      <td>True</td>\n",
       "      <td>NaN</td>\n",
       "      <td>Southampton</td>\n",
       "      <td>no</td>\n",
       "      <td>False</td>\n",
       "    </tr>\n",
       "    <tr>\n",
       "      <th>1</th>\n",
       "      <td>1</td>\n",
       "      <td>1</td>\n",
       "      <td>female</td>\n",
       "      <td>38.0</td>\n",
       "      <td>1</td>\n",
       "      <td>0</td>\n",
       "      <td>0.139136</td>\n",
       "      <td>C</td>\n",
       "      <td>First</td>\n",
       "      <td>woman</td>\n",
       "      <td>False</td>\n",
       "      <td>C</td>\n",
       "      <td>Cherbourg</td>\n",
       "      <td>yes</td>\n",
       "      <td>False</td>\n",
       "    </tr>\n",
       "    <tr>\n",
       "      <th>2</th>\n",
       "      <td>1</td>\n",
       "      <td>3</td>\n",
       "      <td>female</td>\n",
       "      <td>26.0</td>\n",
       "      <td>0</td>\n",
       "      <td>0</td>\n",
       "      <td>0.015469</td>\n",
       "      <td>S</td>\n",
       "      <td>Third</td>\n",
       "      <td>woman</td>\n",
       "      <td>False</td>\n",
       "      <td>NaN</td>\n",
       "      <td>Southampton</td>\n",
       "      <td>yes</td>\n",
       "      <td>True</td>\n",
       "    </tr>\n",
       "    <tr>\n",
       "      <th>3</th>\n",
       "      <td>1</td>\n",
       "      <td>1</td>\n",
       "      <td>female</td>\n",
       "      <td>35.0</td>\n",
       "      <td>1</td>\n",
       "      <td>0</td>\n",
       "      <td>0.103644</td>\n",
       "      <td>S</td>\n",
       "      <td>First</td>\n",
       "      <td>woman</td>\n",
       "      <td>False</td>\n",
       "      <td>C</td>\n",
       "      <td>Southampton</td>\n",
       "      <td>yes</td>\n",
       "      <td>False</td>\n",
       "    </tr>\n",
       "    <tr>\n",
       "      <th>4</th>\n",
       "      <td>0</td>\n",
       "      <td>3</td>\n",
       "      <td>male</td>\n",
       "      <td>35.0</td>\n",
       "      <td>0</td>\n",
       "      <td>0</td>\n",
       "      <td>0.015713</td>\n",
       "      <td>S</td>\n",
       "      <td>Third</td>\n",
       "      <td>man</td>\n",
       "      <td>True</td>\n",
       "      <td>NaN</td>\n",
       "      <td>Southampton</td>\n",
       "      <td>no</td>\n",
       "      <td>True</td>\n",
       "    </tr>\n",
       "  </tbody>\n",
       "</table>\n",
       "</div>"
      ],
      "text/plain": [
       "   survived  pclass     sex   age  sibsp  parch      fare embarked  class  \\\n",
       "0         0       3    male  22.0      1      0  0.014151        S  Third   \n",
       "1         1       1  female  38.0      1      0  0.139136        C  First   \n",
       "2         1       3  female  26.0      0      0  0.015469        S  Third   \n",
       "3         1       1  female  35.0      1      0  0.103644        S  First   \n",
       "4         0       3    male  35.0      0      0  0.015713        S  Third   \n",
       "\n",
       "     who  adult_male deck  embark_town alive  alone  \n",
       "0    man        True  NaN  Southampton    no  False  \n",
       "1  woman       False    C    Cherbourg   yes  False  \n",
       "2  woman       False  NaN  Southampton   yes   True  \n",
       "3  woman       False    C  Southampton   yes  False  \n",
       "4    man        True  NaN  Southampton    no   True  "
      ]
     },
     "execution_count": 55,
     "metadata": {},
     "output_type": "execute_result"
    }
   ],
   "source": [
    "mms_hh = MinMaxScaler()\n",
    "hh[['fare']] = mms_hh.fit_transform(hh[['fare']])\n",
    "hh.head()"
   ]
  },
  {
   "cell_type": "code",
   "execution_count": 56,
   "id": "4b5b4558",
   "metadata": {},
   "outputs": [
    {
     "data": {
      "image/png": "[encoded data removed]",
      "text/plain": [
       "<Figure size 432x288 with 1 Axes>"
      ]
     },
     "metadata": {
      "needs_background": "light"
     },
     "output_type": "display_data"
    }
   ],
   "source": [
    "sns.distplot(hh.fare);"
   ]
  },
  {
   "cell_type": "markdown",
   "id": "16c10b29",
   "metadata": {},
   "source": [
    "# Robust Scaling\n",
    "\n",
    "![Robust Scaling](https://media.geeksforgeeks.org/wp-content/uploads/20200624151526/for4.png \"Robust Scaling\")"
   ]
  },
  {
   "cell_type": "code",
   "execution_count": 57,
   "id": "ff09cee5",
   "metadata": {},
   "outputs": [
    {
     "data": {
      "text/html": [
       "<div>\n",
       "<style scoped>\n",
       "    .dataframe tbody tr th:only-of-type {\n",
       "        vertical-align: middle;\n",
       "    }\n",
       "\n",
       "    .dataframe tbody tr th {\n",
       "        vertical-align: top;\n",
       "    }\n",
       "\n",
       "    .dataframe thead th {\n",
       "        text-align: right;\n",
       "    }\n",
       "</style>\n",
       "<table border=\"1\" class=\"dataframe\">\n",
       "  <thead>\n",
       "    <tr style=\"text-align: right;\">\n",
       "      <th></th>\n",
       "      <th>VIEW</th>\n",
       "      <th>zscore</th>\n",
       "      <th>minmax</th>\n",
       "    </tr>\n",
       "  </thead>\n",
       "  <tbody>\n",
       "    <tr>\n",
       "      <th>0</th>\n",
       "      <td>1295.0</td>\n",
       "      <td>-0.307214</td>\n",
       "      <td>0.068109</td>\n",
       "    </tr>\n",
       "    <tr>\n",
       "      <th>1</th>\n",
       "      <td>25.0</td>\n",
       "      <td>-0.489306</td>\n",
       "      <td>0.001263</td>\n",
       "    </tr>\n",
       "    <tr>\n",
       "      <th>2</th>\n",
       "      <td>19000.0</td>\n",
       "      <td>2.231317</td>\n",
       "      <td>1.000000</td>\n",
       "    </tr>\n",
       "    <tr>\n",
       "      <th>3</th>\n",
       "      <td>5.0</td>\n",
       "      <td>-0.492173</td>\n",
       "      <td>0.000211</td>\n",
       "    </tr>\n",
       "    <tr>\n",
       "      <th>4</th>\n",
       "      <td>1.0</td>\n",
       "      <td>-0.492747</td>\n",
       "      <td>0.000000</td>\n",
       "    </tr>\n",
       "    <tr>\n",
       "      <th>5</th>\n",
       "      <td>300.0</td>\n",
       "      <td>-0.449877</td>\n",
       "      <td>0.015738</td>\n",
       "    </tr>\n",
       "  </tbody>\n",
       "</table>\n",
       "</div>"
      ],
      "text/plain": [
       "      VIEW    zscore    minmax\n",
       "0   1295.0 -0.307214  0.068109\n",
       "1     25.0 -0.489306  0.001263\n",
       "2  19000.0  2.231317  1.000000\n",
       "3      5.0 -0.492173  0.000211\n",
       "4      1.0 -0.492747  0.000000\n",
       "5    300.0 -0.449877  0.015738"
      ]
     },
     "execution_count": 57,
     "metadata": {},
     "output_type": "execute_result"
    }
   ],
   "source": [
    "views"
   ]
  },
  {
   "cell_type": "code",
   "execution_count": 58,
   "id": "db68dea7",
   "metadata": {},
   "outputs": [
    {
     "data": {
      "text/plain": [
       "count        6.000000\n",
       "mean      3437.666667\n",
       "std       7640.187999\n",
       "min          1.000000\n",
       "25%         10.000000\n",
       "50%        162.500000\n",
       "75%       1046.250000\n",
       "max      19000.000000\n",
       "Name: VIEW, dtype: float64"
      ]
     },
     "execution_count": 58,
     "metadata": {},
     "output_type": "execute_result"
    }
   ],
   "source": [
    "views.VIEW.describe()"
   ]
  },
  {
   "cell_type": "code",
   "execution_count": 59,
   "id": "b392916f",
   "metadata": {
    "scrolled": true
   },
   "outputs": [
    {
     "data": {
      "text/html": [
       "<div>\n",
       "<style scoped>\n",
       "    .dataframe tbody tr th:only-of-type {\n",
       "        vertical-align: middle;\n",
       "    }\n",
       "\n",
       "    .dataframe tbody tr th {\n",
       "        vertical-align: top;\n",
       "    }\n",
       "\n",
       "    .dataframe thead th {\n",
       "        text-align: right;\n",
       "    }\n",
       "</style>\n",
       "<table border=\"1\" class=\"dataframe\">\n",
       "  <thead>\n",
       "    <tr style=\"text-align: right;\">\n",
       "      <th></th>\n",
       "      <th>VIEW</th>\n",
       "      <th>zscore</th>\n",
       "      <th>minmax</th>\n",
       "      <th>robust</th>\n",
       "    </tr>\n",
       "  </thead>\n",
       "  <tbody>\n",
       "    <tr>\n",
       "      <th>0</th>\n",
       "      <td>1295.0</td>\n",
       "      <td>-0.307214</td>\n",
       "      <td>0.068109</td>\n",
       "      <td>1.092883</td>\n",
       "    </tr>\n",
       "    <tr>\n",
       "      <th>1</th>\n",
       "      <td>25.0</td>\n",
       "      <td>-0.489306</td>\n",
       "      <td>0.001263</td>\n",
       "      <td>-0.132690</td>\n",
       "    </tr>\n",
       "    <tr>\n",
       "      <th>2</th>\n",
       "      <td>19000.0</td>\n",
       "      <td>2.231317</td>\n",
       "      <td>1.000000</td>\n",
       "      <td>18.178528</td>\n",
       "    </tr>\n",
       "    <tr>\n",
       "      <th>3</th>\n",
       "      <td>5.0</td>\n",
       "      <td>-0.492173</td>\n",
       "      <td>0.000211</td>\n",
       "      <td>-0.151990</td>\n",
       "    </tr>\n",
       "    <tr>\n",
       "      <th>4</th>\n",
       "      <td>1.0</td>\n",
       "      <td>-0.492747</td>\n",
       "      <td>0.000000</td>\n",
       "      <td>-0.155850</td>\n",
       "    </tr>\n",
       "    <tr>\n",
       "      <th>5</th>\n",
       "      <td>300.0</td>\n",
       "      <td>-0.449877</td>\n",
       "      <td>0.015738</td>\n",
       "      <td>0.132690</td>\n",
       "    </tr>\n",
       "  </tbody>\n",
       "</table>\n",
       "</div>"
      ],
      "text/plain": [
       "      VIEW    zscore    minmax     robust\n",
       "0   1295.0 -0.307214  0.068109   1.092883\n",
       "1     25.0 -0.489306  0.001263  -0.132690\n",
       "2  19000.0  2.231317  1.000000  18.178528\n",
       "3      5.0 -0.492173  0.000211  -0.151990\n",
       "4      1.0 -0.492747  0.000000  -0.155850\n",
       "5    300.0 -0.449877  0.015738   0.132690"
      ]
     },
     "execution_count": 59,
     "metadata": {},
     "output_type": "execute_result"
    }
   ],
   "source": [
    "rs = RobustScaler()\n",
    "views['robust'] = rs.fit_transform(views[['VIEW']])\n",
    "views"
   ]
  },
  {
   "cell_type": "code",
   "execution_count": 60,
   "id": "842522c7",
   "metadata": {
    "scrolled": true
   },
   "outputs": [
    {
     "data": {
      "text/html": [
       "<div>\n",
       "<style scoped>\n",
       "    .dataframe tbody tr th:only-of-type {\n",
       "        vertical-align: middle;\n",
       "    }\n",
       "\n",
       "    .dataframe tbody tr th {\n",
       "        vertical-align: top;\n",
       "    }\n",
       "\n",
       "    .dataframe thead th {\n",
       "        text-align: right;\n",
       "    }\n",
       "</style>\n",
       "<table border=\"1\" class=\"dataframe\">\n",
       "  <thead>\n",
       "    <tr style=\"text-align: right;\">\n",
       "      <th></th>\n",
       "      <th>survived</th>\n",
       "      <th>pclass</th>\n",
       "      <th>sex</th>\n",
       "      <th>age</th>\n",
       "      <th>sibsp</th>\n",
       "      <th>parch</th>\n",
       "      <th>fare</th>\n",
       "      <th>embarked</th>\n",
       "      <th>class</th>\n",
       "      <th>who</th>\n",
       "      <th>adult_male</th>\n",
       "      <th>deck</th>\n",
       "      <th>embark_town</th>\n",
       "      <th>alive</th>\n",
       "      <th>alone</th>\n",
       "    </tr>\n",
       "  </thead>\n",
       "  <tbody>\n",
       "    <tr>\n",
       "      <th>0</th>\n",
       "      <td>0</td>\n",
       "      <td>3</td>\n",
       "      <td>male</td>\n",
       "      <td>22.0</td>\n",
       "      <td>1</td>\n",
       "      <td>0</td>\n",
       "      <td>7.2500</td>\n",
       "      <td>S</td>\n",
       "      <td>Third</td>\n",
       "      <td>man</td>\n",
       "      <td>True</td>\n",
       "      <td>NaN</td>\n",
       "      <td>Southampton</td>\n",
       "      <td>no</td>\n",
       "      <td>False</td>\n",
       "    </tr>\n",
       "    <tr>\n",
       "      <th>1</th>\n",
       "      <td>1</td>\n",
       "      <td>1</td>\n",
       "      <td>female</td>\n",
       "      <td>38.0</td>\n",
       "      <td>1</td>\n",
       "      <td>0</td>\n",
       "      <td>71.2833</td>\n",
       "      <td>C</td>\n",
       "      <td>First</td>\n",
       "      <td>woman</td>\n",
       "      <td>False</td>\n",
       "      <td>C</td>\n",
       "      <td>Cherbourg</td>\n",
       "      <td>yes</td>\n",
       "      <td>False</td>\n",
       "    </tr>\n",
       "    <tr>\n",
       "      <th>2</th>\n",
       "      <td>1</td>\n",
       "      <td>3</td>\n",
       "      <td>female</td>\n",
       "      <td>26.0</td>\n",
       "      <td>0</td>\n",
       "      <td>0</td>\n",
       "      <td>7.9250</td>\n",
       "      <td>S</td>\n",
       "      <td>Third</td>\n",
       "      <td>woman</td>\n",
       "      <td>False</td>\n",
       "      <td>NaN</td>\n",
       "      <td>Southampton</td>\n",
       "      <td>yes</td>\n",
       "      <td>True</td>\n",
       "    </tr>\n",
       "    <tr>\n",
       "      <th>3</th>\n",
       "      <td>1</td>\n",
       "      <td>1</td>\n",
       "      <td>female</td>\n",
       "      <td>35.0</td>\n",
       "      <td>1</td>\n",
       "      <td>0</td>\n",
       "      <td>53.1000</td>\n",
       "      <td>S</td>\n",
       "      <td>First</td>\n",
       "      <td>woman</td>\n",
       "      <td>False</td>\n",
       "      <td>C</td>\n",
       "      <td>Southampton</td>\n",
       "      <td>yes</td>\n",
       "      <td>False</td>\n",
       "    </tr>\n",
       "    <tr>\n",
       "      <th>4</th>\n",
       "      <td>0</td>\n",
       "      <td>3</td>\n",
       "      <td>male</td>\n",
       "      <td>35.0</td>\n",
       "      <td>0</td>\n",
       "      <td>0</td>\n",
       "      <td>8.0500</td>\n",
       "      <td>S</td>\n",
       "      <td>Third</td>\n",
       "      <td>man</td>\n",
       "      <td>True</td>\n",
       "      <td>NaN</td>\n",
       "      <td>Southampton</td>\n",
       "      <td>no</td>\n",
       "      <td>True</td>\n",
       "    </tr>\n",
       "  </tbody>\n",
       "</table>\n",
       "</div>"
      ],
      "text/plain": [
       "   survived  pclass     sex   age  sibsp  parch     fare embarked  class  \\\n",
       "0         0       3    male  22.0      1      0   7.2500        S  Third   \n",
       "1         1       1  female  38.0      1      0  71.2833        C  First   \n",
       "2         1       3  female  26.0      0      0   7.9250        S  Third   \n",
       "3         1       1  female  35.0      1      0  53.1000        S  First   \n",
       "4         0       3    male  35.0      0      0   8.0500        S  Third   \n",
       "\n",
       "     who  adult_male deck  embark_town alive  alone  \n",
       "0    man        True  NaN  Southampton    no  False  \n",
       "1  woman       False    C    Cherbourg   yes  False  \n",
       "2  woman       False  NaN  Southampton   yes   True  \n",
       "3  woman       False    C  Southampton   yes  False  \n",
       "4    man        True  NaN  Southampton    no   True  "
      ]
     },
     "execution_count": 60,
     "metadata": {},
     "output_type": "execute_result"
    }
   ],
   "source": [
    "hh = sns.load_dataset('titanic')\n",
    "hh.head()"
   ]
  },
  {
   "cell_type": "code",
   "execution_count": 61,
   "id": "f6749646",
   "metadata": {},
   "outputs": [
    {
     "data": {
      "text/html": [
       "<div>\n",
       "<style scoped>\n",
       "    .dataframe tbody tr th:only-of-type {\n",
       "        vertical-align: middle;\n",
       "    }\n",
       "\n",
       "    .dataframe tbody tr th {\n",
       "        vertical-align: top;\n",
       "    }\n",
       "\n",
       "    .dataframe thead th {\n",
       "        text-align: right;\n",
       "    }\n",
       "</style>\n",
       "<table border=\"1\" class=\"dataframe\">\n",
       "  <thead>\n",
       "    <tr style=\"text-align: right;\">\n",
       "      <th></th>\n",
       "      <th>survived</th>\n",
       "      <th>pclass</th>\n",
       "      <th>sex</th>\n",
       "      <th>age</th>\n",
       "      <th>sibsp</th>\n",
       "      <th>parch</th>\n",
       "      <th>fare</th>\n",
       "      <th>embarked</th>\n",
       "      <th>class</th>\n",
       "      <th>who</th>\n",
       "      <th>adult_male</th>\n",
       "      <th>deck</th>\n",
       "      <th>embark_town</th>\n",
       "      <th>alive</th>\n",
       "      <th>alone</th>\n",
       "    </tr>\n",
       "  </thead>\n",
       "  <tbody>\n",
       "    <tr>\n",
       "      <th>0</th>\n",
       "      <td>0</td>\n",
       "      <td>3</td>\n",
       "      <td>male</td>\n",
       "      <td>22.0</td>\n",
       "      <td>1</td>\n",
       "      <td>0</td>\n",
       "      <td>-0.312011</td>\n",
       "      <td>S</td>\n",
       "      <td>Third</td>\n",
       "      <td>man</td>\n",
       "      <td>True</td>\n",
       "      <td>NaN</td>\n",
       "      <td>Southampton</td>\n",
       "      <td>no</td>\n",
       "      <td>False</td>\n",
       "    </tr>\n",
       "    <tr>\n",
       "      <th>1</th>\n",
       "      <td>1</td>\n",
       "      <td>1</td>\n",
       "      <td>female</td>\n",
       "      <td>38.0</td>\n",
       "      <td>1</td>\n",
       "      <td>0</td>\n",
       "      <td>2.461242</td>\n",
       "      <td>C</td>\n",
       "      <td>First</td>\n",
       "      <td>woman</td>\n",
       "      <td>False</td>\n",
       "      <td>C</td>\n",
       "      <td>Cherbourg</td>\n",
       "      <td>yes</td>\n",
       "      <td>False</td>\n",
       "    </tr>\n",
       "    <tr>\n",
       "      <th>2</th>\n",
       "      <td>1</td>\n",
       "      <td>3</td>\n",
       "      <td>female</td>\n",
       "      <td>26.0</td>\n",
       "      <td>0</td>\n",
       "      <td>0</td>\n",
       "      <td>-0.282777</td>\n",
       "      <td>S</td>\n",
       "      <td>Third</td>\n",
       "      <td>woman</td>\n",
       "      <td>False</td>\n",
       "      <td>NaN</td>\n",
       "      <td>Southampton</td>\n",
       "      <td>yes</td>\n",
       "      <td>True</td>\n",
       "    </tr>\n",
       "    <tr>\n",
       "      <th>3</th>\n",
       "      <td>1</td>\n",
       "      <td>1</td>\n",
       "      <td>female</td>\n",
       "      <td>35.0</td>\n",
       "      <td>1</td>\n",
       "      <td>0</td>\n",
       "      <td>1.673732</td>\n",
       "      <td>S</td>\n",
       "      <td>First</td>\n",
       "      <td>woman</td>\n",
       "      <td>False</td>\n",
       "      <td>C</td>\n",
       "      <td>Southampton</td>\n",
       "      <td>yes</td>\n",
       "      <td>False</td>\n",
       "    </tr>\n",
       "    <tr>\n",
       "      <th>4</th>\n",
       "      <td>0</td>\n",
       "      <td>3</td>\n",
       "      <td>male</td>\n",
       "      <td>35.0</td>\n",
       "      <td>0</td>\n",
       "      <td>0</td>\n",
       "      <td>-0.277363</td>\n",
       "      <td>S</td>\n",
       "      <td>Third</td>\n",
       "      <td>man</td>\n",
       "      <td>True</td>\n",
       "      <td>NaN</td>\n",
       "      <td>Southampton</td>\n",
       "      <td>no</td>\n",
       "      <td>True</td>\n",
       "    </tr>\n",
       "  </tbody>\n",
       "</table>\n",
       "</div>"
      ],
      "text/plain": [
       "   survived  pclass     sex   age  sibsp  parch      fare embarked  class  \\\n",
       "0         0       3    male  22.0      1      0 -0.312011        S  Third   \n",
       "1         1       1  female  38.0      1      0  2.461242        C  First   \n",
       "2         1       3  female  26.0      0      0 -0.282777        S  Third   \n",
       "3         1       1  female  35.0      1      0  1.673732        S  First   \n",
       "4         0       3    male  35.0      0      0 -0.277363        S  Third   \n",
       "\n",
       "     who  adult_male deck  embark_town alive  alone  \n",
       "0    man        True  NaN  Southampton    no  False  \n",
       "1  woman       False    C    Cherbourg   yes  False  \n",
       "2  woman       False  NaN  Southampton   yes   True  \n",
       "3  woman       False    C  Southampton   yes  False  \n",
       "4    man        True  NaN  Southampton    no   True  "
      ]
     },
     "execution_count": 61,
     "metadata": {},
     "output_type": "execute_result"
    }
   ],
   "source": [
    "rs_hh = RobustScaler()\n",
    "hh[['fare']] = rs_hh.fit_transform(hh[['fare']])\n",
    "hh.head()"
   ]
  },
  {
   "cell_type": "code",
   "execution_count": 62,
   "id": "692b4cec",
   "metadata": {},
   "outputs": [
    {
     "data": {
      "image/png": "[encoded data removed]",
      "text/plain": [
       "<Figure size 432x288 with 1 Axes>"
      ]
     },
     "metadata": {
      "needs_background": "light"
     },
     "output_type": "display_data"
    }
   ],
   "source": [
    "sns.distplot(hh.fare);"
   ]
  },
  {
   "cell_type": "markdown",
   "id": "cfa343bd",
   "metadata": {},
   "source": [
    "![Scaling](https://miro.medium.com/max/2456/1*A9d4SEX0t_bAAPzZeVqwAQ.png \"Scaling\")"
   ]
  },
  {
   "cell_type": "markdown",
   "id": "8b4a3f42",
   "metadata": {},
   "source": [
    "# Linear Regression Continues..."
   ]
  },
  {
   "cell_type": "code",
   "execution_count": 63,
   "id": "4ee529f7",
   "metadata": {},
   "outputs": [
    {
     "data": {
      "text/plain": [
       "Index(['TV', 'radio', 'newspaper'], dtype='object')"
      ]
     },
     "execution_count": 63,
     "metadata": {},
     "output_type": "execute_result"
    }
   ],
   "source": [
    "X_train.columns"
   ]
  },
  {
   "cell_type": "code",
   "execution_count": 64,
   "id": "1ac1e256",
   "metadata": {},
   "outputs": [
    {
     "data": {
      "text/html": [
       "<div>\n",
       "<style scoped>\n",
       "    .dataframe tbody tr th:only-of-type {\n",
       "        vertical-align: middle;\n",
       "    }\n",
       "\n",
       "    .dataframe tbody tr th {\n",
       "        vertical-align: top;\n",
       "    }\n",
       "\n",
       "    .dataframe thead th {\n",
       "        text-align: right;\n",
       "    }\n",
       "</style>\n",
       "<table border=\"1\" class=\"dataframe\">\n",
       "  <thead>\n",
       "    <tr style=\"text-align: right;\">\n",
       "      <th></th>\n",
       "      <th>TV</th>\n",
       "      <th>radio</th>\n",
       "      <th>newspaper</th>\n",
       "    </tr>\n",
       "  </thead>\n",
       "  <tbody>\n",
       "    <tr>\n",
       "      <th>134</th>\n",
       "      <td>-1.341553</td>\n",
       "      <td>1.035518</td>\n",
       "      <td>1.659411</td>\n",
       "    </tr>\n",
       "    <tr>\n",
       "      <th>66</th>\n",
       "      <td>-1.405314</td>\n",
       "      <td>0.082496</td>\n",
       "      <td>-1.306297</td>\n",
       "    </tr>\n",
       "    <tr>\n",
       "      <th>26</th>\n",
       "      <td>-0.089952</td>\n",
       "      <td>0.402439</td>\n",
       "      <td>-0.819809</td>\n",
       "    </tr>\n",
       "    <tr>\n",
       "      <th>113</th>\n",
       "      <td>0.697613</td>\n",
       "      <td>-0.189796</td>\n",
       "      <td>-0.908687</td>\n",
       "    </tr>\n",
       "    <tr>\n",
       "      <th>168</th>\n",
       "      <td>0.766097</td>\n",
       "      <td>0.014423</td>\n",
       "      <td>1.285189</td>\n",
       "    </tr>\n",
       "  </tbody>\n",
       "</table>\n",
       "</div>"
      ],
      "text/plain": [
       "           TV     radio  newspaper\n",
       "134 -1.341553  1.035518   1.659411\n",
       "66  -1.405314  0.082496  -1.306297\n",
       "26  -0.089952  0.402439  -0.819809\n",
       "113  0.697613 -0.189796  -0.908687\n",
       "168  0.766097  0.014423   1.285189"
      ]
     },
     "execution_count": 64,
     "metadata": {},
     "output_type": "execute_result"
    }
   ],
   "source": [
    "from sklearn.preprocessing import StandardScaler\n",
    "scaler = StandardScaler()\n",
    "X_train[['TV', 'radio', 'newspaper']] = scaler.fit_transform(X_train[['TV', 'radio', 'newspaper']])\n",
    "X_train.head()"
   ]
  },
  {
   "cell_type": "code",
   "execution_count": 65,
   "id": "b2feae70",
   "metadata": {},
   "outputs": [
    {
     "data": {
      "text/html": [
       "<div>\n",
       "<style scoped>\n",
       "    .dataframe tbody tr th:only-of-type {\n",
       "        vertical-align: middle;\n",
       "    }\n",
       "\n",
       "    .dataframe tbody tr th {\n",
       "        vertical-align: top;\n",
       "    }\n",
       "\n",
       "    .dataframe thead th {\n",
       "        text-align: right;\n",
       "    }\n",
       "</style>\n",
       "<table border=\"1\" class=\"dataframe\">\n",
       "  <thead>\n",
       "    <tr style=\"text-align: right;\">\n",
       "      <th></th>\n",
       "      <th>TV</th>\n",
       "      <th>radio</th>\n",
       "      <th>newspaper</th>\n",
       "    </tr>\n",
       "  </thead>\n",
       "  <tbody>\n",
       "    <tr>\n",
       "      <th>count</th>\n",
       "      <td>1.600000e+02</td>\n",
       "      <td>1.600000e+02</td>\n",
       "      <td>1.600000e+02</td>\n",
       "    </tr>\n",
       "    <tr>\n",
       "      <th>mean</th>\n",
       "      <td>2.498002e-17</td>\n",
       "      <td>-1.670539e-16</td>\n",
       "      <td>-1.047773e-16</td>\n",
       "    </tr>\n",
       "    <tr>\n",
       "      <th>std</th>\n",
       "      <td>1.003140e+00</td>\n",
       "      <td>1.003140e+00</td>\n",
       "      <td>1.003140e+00</td>\n",
       "    </tr>\n",
       "    <tr>\n",
       "      <th>min</th>\n",
       "      <td>-1.728842e+00</td>\n",
       "      <td>-1.592099e+00</td>\n",
       "      <td>-1.367108e+00</td>\n",
       "    </tr>\n",
       "    <tr>\n",
       "      <th>25%</th>\n",
       "      <td>-8.754498e-01</td>\n",
       "      <td>-9.437042e-01</td>\n",
       "      <td>-8.630784e-01</td>\n",
       "    </tr>\n",
       "    <tr>\n",
       "      <th>50%</th>\n",
       "      <td>8.125819e-02</td>\n",
       "      <td>6.207404e-02</td>\n",
       "      <td>-1.976652e-01</td>\n",
       "    </tr>\n",
       "    <tr>\n",
       "      <th>75%</th>\n",
       "      <td>8.245444e-01</td>\n",
       "      <td>8.823534e-01</td>\n",
       "      <td>7.004673e-01</td>\n",
       "    </tr>\n",
       "    <tr>\n",
       "      <th>max</th>\n",
       "      <td>1.722510e+00</td>\n",
       "      <td>1.784320e+00</td>\n",
       "      <td>3.310665e+00</td>\n",
       "    </tr>\n",
       "  </tbody>\n",
       "</table>\n",
       "</div>"
      ],
      "text/plain": [
       "                 TV         radio     newspaper\n",
       "count  1.600000e+02  1.600000e+02  1.600000e+02\n",
       "mean   2.498002e-17 -1.670539e-16 -1.047773e-16\n",
       "std    1.003140e+00  1.003140e+00  1.003140e+00\n",
       "min   -1.728842e+00 -1.592099e+00 -1.367108e+00\n",
       "25%   -8.754498e-01 -9.437042e-01 -8.630784e-01\n",
       "50%    8.125819e-02  6.207404e-02 -1.976652e-01\n",
       "75%    8.245444e-01  8.823534e-01  7.004673e-01\n",
       "max    1.722510e+00  1.784320e+00  3.310665e+00"
      ]
     },
     "execution_count": 65,
     "metadata": {},
     "output_type": "execute_result"
    }
   ],
   "source": [
    "X_train.describe()"
   ]
  },
  {
   "cell_type": "code",
   "execution_count": 66,
   "id": "42a4db88",
   "metadata": {},
   "outputs": [
    {
     "data": {
      "text/plain": [
       "Index(['TV', 'radio', 'newspaper'], dtype='object')"
      ]
     },
     "execution_count": 66,
     "metadata": {},
     "output_type": "execute_result"
    }
   ],
   "source": [
    "X_test.columns"
   ]
  },
  {
   "cell_type": "code",
   "execution_count": 67,
   "id": "52a107a1",
   "metadata": {},
   "outputs": [
    {
     "data": {
      "text/html": [
       "<div>\n",
       "<style scoped>\n",
       "    .dataframe tbody tr th:only-of-type {\n",
       "        vertical-align: middle;\n",
       "    }\n",
       "\n",
       "    .dataframe tbody tr th {\n",
       "        vertical-align: top;\n",
       "    }\n",
       "\n",
       "    .dataframe thead th {\n",
       "        text-align: right;\n",
       "    }\n",
       "</style>\n",
       "<table border=\"1\" class=\"dataframe\">\n",
       "  <thead>\n",
       "    <tr style=\"text-align: right;\">\n",
       "      <th></th>\n",
       "      <th>TV</th>\n",
       "      <th>radio</th>\n",
       "      <th>newspaper</th>\n",
       "    </tr>\n",
       "  </thead>\n",
       "  <tbody>\n",
       "    <tr>\n",
       "      <th>18</th>\n",
       "      <td>-0.960169</td>\n",
       "      <td>-0.196603</td>\n",
       "      <td>-0.553176</td>\n",
       "    </tr>\n",
       "    <tr>\n",
       "      <th>170</th>\n",
       "      <td>-1.186874</td>\n",
       "      <td>-0.802453</td>\n",
       "      <td>-0.548498</td>\n",
       "    </tr>\n",
       "    <tr>\n",
       "      <th>107</th>\n",
       "      <td>-0.709849</td>\n",
       "      <td>-1.571677</td>\n",
       "      <td>-0.323965</td>\n",
       "    </tr>\n",
       "    <tr>\n",
       "      <th>98</th>\n",
       "      <td>1.643399</td>\n",
       "      <td>1.287388</td>\n",
       "      <td>0.985811</td>\n",
       "    </tr>\n",
       "    <tr>\n",
       "      <th>177</th>\n",
       "      <td>0.232395</td>\n",
       "      <td>-1.061130</td>\n",
       "      <td>0.237368</td>\n",
       "    </tr>\n",
       "  </tbody>\n",
       "</table>\n",
       "</div>"
      ],
      "text/plain": [
       "           TV     radio  newspaper\n",
       "18  -0.960169 -0.196603  -0.553176\n",
       "170 -1.186874 -0.802453  -0.548498\n",
       "107 -0.709849 -1.571677  -0.323965\n",
       "98   1.643399  1.287388   0.985811\n",
       "177  0.232395 -1.061130   0.237368"
      ]
     },
     "execution_count": 67,
     "metadata": {},
     "output_type": "execute_result"
    }
   ],
   "source": [
    "X_test[['TV', 'radio', 'newspaper']] = scaler.transform(X_test[['TV', 'radio', 'newspaper']])\n",
    "X_test.head()"
   ]
  },
  {
   "cell_type": "markdown",
   "id": "5f09b4ba",
   "metadata": {},
   "source": [
    "# Modeling using Linear Regression"
   ]
  },
  {
   "cell_type": "code",
   "execution_count": 68,
   "id": "d75445d7",
   "metadata": {},
   "outputs": [
    {
     "data": {
      "text/plain": [
       "LinearRegression()"
      ]
     },
     "execution_count": 68,
     "metadata": {},
     "output_type": "execute_result"
    }
   ],
   "source": [
    "from sklearn.linear_model import LinearRegression\n",
    "regressor = LinearRegression()\n",
    "regressor.fit(X_train, y_train)"
   ]
  },
  {
   "cell_type": "code",
   "execution_count": 69,
   "id": "35bb9b06",
   "metadata": {},
   "outputs": [
    {
     "data": {
      "text/plain": [
       "LinearRegression()"
      ]
     },
     "execution_count": 69,
     "metadata": {},
     "output_type": "execute_result"
    }
   ],
   "source": [
    "regressor"
   ]
  },
  {
   "cell_type": "code",
   "execution_count": 70,
   "id": "fcb83ff7",
   "metadata": {},
   "outputs": [
    {
     "data": {
      "text/plain": [
       "15.355625"
      ]
     },
     "execution_count": 70,
     "metadata": {},
     "output_type": "execute_result"
    }
   ],
   "source": [
    "# y = mx + c\n",
    "# Intercept c\n",
    "regressor.intercept_"
   ]
  },
  {
   "cell_type": "code",
   "execution_count": 71,
   "id": "08baeae4",
   "metadata": {},
   "outputs": [
    {
     "data": {
      "text/plain": [
       "array([ 4.54624242,  1.6383335 , -0.07507122])"
      ]
     },
     "execution_count": 71,
     "metadata": {},
     "output_type": "execute_result"
    }
   ],
   "source": [
    "# y = mx + c\n",
    "# Slope\n",
    "regressor.coef_"
   ]
  },
  {
   "cell_type": "code",
   "execution_count": 72,
   "id": "6fa966f5",
   "metadata": {},
   "outputs": [
    {
     "data": {
      "text/plain": [
       "Index(['TV', 'radio', 'newspaper'], dtype='object')"
      ]
     },
     "execution_count": 72,
     "metadata": {},
     "output_type": "execute_result"
    }
   ],
   "source": [
    "X_train.columns"
   ]
  },
  {
   "cell_type": "code",
   "execution_count": 73,
   "id": "b1442cf0",
   "metadata": {},
   "outputs": [],
   "source": [
    "# y = m1*x1 + m2*x2 + m3*x3 + c\n",
    "# y = 4.54624242*x1 + 1.6383335*x2 + (-0.07507122)*x3 + 15.355625"
   ]
  },
  {
   "cell_type": "code",
   "execution_count": 74,
   "id": "2260d181",
   "metadata": {},
   "outputs": [
    {
     "data": {
      "text/plain": [
       "array([10.70988945,  8.68629773,  9.5778695 , 24.86207988, 14.65584473,\n",
       "        8.3214275 , 10.43048002, 18.4453765 ,  9.73394291, 17.9290798 ,\n",
       "       23.369886  , 10.67916356, 13.44032325, 17.17416235, 11.77380187,\n",
       "       13.37072678, 21.26009906,  9.19666875, 14.13201846, 18.9260716 ,\n",
       "       24.75507991, 12.48481182, 16.57130583, 13.77344772,  7.79299106,\n",
       "       15.19648316, 14.71607944, 20.73862119, 17.01041859,  8.83474391,\n",
       "       12.09424377, 20.74886454, 21.26147987, 21.90420095,  7.08087067,\n",
       "        7.04431681,  9.15949871, 15.47796148, 13.28282334,  7.23769883])"
      ]
     },
     "execution_count": 74,
     "metadata": {},
     "output_type": "execute_result"
    }
   ],
   "source": [
    "y_pred_test = regressor.predict(X_test)\n",
    "y_pred_test"
   ]
  },
  {
   "cell_type": "code",
   "execution_count": 75,
   "id": "5130c00a",
   "metadata": {},
   "outputs": [
    {
     "name": "stdout",
     "output_type": "stream",
     "text": [
      "18     11.3\n",
      "170     8.4\n",
      "107    12.0\n",
      "98     25.4\n",
      "177    16.7\n",
      "182     8.7\n",
      "5       7.2\n",
      "146    18.2\n",
      "12      9.2\n",
      "152    16.6\n",
      "61     24.2\n",
      "125    10.6\n",
      "180    15.5\n",
      "154    20.6\n",
      "80     11.8\n",
      "7      13.2\n",
      "33     17.4\n",
      "130     1.6\n",
      "37     14.7\n",
      "74     17.0\n",
      "183    26.2\n",
      "145    10.3\n",
      "45     16.1\n",
      "159    12.9\n",
      "60      8.1\n",
      "123    15.2\n",
      "179    17.6\n",
      "185    22.6\n",
      "122    16.6\n",
      "44      8.5\n",
      "16     12.5\n",
      "55     23.7\n",
      "150    16.1\n",
      "111    21.8\n",
      "22      5.6\n",
      "189     6.7\n",
      "129     9.7\n",
      "4      17.9\n",
      "83     13.6\n",
      "106     7.2\n",
      "Name: sales, dtype: float64\n"
     ]
    }
   ],
   "source": [
    "print(y_test)"
   ]
  },
  {
   "cell_type": "code",
   "execution_count": 76,
   "id": "9c57c676",
   "metadata": {},
   "outputs": [
    {
     "data": {
      "text/plain": [
       "array([10.82854696,  9.1999467 , 15.66755686, 18.28441044, 18.76563654,\n",
       "       13.5578255 ,  5.46554711, 10.24015212, 15.35798265, 10.90303735,\n",
       "       12.15078076, 20.43450999, 20.66736217, 16.9634418 ,  9.97774034,\n",
       "        9.45843981, 23.50058204, 15.94383157, 18.01948292,  8.15357406,\n",
       "       19.18158045, 15.75000711, 17.00831939, 15.27868163, 18.26380058,\n",
       "       19.98829408, 22.03107586, 17.62807341, 11.22069262, 11.87977832,\n",
       "       19.58867934, 12.4962567 , 22.47889831, 24.37804925, 11.45121116,\n",
       "       15.81772994, 21.46383289, 19.23698119, 19.44385752, 18.85357902,\n",
       "       18.16835447, 10.56704957,  9.89798803,  7.18796945,  5.43112588,\n",
       "       19.25163068, 10.57219825, 19.34095833, 10.46427938, 15.28929431,\n",
       "       16.72372112,  8.8833268 , 16.75837349, 12.24518887, 10.34790049,\n",
       "       19.79976041, 24.94405796,  9.35259015, 22.05834552, 15.91386693,\n",
       "        9.35785287, 10.00946274, 15.72270805, 21.09767063, 12.06153332,\n",
       "       17.6102679 , 16.87762037, 16.48249632, 16.38605079, 17.86364994,\n",
       "       21.21152573,  9.54002871, 18.55619634, 16.96555843, 10.82932601,\n",
       "       13.19310027, 18.82114964, 12.40236778, 12.57783585, 19.39868325,\n",
       "       20.39632254,  8.36470235, 21.36653242, 20.90115138, 17.01633152,\n",
       "        6.3551573 , 17.30633491, 13.75039551, 12.68498036, 24.44849875,\n",
       "       11.43534488, 20.5451935 , 20.91083096,  8.02552182,  6.2669813 ,\n",
       "       15.76801984, 14.48781475,  6.3598593 , 18.16092016, 18.96089605,\n",
       "        7.520708  , 20.86562206, 20.80540566, 14.16743886,  9.51116251,\n",
       "       11.38657281, 15.18486136, 16.81525392, 23.61662513, 17.14331413,\n",
       "        8.25025681, 14.55981349, 24.09926095,  9.94130677, 20.14983429,\n",
       "       19.52156085, 12.87412818, 22.0524696 , 10.04053691, 21.07074686,\n",
       "       14.06926105, 12.03429433, 12.6386898 ,  9.85161279,  9.04603833,\n",
       "       21.40413649, 10.05284606, 20.17923642, 21.19414833, 23.13741357,\n",
       "       10.20416108, 16.52020744, 10.96516695, 11.77772423, 12.52293105,\n",
       "       11.26576585, 18.39849834,  9.82442141, 14.37028398, 19.20755611,\n",
       "       17.44257842, 17.97335967, 21.66292249, 17.04483589, 11.45692806,\n",
       "       21.1044237 , 21.4882725 , 10.56396683, 12.09931713, 18.7377057 ,\n",
       "       15.02161549, 23.96770275, 18.00311004, 15.7140012 , 16.71508007,\n",
       "       13.83214835,  6.04279121,  8.91160981, 22.21442349,  8.00731339])"
      ]
     },
     "execution_count": 76,
     "metadata": {},
     "output_type": "execute_result"
    }
   ],
   "source": [
    "y_pred_train = regressor.predict(X_train)\n",
    "y_pred_train"
   ]
  },
  {
   "cell_type": "code",
   "execution_count": 77,
   "id": "38ed7df1",
   "metadata": {},
   "outputs": [
    {
     "data": {
      "text/plain": [
       "134    10.8\n",
       "66     11.0\n",
       "26     15.0\n",
       "113    20.9\n",
       "168    17.1\n",
       "       ... \n",
       "67     13.4\n",
       "192     5.9\n",
       "117     9.4\n",
       "47     23.2\n",
       "172     7.6\n",
       "Name: sales, Length: 160, dtype: float64"
      ]
     },
     "execution_count": 77,
     "metadata": {},
     "output_type": "execute_result"
    }
   ],
   "source": [
    "y_train"
   ]
  },
  {
   "cell_type": "code",
   "execution_count": 78,
   "id": "e388163c",
   "metadata": {},
   "outputs": [
    {
     "data": {
      "text/html": [
       "<div>\n",
       "<style scoped>\n",
       "    .dataframe tbody tr th:only-of-type {\n",
       "        vertical-align: middle;\n",
       "    }\n",
       "\n",
       "    .dataframe tbody tr th {\n",
       "        vertical-align: top;\n",
       "    }\n",
       "\n",
       "    .dataframe thead th {\n",
       "        text-align: right;\n",
       "    }\n",
       "</style>\n",
       "<table border=\"1\" class=\"dataframe\">\n",
       "  <thead>\n",
       "    <tr style=\"text-align: right;\">\n",
       "      <th></th>\n",
       "      <th>TV</th>\n",
       "      <th>radio</th>\n",
       "      <th>newspaper</th>\n",
       "    </tr>\n",
       "  </thead>\n",
       "  <tbody>\n",
       "    <tr>\n",
       "      <th>189</th>\n",
       "      <td>-1.556451</td>\n",
       "      <td>-0.768416</td>\n",
       "      <td>-0.314609</td>\n",
       "    </tr>\n",
       "    <tr>\n",
       "      <th>129</th>\n",
       "      <td>-1.073522</td>\n",
       "      <td>-0.775224</td>\n",
       "      <td>0.606912</td>\n",
       "    </tr>\n",
       "    <tr>\n",
       "      <th>4</th>\n",
       "      <td>0.357555</td>\n",
       "      <td>-0.856911</td>\n",
       "      <td>1.322611</td>\n",
       "    </tr>\n",
       "    <tr>\n",
       "      <th>83</th>\n",
       "      <td>-0.969615</td>\n",
       "      <td>1.437148</td>\n",
       "      <td>0.256079</td>\n",
       "    </tr>\n",
       "    <tr>\n",
       "      <th>106</th>\n",
       "      <td>-1.482063</td>\n",
       "      <td>-0.843297</td>\n",
       "      <td>-0.019910</td>\n",
       "    </tr>\n",
       "  </tbody>\n",
       "</table>\n",
       "</div>"
      ],
      "text/plain": [
       "           TV     radio  newspaper\n",
       "189 -1.556451 -0.768416  -0.314609\n",
       "129 -1.073522 -0.775224   0.606912\n",
       "4    0.357555 -0.856911   1.322611\n",
       "83  -0.969615  1.437148   0.256079\n",
       "106 -1.482063 -0.843297  -0.019910"
      ]
     },
     "execution_count": 78,
     "metadata": {},
     "output_type": "execute_result"
    }
   ],
   "source": [
    "X_test.tail()"
   ]
  },
  {
   "cell_type": "code",
   "execution_count": 79,
   "id": "907e6f10",
   "metadata": {},
   "outputs": [
    {
     "data": {
      "text/plain": [
       "array([10.70988945,  8.68629773,  9.5778695 , 24.86207988, 14.65584473,\n",
       "        8.3214275 , 10.43048002, 18.4453765 ,  9.73394291, 17.9290798 ,\n",
       "       23.369886  , 10.67916356, 13.44032325, 17.17416235, 11.77380187,\n",
       "       13.37072678, 21.26009906,  9.19666875, 14.13201846, 18.9260716 ,\n",
       "       24.75507991, 12.48481182, 16.57130583, 13.77344772,  7.79299106,\n",
       "       15.19648316, 14.71607944, 20.73862119, 17.01041859,  8.83474391,\n",
       "       12.09424377, 20.74886454, 21.26147987, 21.90420095,  7.08087067,\n",
       "        7.04431681,  9.15949871, 15.47796148, 13.28282334,  7.23769883])"
      ]
     },
     "execution_count": 79,
     "metadata": {},
     "output_type": "execute_result"
    }
   ],
   "source": [
    "y_pred_test"
   ]
  },
  {
   "cell_type": "code",
   "execution_count": 80,
   "id": "ef7c5ce5",
   "metadata": {},
   "outputs": [
    {
     "data": {
      "text/plain": [
       "7.237700262728239"
      ]
     },
     "execution_count": 80,
     "metadata": {},
     "output_type": "execute_result"
    }
   ],
   "source": [
    "# y = m1*x1 + m2*x2 + m3*x3 + c\n",
    "# y = 4.54624242*x1 + 1.6383335*x2 + (-0.07507122)*x3 + 15.355625\n",
    "op = 4.54624242*(-1.482063) + 1.6383335*(-0.843297) + (-0.07507122)*(-0.019910) + 15.355625\n",
    "op"
   ]
  },
  {
   "cell_type": "code",
   "execution_count": 81,
   "id": "f04832bc",
   "metadata": {},
   "outputs": [
    {
     "data": {
      "text/plain": [
       "13.28282370584332"
      ]
     },
     "execution_count": 81,
     "metadata": {},
     "output_type": "execute_result"
    }
   ],
   "source": [
    "op = 4.54624242*(-0.969615) + 1.6383335*(1.437148) + (-0.07507122)*(0.256079) + 15.355625\n",
    "op"
   ]
  },
  {
   "cell_type": "markdown",
   "id": "6767afb3",
   "metadata": {},
   "source": [
    "# Compute how good is out model.\n",
    "\n",
    "# Happy Learning"
   ]
  },
  {
   "cell_type": "markdown",
   "id": "e5961857",
   "metadata": {},
   "source": [
    "# 7 Oct, 2021 || Thurs || Linear Regression\n"
   ]
  },
  {
   "cell_type": "code",
   "execution_count": 82,
   "id": "a31ca86f",
   "metadata": {},
   "outputs": [],
   "source": [
    "from sklearn.metrics import mean_absolute_error, mean_squared_error, r2_score"
   ]
  },
  {
   "cell_type": "code",
   "execution_count": 83,
   "id": "5ae743d9",
   "metadata": {},
   "outputs": [
    {
     "name": "stdout",
     "output_type": "stream",
     "text": [
      "1.192574010437895   1.417031303060066\n"
     ]
    }
   ],
   "source": [
    "MAE_train = mean_absolute_error(y_train, y_pred_train)\n",
    "MAE_test = mean_absolute_error(y_test, y_pred_test)\n",
    "print(MAE_train,\" \",MAE_test)"
   ]
  },
  {
   "cell_type": "code",
   "execution_count": 84,
   "id": "38aca8e7",
   "metadata": {},
   "outputs": [
    {
     "name": "stdout",
     "output_type": "stream",
     "text": [
      "2.267479192455655   4.522552562041288\n"
     ]
    }
   ],
   "source": [
    "MSE_train = mean_squared_error(y_train, y_pred_train)\n",
    "MSE_test = mean_squared_error(y_test, y_pred_test)\n",
    "print(MSE_train,\" \",MSE_test)"
   ]
  },
  {
   "cell_type": "code",
   "execution_count": 85,
   "id": "157fab03",
   "metadata": {},
   "outputs": [
    {
     "name": "stdout",
     "output_type": "stream",
     "text": [
      "1.5058151255900092   2.1266293899128943\n"
     ]
    }
   ],
   "source": [
    "RMSE_train = np.sqrt(mean_squared_error(y_train, y_pred_train))\n",
    "RMSE_test = np.sqrt(mean_squared_error(y_test, y_pred_test))\n",
    "print(RMSE_train,\" \",RMSE_test)"
   ]
  },
  {
   "cell_type": "code",
   "execution_count": 86,
   "id": "ffcb5da2",
   "metadata": {},
   "outputs": [
    {
     "name": "stdout",
     "output_type": "stream",
     "text": [
      "0.9132130769530317   0.8645053923967725\n"
     ]
    }
   ],
   "source": [
    "R2_train = r2_score(y_train, y_pred_train)\n",
    "R2_test = r2_score(y_test, y_pred_test)\n",
    "print(R2_train,\" \",R2_test)"
   ]
  },
  {
   "cell_type": "code",
   "execution_count": 87,
   "id": "9a2e4542",
   "metadata": {},
   "outputs": [
    {
     "data": {
      "text/plain": [
       "(160, 3)"
      ]
     },
     "execution_count": 87,
     "metadata": {},
     "output_type": "execute_result"
    }
   ],
   "source": [
    "X_train.shape"
   ]
  },
  {
   "cell_type": "code",
   "execution_count": 89,
   "id": "2b6011bc",
   "metadata": {},
   "outputs": [
    {
     "name": "stdout",
     "output_type": "stream",
     "text": [
      "160 3\n"
     ]
    }
   ],
   "source": [
    "n = X_train.shape[0]\n",
    "p = X_train.shape[1]\n",
    "print(n,p)"
   ]
  },
  {
   "cell_type": "code",
   "execution_count": 90,
   "id": "3ec114bf",
   "metadata": {},
   "outputs": [
    {
     "data": {
      "text/plain": [
       "0.9115440976636668"
      ]
     },
     "execution_count": 90,
     "metadata": {},
     "output_type": "execute_result"
    }
   ],
   "source": [
    "num = (1-R2_train)*(n-1)\n",
    "den = n-p-1\n",
    "AR2_train = 1-(num/den)\n",
    "AR2_train"
   ]
  },
  {
   "cell_type": "code",
   "execution_count": 91,
   "id": "c9d8ca5f",
   "metadata": {},
   "outputs": [
    {
     "data": {
      "text/plain": [
       "(40, 3)"
      ]
     },
     "execution_count": 91,
     "metadata": {},
     "output_type": "execute_result"
    }
   ],
   "source": [
    "X_test.shape"
   ]
  },
  {
   "cell_type": "code",
   "execution_count": 92,
   "id": "aa29d450",
   "metadata": {},
   "outputs": [
    {
     "name": "stdout",
     "output_type": "stream",
     "text": [
      "40 3\n"
     ]
    }
   ],
   "source": [
    "n = X_test.shape[0]\n",
    "p = X_test.shape[1]\n",
    "print(n,p)"
   ]
  },
  {
   "cell_type": "code",
   "execution_count": 93,
   "id": "b2bb86bc",
   "metadata": {},
   "outputs": [
    {
     "data": {
      "text/plain": [
       "0.8532141750965035"
      ]
     },
     "execution_count": 93,
     "metadata": {},
     "output_type": "execute_result"
    }
   ],
   "source": [
    "num = (1-R2_test)*(n-1)\n",
    "den = n-p-1\n",
    "AR2_test = 1-(num/den)\n",
    "AR2_test"
   ]
  },
  {
   "cell_type": "code",
   "execution_count": null,
   "id": "ba910460",
   "metadata": {},
   "outputs": [],
   "source": []
  },
  {
   "cell_type": "markdown",
   "id": "36c4d03c",
   "metadata": {},
   "source": [
    "# Modeling with a new model using Linear Regression"
   ]
  },
  {
   "cell_type": "code",
   "execution_count": 94,
   "id": "0749ab1d",
   "metadata": {},
   "outputs": [
    {
     "data": {
      "text/html": [
       "<div>\n",
       "<style scoped>\n",
       "    .dataframe tbody tr th:only-of-type {\n",
       "        vertical-align: middle;\n",
       "    }\n",
       "\n",
       "    .dataframe tbody tr th {\n",
       "        vertical-align: top;\n",
       "    }\n",
       "\n",
       "    .dataframe thead th {\n",
       "        text-align: right;\n",
       "    }\n",
       "</style>\n",
       "<table border=\"1\" class=\"dataframe\">\n",
       "  <thead>\n",
       "    <tr style=\"text-align: right;\">\n",
       "      <th></th>\n",
       "      <th>TV</th>\n",
       "      <th>radio</th>\n",
       "      <th>newspaper</th>\n",
       "    </tr>\n",
       "  </thead>\n",
       "  <tbody>\n",
       "    <tr>\n",
       "      <th>134</th>\n",
       "      <td>-1.341553</td>\n",
       "      <td>1.035518</td>\n",
       "      <td>1.659411</td>\n",
       "    </tr>\n",
       "    <tr>\n",
       "      <th>66</th>\n",
       "      <td>-1.405314</td>\n",
       "      <td>0.082496</td>\n",
       "      <td>-1.306297</td>\n",
       "    </tr>\n",
       "    <tr>\n",
       "      <th>26</th>\n",
       "      <td>-0.089952</td>\n",
       "      <td>0.402439</td>\n",
       "      <td>-0.819809</td>\n",
       "    </tr>\n",
       "    <tr>\n",
       "      <th>113</th>\n",
       "      <td>0.697613</td>\n",
       "      <td>-0.189796</td>\n",
       "      <td>-0.908687</td>\n",
       "    </tr>\n",
       "    <tr>\n",
       "      <th>168</th>\n",
       "      <td>0.766097</td>\n",
       "      <td>0.014423</td>\n",
       "      <td>1.285189</td>\n",
       "    </tr>\n",
       "  </tbody>\n",
       "</table>\n",
       "</div>"
      ],
      "text/plain": [
       "           TV     radio  newspaper\n",
       "134 -1.341553  1.035518   1.659411\n",
       "66  -1.405314  0.082496  -1.306297\n",
       "26  -0.089952  0.402439  -0.819809\n",
       "113  0.697613 -0.189796  -0.908687\n",
       "168  0.766097  0.014423   1.285189"
      ]
     },
     "execution_count": 94,
     "metadata": {},
     "output_type": "execute_result"
    }
   ],
   "source": [
    "X_train.head()"
   ]
  },
  {
   "cell_type": "code",
   "execution_count": 96,
   "id": "74f909d9",
   "metadata": {},
   "outputs": [],
   "source": [
    "X_train.drop(['newspaper'], axis=1, inplace=True)"
   ]
  },
  {
   "cell_type": "code",
   "execution_count": 97,
   "id": "e1caa17a",
   "metadata": {},
   "outputs": [],
   "source": [
    "X_test.drop(['newspaper'], axis=1, inplace=True)"
   ]
  },
  {
   "cell_type": "code",
   "execution_count": 98,
   "id": "ae035b04",
   "metadata": {},
   "outputs": [
    {
     "data": {
      "text/html": [
       "<div>\n",
       "<style scoped>\n",
       "    .dataframe tbody tr th:only-of-type {\n",
       "        vertical-align: middle;\n",
       "    }\n",
       "\n",
       "    .dataframe tbody tr th {\n",
       "        vertical-align: top;\n",
       "    }\n",
       "\n",
       "    .dataframe thead th {\n",
       "        text-align: right;\n",
       "    }\n",
       "</style>\n",
       "<table border=\"1\" class=\"dataframe\">\n",
       "  <thead>\n",
       "    <tr style=\"text-align: right;\">\n",
       "      <th></th>\n",
       "      <th>TV</th>\n",
       "      <th>radio</th>\n",
       "    </tr>\n",
       "  </thead>\n",
       "  <tbody>\n",
       "    <tr>\n",
       "      <th>134</th>\n",
       "      <td>-1.341553</td>\n",
       "      <td>1.035518</td>\n",
       "    </tr>\n",
       "    <tr>\n",
       "      <th>66</th>\n",
       "      <td>-1.405314</td>\n",
       "      <td>0.082496</td>\n",
       "    </tr>\n",
       "    <tr>\n",
       "      <th>26</th>\n",
       "      <td>-0.089952</td>\n",
       "      <td>0.402439</td>\n",
       "    </tr>\n",
       "    <tr>\n",
       "      <th>113</th>\n",
       "      <td>0.697613</td>\n",
       "      <td>-0.189796</td>\n",
       "    </tr>\n",
       "    <tr>\n",
       "      <th>168</th>\n",
       "      <td>0.766097</td>\n",
       "      <td>0.014423</td>\n",
       "    </tr>\n",
       "  </tbody>\n",
       "</table>\n",
       "</div>"
      ],
      "text/plain": [
       "           TV     radio\n",
       "134 -1.341553  1.035518\n",
       "66  -1.405314  0.082496\n",
       "26  -0.089952  0.402439\n",
       "113  0.697613 -0.189796\n",
       "168  0.766097  0.014423"
      ]
     },
     "execution_count": 98,
     "metadata": {},
     "output_type": "execute_result"
    }
   ],
   "source": [
    "X_train.head()"
   ]
  },
  {
   "cell_type": "code",
   "execution_count": 99,
   "id": "2d85c139",
   "metadata": {},
   "outputs": [
    {
     "data": {
      "text/html": [
       "<div>\n",
       "<style scoped>\n",
       "    .dataframe tbody tr th:only-of-type {\n",
       "        vertical-align: middle;\n",
       "    }\n",
       "\n",
       "    .dataframe tbody tr th {\n",
       "        vertical-align: top;\n",
       "    }\n",
       "\n",
       "    .dataframe thead th {\n",
       "        text-align: right;\n",
       "    }\n",
       "</style>\n",
       "<table border=\"1\" class=\"dataframe\">\n",
       "  <thead>\n",
       "    <tr style=\"text-align: right;\">\n",
       "      <th></th>\n",
       "      <th>TV</th>\n",
       "      <th>radio</th>\n",
       "    </tr>\n",
       "  </thead>\n",
       "  <tbody>\n",
       "    <tr>\n",
       "      <th>18</th>\n",
       "      <td>-0.960169</td>\n",
       "      <td>-0.196603</td>\n",
       "    </tr>\n",
       "    <tr>\n",
       "      <th>170</th>\n",
       "      <td>-1.186874</td>\n",
       "      <td>-0.802453</td>\n",
       "    </tr>\n",
       "    <tr>\n",
       "      <th>107</th>\n",
       "      <td>-0.709849</td>\n",
       "      <td>-1.571677</td>\n",
       "    </tr>\n",
       "    <tr>\n",
       "      <th>98</th>\n",
       "      <td>1.643399</td>\n",
       "      <td>1.287388</td>\n",
       "    </tr>\n",
       "    <tr>\n",
       "      <th>177</th>\n",
       "      <td>0.232395</td>\n",
       "      <td>-1.061130</td>\n",
       "    </tr>\n",
       "  </tbody>\n",
       "</table>\n",
       "</div>"
      ],
      "text/plain": [
       "           TV     radio\n",
       "18  -0.960169 -0.196603\n",
       "170 -1.186874 -0.802453\n",
       "107 -0.709849 -1.571677\n",
       "98   1.643399  1.287388\n",
       "177  0.232395 -1.061130"
      ]
     },
     "execution_count": 99,
     "metadata": {},
     "output_type": "execute_result"
    }
   ],
   "source": [
    "X_test.head()"
   ]
  },
  {
   "cell_type": "code",
   "execution_count": 100,
   "id": "fb4baff6",
   "metadata": {},
   "outputs": [
    {
     "data": {
      "text/plain": [
       "LinearRegression()"
      ]
     },
     "execution_count": 100,
     "metadata": {},
     "output_type": "execute_result"
    }
   ],
   "source": [
    "from sklearn.linear_model import LinearRegression\n",
    "regressor2 = LinearRegression()\n",
    "regressor2.fit(X_train, y_train)"
   ]
  },
  {
   "cell_type": "code",
   "execution_count": 101,
   "id": "c983b2ba",
   "metadata": {},
   "outputs": [
    {
     "data": {
      "text/plain": [
       "LinearRegression()"
      ]
     },
     "execution_count": 101,
     "metadata": {},
     "output_type": "execute_result"
    }
   ],
   "source": [
    "regressor2"
   ]
  },
  {
   "cell_type": "code",
   "execution_count": 102,
   "id": "56f598b3",
   "metadata": {},
   "outputs": [
    {
     "data": {
      "text/plain": [
       "15.355625"
      ]
     },
     "execution_count": 102,
     "metadata": {},
     "output_type": "execute_result"
    }
   ],
   "source": [
    "# y = mx + c\n",
    "# Intercept c\n",
    "regressor2.intercept_"
   ]
  },
  {
   "cell_type": "code",
   "execution_count": 103,
   "id": "0648cf68",
   "metadata": {},
   "outputs": [
    {
     "data": {
      "text/plain": [
       "array([4.53901133, 1.61441537])"
      ]
     },
     "execution_count": 103,
     "metadata": {},
     "output_type": "execute_result"
    }
   ],
   "source": [
    "# y = mx + c\n",
    "# Slope\n",
    "regressor2.coef_"
   ]
  },
  {
   "cell_type": "code",
   "execution_count": 104,
   "id": "12a8bb55",
   "metadata": {},
   "outputs": [
    {
     "data": {
      "text/plain": [
       "Index(['TV', 'radio'], dtype='object')"
      ]
     },
     "execution_count": 104,
     "metadata": {},
     "output_type": "execute_result"
    }
   ],
   "source": [
    "X_train.columns"
   ]
  },
  {
   "cell_type": "code",
   "execution_count": 105,
   "id": "344b524d",
   "metadata": {},
   "outputs": [],
   "source": [
    "# y = m1*x1 + m2*x2 + c\n",
    "# y = 4.53901133*x1 + 1.61441537*x2 + 15.355625"
   ]
  },
  {
   "cell_type": "code",
   "execution_count": 106,
   "id": "ce76c97c",
   "metadata": {},
   "outputs": [
    {
     "data": {
      "text/plain": [
       "array([10.68000732,  8.67289687,  9.59627362, 24.89341048, 14.697364  ,\n",
       "        8.3567853 , 10.55863443, 18.38868264,  9.85132079, 17.86927795,\n",
       "       23.41528097, 10.68859833, 13.39700653, 17.10227442, 11.74725693,\n",
       "       13.31442741, 21.15105215,  9.1078251 , 14.1508319 , 18.85894126,\n",
       "       24.8577903 , 12.44648472, 16.57547935, 13.79888848,  7.80545687,\n",
       "       15.11832283, 14.69260423, 20.6616562 , 16.98730791,  8.88795212,\n",
       "       12.37433351, 20.80729034, 21.28995356, 21.8483045 ,  7.17317454,\n",
       "        7.05033262,  9.23136496, 15.59516171, 13.27468497,  7.2670912 ])"
      ]
     },
     "execution_count": 106,
     "metadata": {},
     "output_type": "execute_result"
    }
   ],
   "source": [
    "y_pred_test = regressor2.predict(X_test)\n",
    "y_pred_test"
   ]
  },
  {
   "cell_type": "code",
   "execution_count": 107,
   "id": "75c03ec2",
   "metadata": {},
   "outputs": [
    {
     "name": "stdout",
     "output_type": "stream",
     "text": [
      "18     11.3\n",
      "170     8.4\n",
      "107    12.0\n",
      "98     25.4\n",
      "177    16.7\n",
      "182     8.7\n",
      "5       7.2\n",
      "146    18.2\n",
      "12      9.2\n",
      "152    16.6\n",
      "61     24.2\n",
      "125    10.6\n",
      "180    15.5\n",
      "154    20.6\n",
      "80     11.8\n",
      "7      13.2\n",
      "33     17.4\n",
      "130     1.6\n",
      "37     14.7\n",
      "74     17.0\n",
      "183    26.2\n",
      "145    10.3\n",
      "45     16.1\n",
      "159    12.9\n",
      "60      8.1\n",
      "123    15.2\n",
      "179    17.6\n",
      "185    22.6\n",
      "122    16.6\n",
      "44      8.5\n",
      "16     12.5\n",
      "55     23.7\n",
      "150    16.1\n",
      "111    21.8\n",
      "22      5.6\n",
      "189     6.7\n",
      "129     9.7\n",
      "4      17.9\n",
      "83     13.6\n",
      "106     7.2\n",
      "Name: sales, dtype: float64\n"
     ]
    }
   ],
   "source": [
    "print(y_test)"
   ]
  },
  {
   "cell_type": "code",
   "execution_count": 76,
   "id": "fbe4e474",
   "metadata": {},
   "outputs": [
    {
     "data": {
      "text/plain": [
       "array([10.82854696,  9.1999467 , 15.66755686, 18.28441044, 18.76563654,\n",
       "       13.5578255 ,  5.46554711, 10.24015212, 15.35798265, 10.90303735,\n",
       "       12.15078076, 20.43450999, 20.66736217, 16.9634418 ,  9.97774034,\n",
       "        9.45843981, 23.50058204, 15.94383157, 18.01948292,  8.15357406,\n",
       "       19.18158045, 15.75000711, 17.00831939, 15.27868163, 18.26380058,\n",
       "       19.98829408, 22.03107586, 17.62807341, 11.22069262, 11.87977832,\n",
       "       19.58867934, 12.4962567 , 22.47889831, 24.37804925, 11.45121116,\n",
       "       15.81772994, 21.46383289, 19.23698119, 19.44385752, 18.85357902,\n",
       "       18.16835447, 10.56704957,  9.89798803,  7.18796945,  5.43112588,\n",
       "       19.25163068, 10.57219825, 19.34095833, 10.46427938, 15.28929431,\n",
       "       16.72372112,  8.8833268 , 16.75837349, 12.24518887, 10.34790049,\n",
       "       19.79976041, 24.94405796,  9.35259015, 22.05834552, 15.91386693,\n",
       "        9.35785287, 10.00946274, 15.72270805, 21.09767063, 12.06153332,\n",
       "       17.6102679 , 16.87762037, 16.48249632, 16.38605079, 17.86364994,\n",
       "       21.21152573,  9.54002871, 18.55619634, 16.96555843, 10.82932601,\n",
       "       13.19310027, 18.82114964, 12.40236778, 12.57783585, 19.39868325,\n",
       "       20.39632254,  8.36470235, 21.36653242, 20.90115138, 17.01633152,\n",
       "        6.3551573 , 17.30633491, 13.75039551, 12.68498036, 24.44849875,\n",
       "       11.43534488, 20.5451935 , 20.91083096,  8.02552182,  6.2669813 ,\n",
       "       15.76801984, 14.48781475,  6.3598593 , 18.16092016, 18.96089605,\n",
       "        7.520708  , 20.86562206, 20.80540566, 14.16743886,  9.51116251,\n",
       "       11.38657281, 15.18486136, 16.81525392, 23.61662513, 17.14331413,\n",
       "        8.25025681, 14.55981349, 24.09926095,  9.94130677, 20.14983429,\n",
       "       19.52156085, 12.87412818, 22.0524696 , 10.04053691, 21.07074686,\n",
       "       14.06926105, 12.03429433, 12.6386898 ,  9.85161279,  9.04603833,\n",
       "       21.40413649, 10.05284606, 20.17923642, 21.19414833, 23.13741357,\n",
       "       10.20416108, 16.52020744, 10.96516695, 11.77772423, 12.52293105,\n",
       "       11.26576585, 18.39849834,  9.82442141, 14.37028398, 19.20755611,\n",
       "       17.44257842, 17.97335967, 21.66292249, 17.04483589, 11.45692806,\n",
       "       21.1044237 , 21.4882725 , 10.56396683, 12.09931713, 18.7377057 ,\n",
       "       15.02161549, 23.96770275, 18.00311004, 15.7140012 , 16.71508007,\n",
       "       13.83214835,  6.04279121,  8.91160981, 22.21442349,  8.00731339])"
      ]
     },
     "execution_count": 76,
     "metadata": {},
     "output_type": "execute_result"
    }
   ],
   "source": [
    "y_pred_train = regressor.predict(X_train)\n",
    "y_pred_train"
   ]
  },
  {
   "cell_type": "code",
   "execution_count": 108,
   "id": "314b0c86",
   "metadata": {},
   "outputs": [
    {
     "data": {
      "text/plain": [
       "134    10.8\n",
       "66     11.0\n",
       "26     15.0\n",
       "113    20.9\n",
       "168    17.1\n",
       "       ... \n",
       "67     13.4\n",
       "192     5.9\n",
       "117     9.4\n",
       "47     23.2\n",
       "172     7.6\n",
       "Name: sales, Length: 160, dtype: float64"
      ]
     },
     "execution_count": 108,
     "metadata": {},
     "output_type": "execute_result"
    }
   ],
   "source": [
    "y_train"
   ]
  },
  {
   "cell_type": "code",
   "execution_count": 109,
   "id": "fe0733c4",
   "metadata": {},
   "outputs": [
    {
     "data": {
      "text/html": [
       "<div>\n",
       "<style scoped>\n",
       "    .dataframe tbody tr th:only-of-type {\n",
       "        vertical-align: middle;\n",
       "    }\n",
       "\n",
       "    .dataframe tbody tr th {\n",
       "        vertical-align: top;\n",
       "    }\n",
       "\n",
       "    .dataframe thead th {\n",
       "        text-align: right;\n",
       "    }\n",
       "</style>\n",
       "<table border=\"1\" class=\"dataframe\">\n",
       "  <thead>\n",
       "    <tr style=\"text-align: right;\">\n",
       "      <th></th>\n",
       "      <th>TV</th>\n",
       "      <th>radio</th>\n",
       "    </tr>\n",
       "  </thead>\n",
       "  <tbody>\n",
       "    <tr>\n",
       "      <th>189</th>\n",
       "      <td>-1.556451</td>\n",
       "      <td>-0.768416</td>\n",
       "    </tr>\n",
       "    <tr>\n",
       "      <th>129</th>\n",
       "      <td>-1.073522</td>\n",
       "      <td>-0.775224</td>\n",
       "    </tr>\n",
       "    <tr>\n",
       "      <th>4</th>\n",
       "      <td>0.357555</td>\n",
       "      <td>-0.856911</td>\n",
       "    </tr>\n",
       "    <tr>\n",
       "      <th>83</th>\n",
       "      <td>-0.969615</td>\n",
       "      <td>1.437148</td>\n",
       "    </tr>\n",
       "    <tr>\n",
       "      <th>106</th>\n",
       "      <td>-1.482063</td>\n",
       "      <td>-0.843297</td>\n",
       "    </tr>\n",
       "  </tbody>\n",
       "</table>\n",
       "</div>"
      ],
      "text/plain": [
       "           TV     radio\n",
       "189 -1.556451 -0.768416\n",
       "129 -1.073522 -0.775224\n",
       "4    0.357555 -0.856911\n",
       "83  -0.969615  1.437148\n",
       "106 -1.482063 -0.843297"
      ]
     },
     "execution_count": 109,
     "metadata": {},
     "output_type": "execute_result"
    }
   ],
   "source": [
    "X_test.tail()"
   ]
  },
  {
   "cell_type": "code",
   "execution_count": 110,
   "id": "bdde845f",
   "metadata": {},
   "outputs": [
    {
     "data": {
      "text/plain": [
       "array([10.68000732,  8.67289687,  9.59627362, 24.89341048, 14.697364  ,\n",
       "        8.3567853 , 10.55863443, 18.38868264,  9.85132079, 17.86927795,\n",
       "       23.41528097, 10.68859833, 13.39700653, 17.10227442, 11.74725693,\n",
       "       13.31442741, 21.15105215,  9.1078251 , 14.1508319 , 18.85894126,\n",
       "       24.8577903 , 12.44648472, 16.57547935, 13.79888848,  7.80545687,\n",
       "       15.11832283, 14.69260423, 20.6616562 , 16.98730791,  8.88795212,\n",
       "       12.37433351, 20.80729034, 21.28995356, 21.8483045 ,  7.17317454,\n",
       "        7.05033262,  9.23136496, 15.59516171, 13.27468497,  7.2670912 ])"
      ]
     },
     "execution_count": 110,
     "metadata": {},
     "output_type": "execute_result"
    }
   ],
   "source": [
    "y_pred_test"
   ]
  },
  {
   "cell_type": "code",
   "execution_count": 111,
   "id": "acb323d3",
   "metadata": {},
   "outputs": [
    {
     "data": {
      "text/plain": [
       "7.26709261295132"
      ]
     },
     "execution_count": 111,
     "metadata": {},
     "output_type": "execute_result"
    }
   ],
   "source": [
    "# y = m1*x1 + m2*x2 + c\n",
    "# y = 4.53901133*x1 + 1.61441537*x2 + 15.355625\n",
    "op = 4.53901133*(-1.482063) + 1.61441537*(-0.843297) + 15.355625\n",
    "op"
   ]
  },
  {
   "cell_type": "markdown",
   "id": "74ade22b",
   "metadata": {},
   "source": [
    "# Compute how good is out model.\n",
    "\n",
    "# Happy Learning"
   ]
  },
  {
   "cell_type": "code",
   "execution_count": 112,
   "id": "1762fcc4",
   "metadata": {},
   "outputs": [],
   "source": [
    "from sklearn.metrics import mean_absolute_error, mean_squared_error, r2_score"
   ]
  },
  {
   "cell_type": "code",
   "execution_count": 113,
   "id": "0cea3b0f",
   "metadata": {},
   "outputs": [
    {
     "name": "stdout",
     "output_type": "stream",
     "text": [
      "1.192574010437895   1.4032867136894107\n"
     ]
    }
   ],
   "source": [
    "MAE_train = mean_absolute_error(y_train, y_pred_train)\n",
    "MAE_test = mean_absolute_error(y_test, y_pred_test)\n",
    "print(MAE_train,\" \",MAE_test)"
   ]
  },
  {
   "cell_type": "code",
   "execution_count": 114,
   "id": "c9d17cd5",
   "metadata": {},
   "outputs": [
    {
     "name": "stdout",
     "output_type": "stream",
     "text": [
      "2.267479192455655   4.4768183662081436\n"
     ]
    }
   ],
   "source": [
    "MSE_train = mean_squared_error(y_train, y_pred_train)\n",
    "MSE_test = mean_squared_error(y_test, y_pred_test)\n",
    "print(MSE_train,\" \",MSE_test)"
   ]
  },
  {
   "cell_type": "code",
   "execution_count": 115,
   "id": "cda9e4d8",
   "metadata": {},
   "outputs": [
    {
     "name": "stdout",
     "output_type": "stream",
     "text": [
      "1.5058151255900092   2.115849325024857\n"
     ]
    }
   ],
   "source": [
    "RMSE_train = np.sqrt(mean_squared_error(y_train, y_pred_train))\n",
    "RMSE_test = np.sqrt(mean_squared_error(y_test, y_pred_test))\n",
    "print(RMSE_train,\" \",RMSE_test)"
   ]
  },
  {
   "cell_type": "code",
   "execution_count": 116,
   "id": "7ea828aa",
   "metadata": {},
   "outputs": [
    {
     "name": "stdout",
     "output_type": "stream",
     "text": [
      "0.9132130769530317   0.8658755781123508\n"
     ]
    }
   ],
   "source": [
    "R2_train = r2_score(y_train, y_pred_train)\n",
    "R2_test = r2_score(y_test, y_pred_test)\n",
    "print(R2_train,\" \",R2_test)"
   ]
  },
  {
   "cell_type": "code",
   "execution_count": 117,
   "id": "0f20117b",
   "metadata": {},
   "outputs": [
    {
     "data": {
      "text/plain": [
       "(160, 2)"
      ]
     },
     "execution_count": 117,
     "metadata": {},
     "output_type": "execute_result"
    }
   ],
   "source": [
    "X_train.shape"
   ]
  },
  {
   "cell_type": "code",
   "execution_count": 118,
   "id": "1ef3b8c8",
   "metadata": {},
   "outputs": [
    {
     "name": "stdout",
     "output_type": "stream",
     "text": [
      "160 2\n"
     ]
    }
   ],
   "source": [
    "n = X_train.shape[0]\n",
    "p = X_train.shape[1]\n",
    "print(n,p)"
   ]
  },
  {
   "cell_type": "code",
   "execution_count": 119,
   "id": "3d3aecfe",
   "metadata": {},
   "outputs": [
    {
     "data": {
      "text/plain": [
       "0.9121075110543442"
      ]
     },
     "execution_count": 119,
     "metadata": {},
     "output_type": "execute_result"
    }
   ],
   "source": [
    "num = (1-R2_train)*(n-1)\n",
    "den = n-p-1\n",
    "AR2_train = 1-(num/den)\n",
    "AR2_train"
   ]
  },
  {
   "cell_type": "code",
   "execution_count": 120,
   "id": "f9b4aca1",
   "metadata": {},
   "outputs": [
    {
     "data": {
      "text/plain": [
       "(40, 2)"
      ]
     },
     "execution_count": 120,
     "metadata": {},
     "output_type": "execute_result"
    }
   ],
   "source": [
    "X_test.shape"
   ]
  },
  {
   "cell_type": "code",
   "execution_count": 121,
   "id": "abd0a874",
   "metadata": {},
   "outputs": [
    {
     "name": "stdout",
     "output_type": "stream",
     "text": [
      "40 2\n"
     ]
    }
   ],
   "source": [
    "n = X_test.shape[0]\n",
    "p = X_test.shape[1]\n",
    "print(n,p)"
   ]
  },
  {
   "cell_type": "code",
   "execution_count": 122,
   "id": "8e02b103",
   "metadata": {},
   "outputs": [
    {
     "data": {
      "text/plain": [
       "0.8586256093616671"
      ]
     },
     "execution_count": 122,
     "metadata": {},
     "output_type": "execute_result"
    }
   ],
   "source": [
    "num = (1-R2_test)*(n-1)\n",
    "den = n-p-1\n",
    "AR2_test = 1-(num/den)\n",
    "AR2_test"
   ]
  },
  {
   "cell_type": "markdown",
   "id": "276e3d1e",
   "metadata": {},
   "source": [
    "# End of Linear Regression"
   ]
  }
 ],
 "metadata": {
  "language_info": {
   "codemirror_mode": {
    "name": "ipython",
    "version": 3
   },
   "file_extension": ".py",
   "mimetype": "text/x-python",
   "name": "python",
   "nbconvert_exporter": "python",
   "pygments_lexer": "ipython3",
   "version": "3.8.8"
  }
 },
 "nbformat": 4,
 "nbformat_minor": 5
}