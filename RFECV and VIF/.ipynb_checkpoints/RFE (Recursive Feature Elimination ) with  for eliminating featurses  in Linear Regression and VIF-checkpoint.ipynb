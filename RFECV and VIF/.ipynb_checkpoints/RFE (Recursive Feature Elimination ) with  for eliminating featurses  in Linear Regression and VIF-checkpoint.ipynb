{
 "cells": [
  {
   "cell_type": "code",
   "execution_count": null,
   "metadata": {
    "id": "SGl5XvolXWu0"
   },
   "outputs": [],
   "source": [
    "# https://www.kaggle.com/seshadrikolluri/ansur-ii\n",
    "\n",
    "# Dataset Link\n",
    "# https://raw.githubusercontent.com/ingledarshan/upGrad_Darshan/main/ANSUR%20II%20MALE%20Public.csv"
   ]
  },
  {
   "cell_type": "code",
   "execution_count": null,
   "metadata": {
    "id": "ItHWHoh6XZNO"
   },
   "outputs": [],
   "source": [
    "from sklearn.model_selection import train_test_split\n",
    "from sklearn.preprocessing import StandardScaler\n",
    "\n",
    "import numpy as np\n",
    "import pandas as pd\n",
    "import matplotlib.pyplot as plt\n",
    "import seaborn as sns\n",
    "\n",
    "import warnings\n",
    "warnings.filterwarnings('ignore')"
   ]
  },
  {
   "cell_type": "code",
   "execution_count": null,
   "metadata": {
    "id": "-WKv0-yTYPyS"
   },
   "outputs": [],
   "source": [
    "ansur = pd.read_csv(\"https://raw.githubusercontent.com/ingledarshan/upGrad_Darshan/main/ANSUR%20II%20FEMALE%20Public.csv\")"
   ]
  },
  {
   "cell_type": "code",
   "execution_count": null,
   "metadata": {
    "colab": {
     "base_uri": "https://localhost:8080/",
     "height": 420
    },
    "id": "7GU4I8lFYTdd",
    "outputId": "da75e50e-c73b-4b0e-9508-4ad6a40e98e6"
   },
   "outputs": [
    {
     "data": {
      "text/html": [
       "<div>\n",
       "<style scoped>\n",
       "    .dataframe tbody tr th:only-of-type {\n",
       "        vertical-align: middle;\n",
       "    }\n",
       "\n",
       "    .dataframe tbody tr th {\n",
       "        vertical-align: top;\n",
       "    }\n",
       "\n",
       "    .dataframe thead th {\n",
       "        text-align: right;\n",
       "    }\n",
       "</style>\n",
       "<table border=\"1\" class=\"dataframe\">\n",
       "  <thead>\n",
       "    <tr style=\"text-align: right;\">\n",
       "      <th></th>\n",
       "      <th>SubjectId</th>\n",
       "      <th>abdominalextensiondepthsitting</th>\n",
       "      <th>acromialheight</th>\n",
       "      <th>acromionradialelength</th>\n",
       "      <th>anklecircumference</th>\n",
       "      <th>axillaheight</th>\n",
       "      <th>balloffootcircumference</th>\n",
       "      <th>balloffootlength</th>\n",
       "      <th>biacromialbreadth</th>\n",
       "      <th>bicepscircumferenceflexed</th>\n",
       "      <th>bicristalbreadth</th>\n",
       "      <th>bideltoidbreadth</th>\n",
       "      <th>bimalleolarbreadth</th>\n",
       "      <th>bitragionchinarc</th>\n",
       "      <th>bitragionsubmandibulararc</th>\n",
       "      <th>bizygomaticbreadth</th>\n",
       "      <th>buttockcircumference</th>\n",
       "      <th>buttockdepth</th>\n",
       "      <th>buttockheight</th>\n",
       "      <th>buttockkneelength</th>\n",
       "      <th>buttockpopliteallength</th>\n",
       "      <th>calfcircumference</th>\n",
       "      <th>cervicaleheight</th>\n",
       "      <th>chestbreadth</th>\n",
       "      <th>chestcircumference</th>\n",
       "      <th>chestdepth</th>\n",
       "      <th>chestheight</th>\n",
       "      <th>crotchheight</th>\n",
       "      <th>crotchlengthomphalion</th>\n",
       "      <th>crotchlengthposterioromphalion</th>\n",
       "      <th>earbreadth</th>\n",
       "      <th>earlength</th>\n",
       "      <th>earprotrusion</th>\n",
       "      <th>elbowrestheight</th>\n",
       "      <th>eyeheightsitting</th>\n",
       "      <th>footbreadthhorizontal</th>\n",
       "      <th>footlength</th>\n",
       "      <th>forearmcenterofgriplength</th>\n",
       "      <th>forearmcircumferenceflexed</th>\n",
       "      <th>forearmforearmbreadth</th>\n",
       "      <th>...</th>\n",
       "      <th>shouldercircumference</th>\n",
       "      <th>shoulderelbowlength</th>\n",
       "      <th>shoulderlength</th>\n",
       "      <th>sittingheight</th>\n",
       "      <th>sleevelengthspinewrist</th>\n",
       "      <th>sleeveoutseam</th>\n",
       "      <th>span</th>\n",
       "      <th>stature</th>\n",
       "      <th>suprasternaleheight</th>\n",
       "      <th>tenthribheight</th>\n",
       "      <th>thighcircumference</th>\n",
       "      <th>thighclearance</th>\n",
       "      <th>thumbtipreach</th>\n",
       "      <th>tibialheight</th>\n",
       "      <th>tragiontopofhead</th>\n",
       "      <th>trochanterionheight</th>\n",
       "      <th>verticaltrunkcircumferenceusa</th>\n",
       "      <th>waistbacklength</th>\n",
       "      <th>waistbreadth</th>\n",
       "      <th>waistcircumference</th>\n",
       "      <th>waistdepth</th>\n",
       "      <th>waistfrontlengthsitting</th>\n",
       "      <th>waistheightomphalion</th>\n",
       "      <th>weightkg</th>\n",
       "      <th>wristcircumference</th>\n",
       "      <th>wristheight</th>\n",
       "      <th>Gender</th>\n",
       "      <th>Date</th>\n",
       "      <th>Installation</th>\n",
       "      <th>Component</th>\n",
       "      <th>Branch</th>\n",
       "      <th>PrimaryMOS</th>\n",
       "      <th>SubjectsBirthLocation</th>\n",
       "      <th>SubjectNumericRace</th>\n",
       "      <th>Ethnicity</th>\n",
       "      <th>DODRace</th>\n",
       "      <th>Age</th>\n",
       "      <th>Heightin</th>\n",
       "      <th>Weightlbs</th>\n",
       "      <th>WritingPreference</th>\n",
       "    </tr>\n",
       "  </thead>\n",
       "  <tbody>\n",
       "    <tr>\n",
       "      <th>0</th>\n",
       "      <td>10037</td>\n",
       "      <td>231</td>\n",
       "      <td>1282</td>\n",
       "      <td>301</td>\n",
       "      <td>204</td>\n",
       "      <td>1180</td>\n",
       "      <td>222</td>\n",
       "      <td>177</td>\n",
       "      <td>373</td>\n",
       "      <td>315</td>\n",
       "      <td>263</td>\n",
       "      <td>466</td>\n",
       "      <td>65</td>\n",
       "      <td>338</td>\n",
       "      <td>301</td>\n",
       "      <td>141</td>\n",
       "      <td>1011</td>\n",
       "      <td>223</td>\n",
       "      <td>836</td>\n",
       "      <td>587</td>\n",
       "      <td>476</td>\n",
       "      <td>360</td>\n",
       "      <td>1336</td>\n",
       "      <td>274</td>\n",
       "      <td>922</td>\n",
       "      <td>245</td>\n",
       "      <td>1095</td>\n",
       "      <td>759</td>\n",
       "      <td>557</td>\n",
       "      <td>310</td>\n",
       "      <td>35</td>\n",
       "      <td>65</td>\n",
       "      <td>16</td>\n",
       "      <td>220</td>\n",
       "      <td>713</td>\n",
       "      <td>91</td>\n",
       "      <td>246</td>\n",
       "      <td>316</td>\n",
       "      <td>265</td>\n",
       "      <td>517</td>\n",
       "      <td>...</td>\n",
       "      <td>1062</td>\n",
       "      <td>327</td>\n",
       "      <td>148</td>\n",
       "      <td>803</td>\n",
       "      <td>809</td>\n",
       "      <td>513</td>\n",
       "      <td>1647</td>\n",
       "      <td>1560</td>\n",
       "      <td>1280</td>\n",
       "      <td>1013</td>\n",
       "      <td>622</td>\n",
       "      <td>174</td>\n",
       "      <td>736</td>\n",
       "      <td>430</td>\n",
       "      <td>110</td>\n",
       "      <td>844</td>\n",
       "      <td>1488</td>\n",
       "      <td>406</td>\n",
       "      <td>295</td>\n",
       "      <td>850</td>\n",
       "      <td>217</td>\n",
       "      <td>345</td>\n",
       "      <td>942</td>\n",
       "      <td>657</td>\n",
       "      <td>152</td>\n",
       "      <td>756</td>\n",
       "      <td>Female</td>\n",
       "      <td>5-Oct-10</td>\n",
       "      <td>Fort Hood</td>\n",
       "      <td>Regular Army</td>\n",
       "      <td>Combat Support</td>\n",
       "      <td>92Y</td>\n",
       "      <td>Germany</td>\n",
       "      <td>2</td>\n",
       "      <td>NaN</td>\n",
       "      <td>2</td>\n",
       "      <td>26</td>\n",
       "      <td>61</td>\n",
       "      <td>142</td>\n",
       "      <td>Right hand</td>\n",
       "    </tr>\n",
       "    <tr>\n",
       "      <th>1</th>\n",
       "      <td>10038</td>\n",
       "      <td>194</td>\n",
       "      <td>1379</td>\n",
       "      <td>320</td>\n",
       "      <td>207</td>\n",
       "      <td>1292</td>\n",
       "      <td>225</td>\n",
       "      <td>178</td>\n",
       "      <td>372</td>\n",
       "      <td>272</td>\n",
       "      <td>250</td>\n",
       "      <td>430</td>\n",
       "      <td>64</td>\n",
       "      <td>294</td>\n",
       "      <td>270</td>\n",
       "      <td>126</td>\n",
       "      <td>893</td>\n",
       "      <td>186</td>\n",
       "      <td>900</td>\n",
       "      <td>583</td>\n",
       "      <td>483</td>\n",
       "      <td>350</td>\n",
       "      <td>1440</td>\n",
       "      <td>261</td>\n",
       "      <td>839</td>\n",
       "      <td>206</td>\n",
       "      <td>1234</td>\n",
       "      <td>835</td>\n",
       "      <td>549</td>\n",
       "      <td>329</td>\n",
       "      <td>32</td>\n",
       "      <td>60</td>\n",
       "      <td>23</td>\n",
       "      <td>208</td>\n",
       "      <td>726</td>\n",
       "      <td>91</td>\n",
       "      <td>249</td>\n",
       "      <td>341</td>\n",
       "      <td>247</td>\n",
       "      <td>468</td>\n",
       "      <td>...</td>\n",
       "      <td>1014</td>\n",
       "      <td>346</td>\n",
       "      <td>142</td>\n",
       "      <td>835</td>\n",
       "      <td>810</td>\n",
       "      <td>575</td>\n",
       "      <td>1751</td>\n",
       "      <td>1665</td>\n",
       "      <td>1372</td>\n",
       "      <td>1107</td>\n",
       "      <td>524</td>\n",
       "      <td>152</td>\n",
       "      <td>771</td>\n",
       "      <td>475</td>\n",
       "      <td>125</td>\n",
       "      <td>901</td>\n",
       "      <td>1470</td>\n",
       "      <td>422</td>\n",
       "      <td>254</td>\n",
       "      <td>708</td>\n",
       "      <td>168</td>\n",
       "      <td>329</td>\n",
       "      <td>1032</td>\n",
       "      <td>534</td>\n",
       "      <td>155</td>\n",
       "      <td>815</td>\n",
       "      <td>Female</td>\n",
       "      <td>5-Oct-10</td>\n",
       "      <td>Fort Hood</td>\n",
       "      <td>Regular Army</td>\n",
       "      <td>Combat Service Support</td>\n",
       "      <td>25U</td>\n",
       "      <td>California</td>\n",
       "      <td>3</td>\n",
       "      <td>Mexican</td>\n",
       "      <td>3</td>\n",
       "      <td>21</td>\n",
       "      <td>64</td>\n",
       "      <td>120</td>\n",
       "      <td>Right hand</td>\n",
       "    </tr>\n",
       "    <tr>\n",
       "      <th>2</th>\n",
       "      <td>10042</td>\n",
       "      <td>183</td>\n",
       "      <td>1369</td>\n",
       "      <td>329</td>\n",
       "      <td>233</td>\n",
       "      <td>1271</td>\n",
       "      <td>237</td>\n",
       "      <td>196</td>\n",
       "      <td>397</td>\n",
       "      <td>300</td>\n",
       "      <td>276</td>\n",
       "      <td>450</td>\n",
       "      <td>69</td>\n",
       "      <td>309</td>\n",
       "      <td>270</td>\n",
       "      <td>128</td>\n",
       "      <td>987</td>\n",
       "      <td>204</td>\n",
       "      <td>861</td>\n",
       "      <td>583</td>\n",
       "      <td>466</td>\n",
       "      <td>384</td>\n",
       "      <td>1451</td>\n",
       "      <td>287</td>\n",
       "      <td>874</td>\n",
       "      <td>223</td>\n",
       "      <td>1226</td>\n",
       "      <td>821</td>\n",
       "      <td>643</td>\n",
       "      <td>374</td>\n",
       "      <td>36</td>\n",
       "      <td>65</td>\n",
       "      <td>26</td>\n",
       "      <td>204</td>\n",
       "      <td>790</td>\n",
       "      <td>100</td>\n",
       "      <td>265</td>\n",
       "      <td>343</td>\n",
       "      <td>262</td>\n",
       "      <td>488</td>\n",
       "      <td>...</td>\n",
       "      <td>1049</td>\n",
       "      <td>362</td>\n",
       "      <td>164</td>\n",
       "      <td>904</td>\n",
       "      <td>855</td>\n",
       "      <td>568</td>\n",
       "      <td>1779</td>\n",
       "      <td>1711</td>\n",
       "      <td>1383</td>\n",
       "      <td>1089</td>\n",
       "      <td>577</td>\n",
       "      <td>164</td>\n",
       "      <td>814</td>\n",
       "      <td>458</td>\n",
       "      <td>129</td>\n",
       "      <td>882</td>\n",
       "      <td>1542</td>\n",
       "      <td>419</td>\n",
       "      <td>269</td>\n",
       "      <td>727</td>\n",
       "      <td>159</td>\n",
       "      <td>367</td>\n",
       "      <td>1035</td>\n",
       "      <td>663</td>\n",
       "      <td>162</td>\n",
       "      <td>799</td>\n",
       "      <td>Female</td>\n",
       "      <td>5-Oct-10</td>\n",
       "      <td>Fort Hood</td>\n",
       "      <td>Regular Army</td>\n",
       "      <td>Combat Service Support</td>\n",
       "      <td>35D</td>\n",
       "      <td>Texas</td>\n",
       "      <td>1</td>\n",
       "      <td>NaN</td>\n",
       "      <td>1</td>\n",
       "      <td>23</td>\n",
       "      <td>68</td>\n",
       "      <td>147</td>\n",
       "      <td>Right hand</td>\n",
       "    </tr>\n",
       "    <tr>\n",
       "      <th>3</th>\n",
       "      <td>10043</td>\n",
       "      <td>261</td>\n",
       "      <td>1356</td>\n",
       "      <td>306</td>\n",
       "      <td>214</td>\n",
       "      <td>1250</td>\n",
       "      <td>240</td>\n",
       "      <td>188</td>\n",
       "      <td>384</td>\n",
       "      <td>364</td>\n",
       "      <td>276</td>\n",
       "      <td>484</td>\n",
       "      <td>68</td>\n",
       "      <td>340</td>\n",
       "      <td>294</td>\n",
       "      <td>144</td>\n",
       "      <td>1012</td>\n",
       "      <td>253</td>\n",
       "      <td>897</td>\n",
       "      <td>599</td>\n",
       "      <td>471</td>\n",
       "      <td>372</td>\n",
       "      <td>1430</td>\n",
       "      <td>269</td>\n",
       "      <td>1008</td>\n",
       "      <td>285</td>\n",
       "      <td>1170</td>\n",
       "      <td>804</td>\n",
       "      <td>640</td>\n",
       "      <td>351</td>\n",
       "      <td>38</td>\n",
       "      <td>62</td>\n",
       "      <td>22</td>\n",
       "      <td>244</td>\n",
       "      <td>775</td>\n",
       "      <td>97</td>\n",
       "      <td>265</td>\n",
       "      <td>331</td>\n",
       "      <td>309</td>\n",
       "      <td>529</td>\n",
       "      <td>...</td>\n",
       "      <td>1121</td>\n",
       "      <td>333</td>\n",
       "      <td>157</td>\n",
       "      <td>875</td>\n",
       "      <td>815</td>\n",
       "      <td>536</td>\n",
       "      <td>1708</td>\n",
       "      <td>1660</td>\n",
       "      <td>1358</td>\n",
       "      <td>1065</td>\n",
       "      <td>679</td>\n",
       "      <td>187</td>\n",
       "      <td>736</td>\n",
       "      <td>463</td>\n",
       "      <td>125</td>\n",
       "      <td>866</td>\n",
       "      <td>1627</td>\n",
       "      <td>451</td>\n",
       "      <td>302</td>\n",
       "      <td>923</td>\n",
       "      <td>235</td>\n",
       "      <td>371</td>\n",
       "      <td>999</td>\n",
       "      <td>782</td>\n",
       "      <td>173</td>\n",
       "      <td>818</td>\n",
       "      <td>Female</td>\n",
       "      <td>5-Oct-10</td>\n",
       "      <td>Fort Hood</td>\n",
       "      <td>Regular Army</td>\n",
       "      <td>Combat Service Support</td>\n",
       "      <td>25U</td>\n",
       "      <td>District of Columbia</td>\n",
       "      <td>8</td>\n",
       "      <td>Caribbean Islander</td>\n",
       "      <td>2</td>\n",
       "      <td>22</td>\n",
       "      <td>66</td>\n",
       "      <td>175</td>\n",
       "      <td>Right hand</td>\n",
       "    </tr>\n",
       "    <tr>\n",
       "      <th>4</th>\n",
       "      <td>10051</td>\n",
       "      <td>309</td>\n",
       "      <td>1303</td>\n",
       "      <td>308</td>\n",
       "      <td>214</td>\n",
       "      <td>1210</td>\n",
       "      <td>217</td>\n",
       "      <td>182</td>\n",
       "      <td>378</td>\n",
       "      <td>320</td>\n",
       "      <td>336</td>\n",
       "      <td>525</td>\n",
       "      <td>67</td>\n",
       "      <td>300</td>\n",
       "      <td>295</td>\n",
       "      <td>135</td>\n",
       "      <td>1281</td>\n",
       "      <td>284</td>\n",
       "      <td>811</td>\n",
       "      <td>607</td>\n",
       "      <td>467</td>\n",
       "      <td>433</td>\n",
       "      <td>1362</td>\n",
       "      <td>305</td>\n",
       "      <td>1089</td>\n",
       "      <td>290</td>\n",
       "      <td>1112</td>\n",
       "      <td>726</td>\n",
       "      <td>686</td>\n",
       "      <td>356</td>\n",
       "      <td>34</td>\n",
       "      <td>65</td>\n",
       "      <td>18</td>\n",
       "      <td>233</td>\n",
       "      <td>732</td>\n",
       "      <td>88</td>\n",
       "      <td>247</td>\n",
       "      <td>339</td>\n",
       "      <td>260</td>\n",
       "      <td>596</td>\n",
       "      <td>...</td>\n",
       "      <td>1151</td>\n",
       "      <td>329</td>\n",
       "      <td>156</td>\n",
       "      <td>824</td>\n",
       "      <td>810</td>\n",
       "      <td>559</td>\n",
       "      <td>1702</td>\n",
       "      <td>1572</td>\n",
       "      <td>1292</td>\n",
       "      <td>1030</td>\n",
       "      <td>766</td>\n",
       "      <td>197</td>\n",
       "      <td>766</td>\n",
       "      <td>429</td>\n",
       "      <td>116</td>\n",
       "      <td>800</td>\n",
       "      <td>1698</td>\n",
       "      <td>452</td>\n",
       "      <td>405</td>\n",
       "      <td>1163</td>\n",
       "      <td>300</td>\n",
       "      <td>380</td>\n",
       "      <td>911</td>\n",
       "      <td>886</td>\n",
       "      <td>152</td>\n",
       "      <td>762</td>\n",
       "      <td>Female</td>\n",
       "      <td>5-Oct-10</td>\n",
       "      <td>Fort Hood</td>\n",
       "      <td>Regular Army</td>\n",
       "      <td>Combat Arms</td>\n",
       "      <td>42A</td>\n",
       "      <td>Texas</td>\n",
       "      <td>1</td>\n",
       "      <td>NaN</td>\n",
       "      <td>1</td>\n",
       "      <td>45</td>\n",
       "      <td>63</td>\n",
       "      <td>195</td>\n",
       "      <td>Right hand</td>\n",
       "    </tr>\n",
       "  </tbody>\n",
       "</table>\n",
       "<p>5 rows × 108 columns</p>\n",
       "</div>"
      ],
      "text/plain": [
       "   SubjectId  abdominalextensiondepthsitting  ...  Weightlbs  WritingPreference\n",
       "0      10037                             231  ...        142         Right hand\n",
       "1      10038                             194  ...        120         Right hand\n",
       "2      10042                             183  ...        147         Right hand\n",
       "3      10043                             261  ...        175         Right hand\n",
       "4      10051                             309  ...        195         Right hand\n",
       "\n",
       "[5 rows x 108 columns]"
      ]
     },
     "execution_count": 4,
     "metadata": {},
     "output_type": "execute_result"
    }
   ],
   "source": [
    "ansur.head()"
   ]
  },
  {
   "cell_type": "code",
   "execution_count": null,
   "metadata": {
    "colab": {
     "base_uri": "https://localhost:8080/"
    },
    "id": "S3hq0ecHYUKb",
    "outputId": "21044bf7-5bc4-45d8-b088-786b6199868f"
   },
   "outputs": [
    {
     "data": {
      "text/plain": [
       "(1986, 108)"
      ]
     },
     "execution_count": 5,
     "metadata": {},
     "output_type": "execute_result"
    }
   ],
   "source": [
    "ansur.shape"
   ]
  },
  {
   "cell_type": "code",
   "execution_count": null,
   "metadata": {
    "colab": {
     "base_uri": "https://localhost:8080/"
    },
    "id": "h65_hZEnZMlD",
    "outputId": "8869db3e-f205-4776-e4dc-2089f1f63baf"
   },
   "outputs": [
    {
     "data": {
      "text/plain": [
       "['Installation',\n",
       " 'PrimaryMOS',\n",
       " 'Branch',\n",
       " 'Date',\n",
       " 'WritingPreference',\n",
       " 'Component',\n",
       " 'SubjectsBirthLocation',\n",
       " 'Ethnicity',\n",
       " 'Gender']"
      ]
     },
     "execution_count": 6,
     "metadata": {},
     "output_type": "execute_result"
    }
   ],
   "source": [
    "# Categorical features\n",
    "list(set(ansur.columns) - set(ansur.describe().columns))"
   ]
  },
  {
   "cell_type": "code",
   "execution_count": null,
   "metadata": {
    "id": "L3JhWjF2ZPz8"
   },
   "outputs": [],
   "source": [
    "ansur.drop(['Ethnicity',\n",
    " 'Gender',\n",
    " 'WritingPreference',\n",
    " 'Branch',\n",
    " 'SubjectsBirthLocation',\n",
    " 'Component',\n",
    " 'PrimaryMOS',\n",
    " 'Installation',\n",
    " 'Date'], axis=1, inplace=True)"
   ]
  },
  {
   "cell_type": "code",
   "execution_count": null,
   "metadata": {
    "colab": {
     "base_uri": "https://localhost:8080/"
    },
    "id": "Otl69ZR5Zaoi",
    "outputId": "ea4f2161-da50-4c7b-ebd7-fd86d53902b2"
   },
   "outputs": [
    {
     "data": {
      "text/plain": [
       "[]"
      ]
     },
     "execution_count": 8,
     "metadata": {},
     "output_type": "execute_result"
    }
   ],
   "source": [
    "list(set(ansur.columns) - set(ansur.describe().columns))"
   ]
  },
  {
   "cell_type": "code",
   "execution_count": null,
   "metadata": {
    "colab": {
     "base_uri": "https://localhost:8080/"
    },
    "id": "F3DcY32sn553",
    "outputId": "e8e22cd6-90fd-4548-90cb-c773b68ea638"
   },
   "outputs": [
    {
     "name": "stdout",
     "output_type": "stream",
     "text": [
      "   SubjectId  abdominalextensiondepthsitting  ...  Heightin  Weightlbs\n",
      "0      10037                             231  ...        61        142\n",
      "1      10038                             194  ...        64        120\n",
      "\n",
      "[2 rows x 99 columns]\n"
     ]
    }
   ],
   "source": [
    "print(ansur.head(2))"
   ]
  },
  {
   "cell_type": "code",
   "execution_count": null,
   "metadata": {
    "id": "cm04_99RYjjG"
   },
   "outputs": [],
   "source": [
    "# Feature, target arrays\n",
    "X, y = ansur.iloc[:, :-1], ansur.iloc[:, -1]"
   ]
  },
  {
   "cell_type": "code",
   "execution_count": null,
   "metadata": {
    "id": "uw72das9Ymqr"
   },
   "outputs": [],
   "source": [
    "# Train/test set generation\n",
    "X_train, X_test, y_train, y_test = train_test_split(\n",
    "    X, y, test_size=0.3, random_state=1121218\n",
    ")"
   ]
  },
  {
   "cell_type": "code",
   "execution_count": null,
   "metadata": {
    "id": "InQzcoMtYuDD"
   },
   "outputs": [],
   "source": [
    "# Scale train and test sets with StandardScaler\n",
    "sc = StandardScaler()\n",
    "X_train_std = sc.fit_transform(X_train) # study & exam\n",
    "X_test_std = sc.transform(X_test) # study"
   ]
  },
  {
   "cell_type": "code",
   "execution_count": null,
   "metadata": {
    "colab": {
     "base_uri": "https://localhost:8080/"
    },
    "id": "UAjQx_0nIJAy",
    "outputId": "e6aa0930-9e0e-4fe4-d1e5-7fd0647d5502"
   },
   "outputs": [
    {
     "data": {
      "text/plain": [
       "(1390, 98)"
      ]
     },
     "execution_count": 13,
     "metadata": {},
     "output_type": "execute_result"
    }
   ],
   "source": [
    "X_train_std.shape"
   ]
  },
  {
   "cell_type": "code",
   "execution_count": null,
   "metadata": {
    "colab": {
     "base_uri": "https://localhost:8080/"
    },
    "id": "sumiUo1GIJFt",
    "outputId": "0371fcd9-1718-490f-f1e8-b7335e8257d3"
   },
   "outputs": [
    {
     "data": {
      "text/plain": [
       "(596, 98)"
      ]
     },
     "execution_count": 14,
     "metadata": {},
     "output_type": "execute_result"
    }
   ],
   "source": [
    "X_test_std.shape"
   ]
  },
  {
   "cell_type": "code",
   "execution_count": null,
   "metadata": {
    "colab": {
     "base_uri": "https://localhost:8080/"
    },
    "id": "VmzTyvumomyf",
    "outputId": "74eb1e19-91a0-4a2e-941f-a0986a8de9bc"
   },
   "outputs": [
    {
     "data": {
      "text/plain": [
       "(1390,)"
      ]
     },
     "execution_count": 15,
     "metadata": {},
     "output_type": "execute_result"
    }
   ],
   "source": [
    "y_train.shape"
   ]
  },
  {
   "cell_type": "code",
   "execution_count": null,
   "metadata": {
    "id": "aGhwcIRFYv2S"
   },
   "outputs": [],
   "source": [
    "# Fix the dimensions of the target array\n",
    "y_train = y_train.values.reshape(-1, 1)\n",
    "y_test = y_test.values.reshape(-1, 1)"
   ]
  },
  {
   "cell_type": "code",
   "execution_count": null,
   "metadata": {
    "colab": {
     "base_uri": "https://localhost:8080/"
    },
    "id": "Srw8DRwBorQ8",
    "outputId": "26497646-d356-450e-d94d-848932708f10"
   },
   "outputs": [
    {
     "data": {
      "text/plain": [
       "(1390, 1)"
      ]
     },
     "execution_count": 17,
     "metadata": {},
     "output_type": "execute_result"
    }
   ],
   "source": [
    "y_train.shape"
   ]
  },
  {
   "cell_type": "code",
   "execution_count": null,
   "metadata": {
    "colab": {
     "base_uri": "https://localhost:8080/"
    },
    "id": "87UVqqoAZjQW",
    "outputId": "946426d5-0f63-4c69-bf85-421a43efec9a"
   },
   "outputs": [
    {
     "data": {
      "text/plain": [
       "0.9132096151711426"
      ]
     },
     "execution_count": 18,
     "metadata": {},
     "output_type": "execute_result"
    }
   ],
   "source": [
    "# Init, fit, test Linear Regressor\n",
    "from sklearn.linear_model import  LinearRegression\n",
    "lr = LinearRegression()\n",
    "lr.fit(X_train_std, y_train)\n",
    "lr.score(X_test_std, y_test)"
   ]
  },
  {
   "cell_type": "markdown",
   "metadata": {
    "id": "zGQ9tYMFaCrN"
   },
   "source": [
    "We achieved an excellent R-squared of 0.948. We could do this using all 98 features, which is much more than we might need. "
   ]
  },
  {
   "cell_type": "code",
   "execution_count": null,
   "metadata": {
    "colab": {
     "base_uri": "https://localhost:8080/"
    },
    "id": "dkXnr8ZCZ1pb",
    "outputId": "b24f3be1-b891-4938-9e91-8b3ea1a9767f"
   },
   "outputs": [
    {
     "data": {
      "text/plain": [
       "98"
      ]
     },
     "execution_count": 19,
     "metadata": {},
     "output_type": "execute_result"
    }
   ],
   "source": [
    "len(X.columns)"
   ]
  },
  {
   "cell_type": "markdown",
   "metadata": {
    "id": "EipnEeehaayU"
   },
   "source": [
    "# Sklearn Recursive Feature Elimination Class\n",
    "\n",
    "RFE is a transformer estimator, which means it follows the familiar fit/transform pattern of Sklearn. It is a popular algorithm due to its easy configurable nature and robust performance. As the name suggests, it removes features one at a time based on the weights given by a model of our choice in each iteration.\n",
    "\n",
    "https://www.linkedin.com/pulse/what-recursive-feature-elimination-amit-mittal/\n"
   ]
  },
  {
   "cell_type": "code",
   "execution_count": null,
   "metadata": {
    "colab": {
     "base_uri": "https://localhost:8080/"
    },
    "id": "FvhQ2tlMZ7SZ",
    "outputId": "ce7ee56c-2ffd-4300-824e-bdaa2270d14f"
   },
   "outputs": [
    {
     "data": {
      "text/plain": [
       "RFE(estimator=LinearRegression(copy_X=True, fit_intercept=True, n_jobs=None,\n",
       "                               normalize=False),\n",
       "    n_features_to_select=10, step=1, verbose=0)"
      ]
     },
     "execution_count": 20,
     "metadata": {},
     "output_type": "execute_result"
    }
   ],
   "source": [
    "from sklearn.feature_selection import RFE\n",
    "\n",
    "# Init the transformer\n",
    "rfe = RFE(estimator=LinearRegression(), n_features_to_select=10)\n",
    "\n",
    "# Fit to the training data\n",
    "rfe.fit(X_train_std, y_train)"
   ]
  },
  {
   "cell_type": "code",
   "execution_count": null,
   "metadata": {
    "colab": {
     "base_uri": "https://localhost:8080/"
    },
    "id": "NkxavFAYMUvo",
    "outputId": "876667c4-1ad8-4048-b65d-0e082d11026b"
   },
   "outputs": [
    {
     "data": {
      "text/plain": [
       "array([False, False, False, False, False, False, False, False, False,\n",
       "       False, False, False, False, False, False, False, False, False,\n",
       "       False,  True, False, False, False, False, False, False,  True,\n",
       "       False, False, False, False, False, False, False,  True, False,\n",
       "       False, False, False, False, False, False, False, False, False,\n",
       "       False, False, False, False, False, False, False, False, False,\n",
       "       False, False,  True,  True, False, False, False, False, False,\n",
       "       False, False, False, False, False, False, False, False,  True,\n",
       "       False, False, False, False,  True, False, False, False, False,\n",
       "        True, False, False, False, False, False, False, False, False,\n",
       "        True,  True, False, False, False, False, False, False])"
      ]
     },
     "execution_count": 21,
     "metadata": {},
     "output_type": "execute_result"
    }
   ],
   "source": [
    "rfe.support_"
   ]
  },
  {
   "cell_type": "markdown",
   "metadata": {
    "id": "gnOJ2U13al11"
   },
   "source": [
    "After fitting the estimator, it has a .support_ attribute that gives a boolean mask with False values for discarded features. We can use it to subset our data:"
   ]
  },
  {
   "cell_type": "code",
   "execution_count": null,
   "metadata": {
    "colab": {
     "base_uri": "https://localhost:8080/",
     "height": 437
    },
    "id": "h6OUxJT6aJPK",
    "outputId": "18d7a664-5ee1-4745-960b-4d76457535d8"
   },
   "outputs": [
    {
     "data": {
      "text/html": [
       "<div>\n",
       "<style scoped>\n",
       "    .dataframe tbody tr th:only-of-type {\n",
       "        vertical-align: middle;\n",
       "    }\n",
       "\n",
       "    .dataframe tbody tr th {\n",
       "        vertical-align: top;\n",
       "    }\n",
       "\n",
       "    .dataframe thead th {\n",
       "        text-align: right;\n",
       "    }\n",
       "</style>\n",
       "<table border=\"1\" class=\"dataframe\">\n",
       "  <thead>\n",
       "    <tr style=\"text-align: right;\">\n",
       "      <th></th>\n",
       "      <th>buttockkneelength</th>\n",
       "      <th>chestheight</th>\n",
       "      <th>eyeheightsitting</th>\n",
       "      <th>kneeheightmidpatella</th>\n",
       "      <th>kneeheightsitting</th>\n",
       "      <th>sittingheight</th>\n",
       "      <th>suprasternaleheight</th>\n",
       "      <th>tibialheight</th>\n",
       "      <th>waistheightomphalion</th>\n",
       "      <th>weightkg</th>\n",
       "    </tr>\n",
       "  </thead>\n",
       "  <tbody>\n",
       "    <tr>\n",
       "      <th>1473</th>\n",
       "      <td>596</td>\n",
       "      <td>1065</td>\n",
       "      <td>725</td>\n",
       "      <td>420</td>\n",
       "      <td>485</td>\n",
       "      <td>828</td>\n",
       "      <td>1256</td>\n",
       "      <td>401</td>\n",
       "      <td>902</td>\n",
       "      <td>846</td>\n",
       "    </tr>\n",
       "    <tr>\n",
       "      <th>1754</th>\n",
       "      <td>579</td>\n",
       "      <td>1171</td>\n",
       "      <td>768</td>\n",
       "      <td>447</td>\n",
       "      <td>510</td>\n",
       "      <td>880</td>\n",
       "      <td>1335</td>\n",
       "      <td>435</td>\n",
       "      <td>1007</td>\n",
       "      <td>644</td>\n",
       "    </tr>\n",
       "    <tr>\n",
       "      <th>704</th>\n",
       "      <td>489</td>\n",
       "      <td>1054</td>\n",
       "      <td>722</td>\n",
       "      <td>387</td>\n",
       "      <td>440</td>\n",
       "      <td>841</td>\n",
       "      <td>1201</td>\n",
       "      <td>380</td>\n",
       "      <td>861</td>\n",
       "      <td>488</td>\n",
       "    </tr>\n",
       "    <tr>\n",
       "      <th>82</th>\n",
       "      <td>633</td>\n",
       "      <td>1159</td>\n",
       "      <td>763</td>\n",
       "      <td>450</td>\n",
       "      <td>517</td>\n",
       "      <td>872</td>\n",
       "      <td>1360</td>\n",
       "      <td>444</td>\n",
       "      <td>1008</td>\n",
       "      <td>786</td>\n",
       "    </tr>\n",
       "    <tr>\n",
       "      <th>1387</th>\n",
       "      <td>583</td>\n",
       "      <td>1175</td>\n",
       "      <td>739</td>\n",
       "      <td>460</td>\n",
       "      <td>511</td>\n",
       "      <td>849</td>\n",
       "      <td>1300</td>\n",
       "      <td>438</td>\n",
       "      <td>959</td>\n",
       "      <td>695</td>\n",
       "    </tr>\n",
       "    <tr>\n",
       "      <th>...</th>\n",
       "      <td>...</td>\n",
       "      <td>...</td>\n",
       "      <td>...</td>\n",
       "      <td>...</td>\n",
       "      <td>...</td>\n",
       "      <td>...</td>\n",
       "      <td>...</td>\n",
       "      <td>...</td>\n",
       "      <td>...</td>\n",
       "      <td>...</td>\n",
       "    </tr>\n",
       "    <tr>\n",
       "      <th>619</th>\n",
       "      <td>552</td>\n",
       "      <td>1108</td>\n",
       "      <td>781</td>\n",
       "      <td>418</td>\n",
       "      <td>469</td>\n",
       "      <td>888</td>\n",
       "      <td>1270</td>\n",
       "      <td>402</td>\n",
       "      <td>913</td>\n",
       "      <td>564</td>\n",
       "    </tr>\n",
       "    <tr>\n",
       "      <th>588</th>\n",
       "      <td>591</td>\n",
       "      <td>1195</td>\n",
       "      <td>769</td>\n",
       "      <td>460</td>\n",
       "      <td>519</td>\n",
       "      <td>880</td>\n",
       "      <td>1350</td>\n",
       "      <td>448</td>\n",
       "      <td>984</td>\n",
       "      <td>619</td>\n",
       "    </tr>\n",
       "    <tr>\n",
       "      <th>1419</th>\n",
       "      <td>599</td>\n",
       "      <td>1107</td>\n",
       "      <td>712</td>\n",
       "      <td>427</td>\n",
       "      <td>486</td>\n",
       "      <td>803</td>\n",
       "      <td>1300</td>\n",
       "      <td>417</td>\n",
       "      <td>929</td>\n",
       "      <td>717</td>\n",
       "    </tr>\n",
       "    <tr>\n",
       "      <th>1442</th>\n",
       "      <td>645</td>\n",
       "      <td>1174</td>\n",
       "      <td>790</td>\n",
       "      <td>469</td>\n",
       "      <td>540</td>\n",
       "      <td>910</td>\n",
       "      <td>1378</td>\n",
       "      <td>457</td>\n",
       "      <td>980</td>\n",
       "      <td>962</td>\n",
       "    </tr>\n",
       "    <tr>\n",
       "      <th>739</th>\n",
       "      <td>568</td>\n",
       "      <td>1164</td>\n",
       "      <td>751</td>\n",
       "      <td>451</td>\n",
       "      <td>501</td>\n",
       "      <td>862</td>\n",
       "      <td>1338</td>\n",
       "      <td>441</td>\n",
       "      <td>953</td>\n",
       "      <td>621</td>\n",
       "    </tr>\n",
       "  </tbody>\n",
       "</table>\n",
       "<p>1390 rows × 10 columns</p>\n",
       "</div>"
      ],
      "text/plain": [
       "      buttockkneelength  chestheight  ...  waistheightomphalion  weightkg\n",
       "1473                596         1065  ...                   902       846\n",
       "1754                579         1171  ...                  1007       644\n",
       "704                 489         1054  ...                   861       488\n",
       "82                  633         1159  ...                  1008       786\n",
       "1387                583         1175  ...                   959       695\n",
       "...                 ...          ...  ...                   ...       ...\n",
       "619                 552         1108  ...                   913       564\n",
       "588                 591         1195  ...                   984       619\n",
       "1419                599         1107  ...                   929       717\n",
       "1442                645         1174  ...                   980       962\n",
       "739                 568         1164  ...                   953       621\n",
       "\n",
       "[1390 rows x 10 columns]"
      ]
     },
     "execution_count": 22,
     "metadata": {},
     "output_type": "execute_result"
    }
   ],
   "source": [
    "X_train.loc[:, rfe.support_]"
   ]
  },
  {
   "cell_type": "markdown",
   "metadata": {
    "id": "zSczhxh4aqM_"
   },
   "source": [
    "Or you can directly call .transform() to get a new numpy array with the relevant features. Let's use this smaller subset to test Linear Regression once again:"
   ]
  },
  {
   "cell_type": "code",
   "execution_count": null,
   "metadata": {
    "colab": {
     "base_uri": "https://localhost:8080/"
    },
    "id": "Nw_l6Bcnanyh",
    "outputId": "3b72e788-f85c-4e12-a9d1-523f9d79e769"
   },
   "outputs": [
    {
     "data": {
      "text/plain": [
       "0.9301176042722895"
      ]
     },
     "execution_count": 23,
     "metadata": {},
     "output_type": "execute_result"
    }
   ],
   "source": [
    "# Init, fit, score\n",
    "lr = LinearRegression()\n",
    "_ = lr.fit(rfe.transform(X_train_std), y_train)\n",
    "lr.score(rfe.transform(X_test_std), y_test)"
   ]
  },
  {
   "cell_type": "markdown",
   "metadata": {
    "id": "KMRmji_Sa05j"
   },
   "source": [
    "Even after dropping almost 90 features, we got the same score which is very impressive!"
   ]
  },
  {
   "cell_type": "markdown",
   "metadata": {
    "id": "yRKulhGTa6Ag"
   },
   "source": [
    "RFE Performance Considerations\n",
    "\n",
    "Since RFE trains the given model on the full dataset every time it drops a feature, the computation time will be heavy for large datasets with many features as ours. To control this behavior, RFE provides step parameter that lets us drop an arbitrary number of features in each iteration instead of one:\n"
   ]
  },
  {
   "cell_type": "code",
   "execution_count": null,
   "metadata": {
    "colab": {
     "base_uri": "https://localhost:8080/"
    },
    "id": "FhQJ8IMFayaW",
    "outputId": "30ba0600-3a84-407f-8af3-375955026862"
   },
   "outputs": [
    {
     "name": "stdout",
     "output_type": "stream",
     "text": [
      "Index(['axillaheight', 'buttockkneelength', 'cervicaleheight', 'crotchheight',\n",
      "       'eyeheightsitting', 'sittingheight', 'suprasternaleheight',\n",
      "       'tibialheight', 'waistheightomphalion', 'weightkg'],\n",
      "      dtype='object')\n"
     ]
    }
   ],
   "source": [
    "# Init the transformer\n",
    "rfe = RFE(estimator=LinearRegression(), \n",
    "          n_features_to_select=10, step=10)\n",
    "_ = rfe.fit(X_train_std, y_train)\n",
    "\n",
    "print(X_train.columns[rfe.support_])"
   ]
  },
  {
   "cell_type": "markdown",
   "metadata": {
    "id": "3vDMM-RRbJml"
   },
   "source": [
    "**Choosing the number of features to keep automatically**\n",
    "\n",
    "The most important hyperparameters of RFE are estimator and n_features_to_select. In the last example, we arbitrarily chose 10 features and hoped for the best. However, as RFE can be wrapped around any model, we have to choose the number of relevant features based on their performance.\n",
    "\n",
    "To achieve this, Sklearn provides a similar RFECV class which implements Recursive Feature Elimination with cross-validation and automatically finds the optimal number of features to keep. \n",
    "\n",
    "Below is an example that uses RFECV around a simple Linear Regression. We will be choosing Linear regression because we can guess there will be a linear correlation between body measurements. Besides, combined with cross-validation, Random Forest Regressor will become more computationally expensive:"
   ]
  },
  {
   "cell_type": "markdown",
   "metadata": {
    "id": "x14Z3TQlPUeE"
   },
   "source": [
    "![CV.png](data:image/png;base64,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)"
   ]
  },
  {
   "cell_type": "code",
   "execution_count": null,
   "metadata": {
    "id": "JWnQb05MbM_Z"
   },
   "outputs": [],
   "source": [
    "from sklearn.feature_selection import RFECV\n",
    "from sklearn.linear_model import LinearRegression\n",
    "\n",
    "# Init, fit\n",
    "rfecv = RFECV(\n",
    "    estimator=LinearRegression(),\n",
    "    min_features_to_select=5,\n",
    "    step=5,\n",
    "    n_jobs=-1,\n",
    "    scoring=\"r2\",\n",
    "    cv=5,\n",
    ")\n",
    "\n",
    "_ = rfecv.fit(X_train_std, y_train)"
   ]
  },
  {
   "cell_type": "markdown",
   "metadata": {
    "id": "C8c32eqgbcan"
   },
   "source": [
    "I provided the default values to cv and scoring parameters. A new hyperparameter is min_features_to_select - you can probably guess what it does from the name. Let's see how many features the estimator computed to keep:\n"
   ]
  },
  {
   "cell_type": "code",
   "execution_count": null,
   "metadata": {
    "colab": {
     "base_uri": "https://localhost:8080/"
    },
    "id": "bFPRnGKqbaME",
    "outputId": "27ebc795-546a-4535-dfd5-3f517bc1e2df"
   },
   "outputs": [
    {
     "data": {
      "text/plain": [
       "Index(['axillaheight', 'buttockkneelength', 'cervicaleheight', 'chestheight',\n",
       "       'crotchheight', 'eyeheightsitting', 'sittingheight',\n",
       "       'suprasternaleheight', 'tibialheight', 'verticaltrunkcircumferenceusa',\n",
       "       'waistheightomphalion', 'weightkg', 'wristheight'],\n",
       "      dtype='object')"
      ]
     },
     "execution_count": 26,
     "metadata": {},
     "output_type": "execute_result"
    }
   ],
   "source": [
    "X_train.columns[rfecv.support_]"
   ]
  },
  {
   "cell_type": "code",
   "execution_count": null,
   "metadata": {
    "colab": {
     "base_uri": "https://localhost:8080/"
    },
    "id": "LNm6TWQ7bmOO",
    "outputId": "dab8699f-2450-4389-cca8-32ac910f1831"
   },
   "outputs": [
    {
     "data": {
      "text/plain": [
       "13"
      ]
     },
     "execution_count": 27,
     "metadata": {},
     "output_type": "execute_result"
    }
   ],
   "source": [
    "len(X_train.columns[rfecv.support_])"
   ]
  },
  {
   "cell_type": "code",
   "execution_count": null,
   "metadata": {
    "colab": {
     "base_uri": "https://localhost:8080/"
    },
    "id": "cgtsWZvbbqnm",
    "outputId": "29b121e9-89b5-44ae-cf5c-78c4b419621d"
   },
   "outputs": [
    {
     "data": {
      "text/plain": [
       "98"
      ]
     },
     "execution_count": 28,
     "metadata": {},
     "output_type": "execute_result"
    }
   ],
   "source": [
    "len(X_train.columns)"
   ]
  },
  {
   "cell_type": "markdown",
   "metadata": {
    "id": "wwS8JVcublUX"
   },
   "source": [
    "RFECV tells us to keep only 13 out of 98. Let's train the model only on those 5 and look at its performance:"
   ]
  },
  {
   "cell_type": "code",
   "execution_count": null,
   "metadata": {
    "colab": {
     "base_uri": "https://localhost:8080/"
    },
    "id": "EfapdefebhbE",
    "outputId": "d8adb4ad-7e64-49d7-d0e0-43f3a5cf7b1f"
   },
   "outputs": [
    {
     "name": "stdout",
     "output_type": "stream",
     "text": [
      "Training R-sqaured: 0.9531432571534393\n",
      "Testing R-squared: 0.9132096151711426\n"
     ]
    }
   ],
   "source": [
    "lr = LinearRegression()\n",
    "_ = lr.fit(X_train_std, y_train)\n",
    "\n",
    "print(\"Training R-sqaured:\", lr.score(X_train_std, y_train))\n",
    "print(\"Testing R-squared:\",lr.score(X_test_std, y_test))"
   ]
  },
  {
   "cell_type": "markdown",
   "metadata": {
    "id": "K5MBrX4bb1GI"
   },
   "source": [
    "Even after dropping 93 features, we still got an impressive score of 0.956."
   ]
  },
  {
   "cell_type": "markdown",
   "metadata": {
    "id": "rdDAE1JFhcyL"
   },
   "source": [
    "# Variance Inflation Factor\n",
    "\n",
    "https://online.stat.psu.edu/stat462/node/180/\n",
    "\n",
    "https://statisticsbyjim.com/regression/variance-inflation-factors/\n",
    "\n",
    "Dataset Link:\n",
    "\n",
    "https://raw.githubusercontent.com/ingledarshan/upGrad_Darshan/main/BMI.csv"
   ]
  },
  {
   "cell_type": "markdown",
   "metadata": {
    "id": "0HjbAE7kiQX5"
   },
   "source": [
    "# Detecting Multicollinearity with VIF – Python\n",
    "\n",
    "Multicollinearity occurs when there are two or more independent variables in a multiple regression model, which have a high correlation among themselves. When some features are highly correlated, we might have difficulty in distinguishing between their individual effects on the dependent variable. Multicollinearity can be detected using various techniques, one such technique being the Variance Inflation Factor(VIF).\n",
    "\n",
    "In VIF method, we pick each feature and regress it against all of the other features. For each regression, the factor is calculated as :\n",
    "\n"
   ]
  },
  {
   "cell_type": "markdown",
   "metadata": {
    "id": "4pc64wFiiafI"
   },
   "source": [
    "![VIF_variance_inflation_factor.gif](data:image/gif;base64,R0lGODdhgQHIALMAAAAAAIAAAACAAICAAAAAgIAAgACAgICAgMDAwP8AAAD/AP//AAAA//8A/wD//////ywAAAAAgQHIAAME//DJSau9OOvNu/9gKI5kaZ5oqq5s675wLM90bd94ru987//AoHBILBqPyKRyyWw6n9CodEqtWq/YrHbL7Xq/4LB4TC6bz+i0es1uu9/wuHxOr9vv+Lx+z+/7/4CBgoOEhYaHWwCIi4wjAI+NkZIYj5WTl5KVmpich5qfnaGBn6Sipnykpaerfaqsr3iusLNzsrS3bra4u2m6vL9kvsDDX8LEx1rGyMtWoMzPyZvQ083S1NdRztjbTdrc30je4OND4uTnPubo6znq7O807vDzL/L09yr2+Psl+vz/IPwBHLhBIMGDFgwiXPhAIcODDh8OjCjxH8WK+y5ivKdx47yOHv/fgQy5biRJcspO8kupEh/LlvRewoQnc2bJVH5S6bREaac1nzorAB1KdBtRk2KO8rxwdIJSSD2fKrWJZmcInBqsdpDalGrVmk79BfUwlixYr1jOShBYlkPbrUjROlHbcGlBsFiv2pU7hu7erHjp1lXEt4zav4CtmdWIuLCXs40zQAZJ2HHfiFADYu6Y2XKYwJU/TFas1/Nl0olFjI4M13RSg6wlb0btuhbtniRWd65t+3bC3aJnA5fN28zL2LJ9R0W+NnTx18qbO9cc/Xf1us+Ni51OnTkF2NyzP9bnnanw4dbFB7NX3vz179vRq0/EPnzw92FZC87N9en85fK1557/gP3JV0+BXf0nlDsCWkcggjggmKCC+aHXoIMGDgicVjdIWBSFFVpoX3cZYjjiYCeCSIUvFy6In3TMtaiiErrICN+LKJaI3Yxd2GLjjQ9epyOPUPg4pFvnpbjjGx426eSTUEbZHwyy/BiikkAOeSSR3Whj5ZV6vYcll3N5OSZcOO5HZhVmnnlXmnGt+YQqX4JJops6SKkmWqXUaed9flKpJ46W9bklmkEGeuCghxb6Fgq64SnnFY9Cet6kvewJ4JmapoepEXmtEGkLhH4aT5xZctopkKYWgeqVqr66ZKtCyJrjlqHSekKl7ZSKZE286hpmrnkqCiOxLnIo7LDKFitp/3L+wQrUspphmE6jWfhqmn3aGtKtYwEa2wq2roUr7h7nevYtIemqS64n7/637iDtghtvIfVWY0q+d/ArxbxMFMjCvfgS3KOtoEpo6bPwGhzNqmUK3A/DDcvhU6YMCuawIABXc/FX9ZW68SiZjcwmxBHHhixgt/Bk8skIJ5HSyri1DMnLHvtbTnzl4QxIzCsCfQRLNH9H7a861yok0RTLiXKX3s18os/udgx1jMoYmLRXTy9xnDFTHd01jWLKEy21Y8tc9m1noy00EV+/PWnaQ6+9NZd0J4y13HPzDQTTfjsd+LXRFX20I4P3ELLVhx/b9JwSNz5w4jtELvnkjIeDGv/ltOa981+ct+p5EBnf3TlnjI5cOtWX75e66myHjqnrr2NuLuuN0566qMrJ3nfmrvbu+5qj/7A47mIPLwPPj1+uYfNqI1e8sNPzwDz0zv9ZzNLA5668oFF/P2P1zmopvorkR6gQeNgL3v3fL8adfWKm1+CQ/PNvun386f9e//Kjyt/EzpcPwyXrfafrXwymtRgFKkgqQWvbpggowPVQsIIHax8G+4W8Deaigx5kw/9CeBkSXmKEJgQDClM4HhZGYoUupI8GY9gGGNKQUiC8IXR06C1L5JCHMrQhEIuEwCEa8YhITKISl8jEJjrxiVCMohSnSMUqWvGKWMyiFrfIxS4FelENEfAAOw==)"
   ]
  },
  {
   "cell_type": "markdown",
   "metadata": {
    "id": "5xr4scOcidPB"
   },
   "source": [
    "Where, R-squared is the coefficient of determination in linear regression. Its value lies between 0 and 1.\n",
    "\n",
    "As we see from the formula, greater the value of R-squared, greater is the VIF. Hence, greater VIF denotes greater correlation. This is in agreement with the fact that a higher R-squared value denotes a stronger collinearity. Generally, a VIF above 5 indicates a high multicollinearity. "
   ]
  },
  {
   "cell_type": "markdown",
   "metadata": {
    "id": "Gsz-rnytijba"
   },
   "source": [
    "# Implementing VIF using statsmodels:\n",
    "\n",
    "statsmodels provides a function named variance_inflation_factor() for calculating VIF.\n",
    "\n",
    "Syntax : \n",
    "\n",
    "statsmodels.stats.outliers_influence.variance_inflation_factor(exog, exog_idx)\n",
    "\n",
    "Parameters :\n",
    "\n",
    "exog : an array containing features on which linear regression is performed.\n",
    "\n",
    "exog_idx : index of the additional feature whose influence on the other features is to be measured."
   ]
  },
  {
   "cell_type": "markdown",
   "metadata": {
    "id": "VzaYrwUjit0a"
   },
   "source": [
    "The dataset used in the example below, contains the height, weight, gender and Body Mass Index for 500 persons. Here the dependent variable is Index. "
   ]
  },
  {
   "cell_type": "code",
   "execution_count": null,
   "metadata": {
    "id": "L2TUJz2hbyph"
   },
   "outputs": [],
   "source": [
    "import pandas as pd \n",
    "  \n",
    "# the dataset\n",
    "data = pd.read_csv('https://raw.githubusercontent.com/ingledarshan/upGrad_Darshan/main/BMI.csv')"
   ]
  },
  {
   "cell_type": "code",
   "execution_count": null,
   "metadata": {
    "colab": {
     "base_uri": "https://localhost:8080/"
    },
    "id": "SMoXDStBi2nU",
    "outputId": "aa99d6cd-7ee6-427c-b5a5-8b6b8b82b64f"
   },
   "outputs": [
    {
     "name": "stdout",
     "output_type": "stream",
     "text": [
      "   Gender  Height  Weight  Index\n",
      "0    Male     174      96      4\n",
      "1    Male     189      87      2\n",
      "2  Female     185     110      4\n",
      "3  Female     195     104      3\n",
      "4    Male     149      61      3\n"
     ]
    }
   ],
   "source": [
    "# printing first few rows\n",
    "print(data.head())"
   ]
  },
  {
   "cell_type": "markdown",
   "metadata": {
    "id": "Y62jhDQmi6YK"
   },
   "source": [
    "# Approach :\n",
    "\n",
    "Each of the feature indices are passed to variance_inflation_factor() to find the corresponding VIF.\n",
    "\n",
    "These values are stored in the form of a Pandas DataFrame."
   ]
  },
  {
   "cell_type": "code",
   "execution_count": null,
   "metadata": {
    "colab": {
     "base_uri": "https://localhost:8080/",
     "height": 203
    },
    "id": "6l6dVgV2i4WC",
    "outputId": "8722ca08-08e9-4cd7-b36e-2bf2455a9f26"
   },
   "outputs": [
    {
     "data": {
      "text/html": [
       "<div>\n",
       "<style scoped>\n",
       "    .dataframe tbody tr th:only-of-type {\n",
       "        vertical-align: middle;\n",
       "    }\n",
       "\n",
       "    .dataframe tbody tr th {\n",
       "        vertical-align: top;\n",
       "    }\n",
       "\n",
       "    .dataframe thead th {\n",
       "        text-align: right;\n",
       "    }\n",
       "</style>\n",
       "<table border=\"1\" class=\"dataframe\">\n",
       "  <thead>\n",
       "    <tr style=\"text-align: right;\">\n",
       "      <th></th>\n",
       "      <th>Gender</th>\n",
       "      <th>Height</th>\n",
       "      <th>Weight</th>\n",
       "      <th>Index</th>\n",
       "    </tr>\n",
       "  </thead>\n",
       "  <tbody>\n",
       "    <tr>\n",
       "      <th>0</th>\n",
       "      <td>0</td>\n",
       "      <td>174</td>\n",
       "      <td>96</td>\n",
       "      <td>4</td>\n",
       "    </tr>\n",
       "    <tr>\n",
       "      <th>1</th>\n",
       "      <td>0</td>\n",
       "      <td>189</td>\n",
       "      <td>87</td>\n",
       "      <td>2</td>\n",
       "    </tr>\n",
       "    <tr>\n",
       "      <th>2</th>\n",
       "      <td>1</td>\n",
       "      <td>185</td>\n",
       "      <td>110</td>\n",
       "      <td>4</td>\n",
       "    </tr>\n",
       "    <tr>\n",
       "      <th>3</th>\n",
       "      <td>1</td>\n",
       "      <td>195</td>\n",
       "      <td>104</td>\n",
       "      <td>3</td>\n",
       "    </tr>\n",
       "    <tr>\n",
       "      <th>4</th>\n",
       "      <td>0</td>\n",
       "      <td>149</td>\n",
       "      <td>61</td>\n",
       "      <td>3</td>\n",
       "    </tr>\n",
       "  </tbody>\n",
       "</table>\n",
       "</div>"
      ],
      "text/plain": [
       "   Gender  Height  Weight  Index\n",
       "0       0     174      96      4\n",
       "1       0     189      87      2\n",
       "2       1     185     110      4\n",
       "3       1     195     104      3\n",
       "4       0     149      61      3"
      ]
     },
     "execution_count": 22,
     "metadata": {},
     "output_type": "execute_result"
    }
   ],
   "source": [
    "from statsmodels.stats.outliers_influence import variance_inflation_factor\n",
    "  \n",
    "# creating dummies for gender\n",
    "data['Gender'] = data['Gender'].map({'Male':0, 'Female':1})\n",
    "data.head()"
   ]
  },
  {
   "cell_type": "code",
   "execution_count": null,
   "metadata": {
    "id": "WcM8Iivti_Vq"
   },
   "outputs": [],
   "source": [
    "# the independent variables set\n",
    "X = data[['Gender', 'Height', 'Weight']]"
   ]
  },
  {
   "cell_type": "code",
   "execution_count": null,
   "metadata": {
    "colab": {
     "base_uri": "https://localhost:8080/",
     "height": 203
    },
    "id": "OLtp53N0jCcu",
    "outputId": "4036acf7-572e-4483-d488-ec3d0131cc3c"
   },
   "outputs": [
    {
     "data": {
      "text/html": [
       "<div>\n",
       "<style scoped>\n",
       "    .dataframe tbody tr th:only-of-type {\n",
       "        vertical-align: middle;\n",
       "    }\n",
       "\n",
       "    .dataframe tbody tr th {\n",
       "        vertical-align: top;\n",
       "    }\n",
       "\n",
       "    .dataframe thead th {\n",
       "        text-align: right;\n",
       "    }\n",
       "</style>\n",
       "<table border=\"1\" class=\"dataframe\">\n",
       "  <thead>\n",
       "    <tr style=\"text-align: right;\">\n",
       "      <th></th>\n",
       "      <th>Gender</th>\n",
       "      <th>Height</th>\n",
       "      <th>Weight</th>\n",
       "    </tr>\n",
       "  </thead>\n",
       "  <tbody>\n",
       "    <tr>\n",
       "      <th>0</th>\n",
       "      <td>0</td>\n",
       "      <td>174</td>\n",
       "      <td>96</td>\n",
       "    </tr>\n",
       "    <tr>\n",
       "      <th>1</th>\n",
       "      <td>0</td>\n",
       "      <td>189</td>\n",
       "      <td>87</td>\n",
       "    </tr>\n",
       "    <tr>\n",
       "      <th>2</th>\n",
       "      <td>1</td>\n",
       "      <td>185</td>\n",
       "      <td>110</td>\n",
       "    </tr>\n",
       "    <tr>\n",
       "      <th>3</th>\n",
       "      <td>1</td>\n",
       "      <td>195</td>\n",
       "      <td>104</td>\n",
       "    </tr>\n",
       "    <tr>\n",
       "      <th>4</th>\n",
       "      <td>0</td>\n",
       "      <td>149</td>\n",
       "      <td>61</td>\n",
       "    </tr>\n",
       "  </tbody>\n",
       "</table>\n",
       "</div>"
      ],
      "text/plain": [
       "   Gender  Height  Weight\n",
       "0       0     174      96\n",
       "1       0     189      87\n",
       "2       1     185     110\n",
       "3       1     195     104\n",
       "4       0     149      61"
      ]
     },
     "execution_count": 24,
     "metadata": {},
     "output_type": "execute_result"
    }
   ],
   "source": [
    "X.head()"
   ]
  },
  {
   "cell_type": "code",
   "execution_count": null,
   "metadata": {
    "colab": {
     "base_uri": "https://localhost:8080/",
     "height": 142
    },
    "id": "G-I0eiD5jDLk",
    "outputId": "4495c944-9e41-44a5-a3c3-576149a112de"
   },
   "outputs": [
    {
     "data": {
      "text/html": [
       "<div>\n",
       "<style scoped>\n",
       "    .dataframe tbody tr th:only-of-type {\n",
       "        vertical-align: middle;\n",
       "    }\n",
       "\n",
       "    .dataframe tbody tr th {\n",
       "        vertical-align: top;\n",
       "    }\n",
       "\n",
       "    .dataframe thead th {\n",
       "        text-align: right;\n",
       "    }\n",
       "</style>\n",
       "<table border=\"1\" class=\"dataframe\">\n",
       "  <thead>\n",
       "    <tr style=\"text-align: right;\">\n",
       "      <th></th>\n",
       "      <th>feature</th>\n",
       "    </tr>\n",
       "  </thead>\n",
       "  <tbody>\n",
       "    <tr>\n",
       "      <th>0</th>\n",
       "      <td>Gender</td>\n",
       "    </tr>\n",
       "    <tr>\n",
       "      <th>1</th>\n",
       "      <td>Height</td>\n",
       "    </tr>\n",
       "    <tr>\n",
       "      <th>2</th>\n",
       "      <td>Weight</td>\n",
       "    </tr>\n",
       "  </tbody>\n",
       "</table>\n",
       "</div>"
      ],
      "text/plain": [
       "  feature\n",
       "0  Gender\n",
       "1  Height\n",
       "2  Weight"
      ]
     },
     "execution_count": 25,
     "metadata": {},
     "output_type": "execute_result"
    }
   ],
   "source": [
    "# VIF dataframe\n",
    "vif_data = pd.DataFrame()\n",
    "vif_data[\"feature\"] = X.columns\n",
    "vif_data"
   ]
  },
  {
   "cell_type": "code",
   "execution_count": null,
   "metadata": {
    "colab": {
     "base_uri": "https://localhost:8080/"
    },
    "id": "yi3BWGfgyZz3",
    "outputId": "788cf8ab-cb70-4a38-9d49-156cd09afff8"
   },
   "outputs": [
    {
     "data": {
      "text/plain": [
       "3"
      ]
     },
     "execution_count": 26,
     "metadata": {},
     "output_type": "execute_result"
    }
   ],
   "source": [
    "len(X.columns)"
   ]
  },
  {
   "cell_type": "code",
   "execution_count": null,
   "metadata": {
    "colab": {
     "base_uri": "https://localhost:8080/"
    },
    "id": "CONG5NvJjGqN",
    "outputId": "64dff05b-266d-479f-e085-b3e0411cd467"
   },
   "outputs": [
    {
     "name": "stdout",
     "output_type": "stream",
     "text": [
      "  feature        VIF\n",
      "0  Gender   2.028864\n",
      "1  Height  11.623103\n",
      "2  Weight  10.688377\n"
     ]
    }
   ],
   "source": [
    "# calculating VIF for each feature\n",
    "vif_data[\"VIF\"] = [variance_inflation_factor(X.values, i)\n",
    "                          for i in range(len(X.columns))]\n",
    "  \n",
    "print(vif_data)"
   ]
  },
  {
   "cell_type": "markdown",
   "metadata": {
    "id": "lc40eVPijLpo"
   },
   "source": [
    "As we can see, height and weight have very high values of VIF, indicating that these two variables are highly correlated. This is expected as the height of a person does influence their weight. Hence, considering these two features together leads to a model with high multicollinearity."
   ]
  },
  {
   "cell_type": "code",
   "execution_count": null,
   "metadata": {
    "id": "C38q3fKmjIaA"
   },
   "outputs": [],
   "source": []
  },
  {
   "cell_type": "markdown",
   "metadata": {
    "id": "9JNHStrej2iJ"
   },
   "source": [
    "# Final Compilation:\n",
    "\n",
    "**https://www.listendata.com/2018/01/linear-regression-in-python.html**\n",
    "\n",
    "# Happy Learning"
   ]
  }
 ],
 "metadata": {
  "accelerator": "GPU",
  "colab": {
   "collapsed_sections": [],
   "name": "RFE - Linear Regression.ipynb",
   "provenance": []
  },
  "kernelspec": {
   "display_name": "Python 3",
   "language": "python",
   "name": "python3"
  },
  "language_info": {
   "codemirror_mode": {
    "name": "ipython",
    "version": 3
   },
   "file_extension": ".py",
   "mimetype": "text/x-python",
   "name": "python",
   "nbconvert_exporter": "python",
   "pygments_lexer": "ipython3",
   "version": "3.7.6"
  }
 },
 "nbformat": 4,
 "nbformat_minor": 1
}
